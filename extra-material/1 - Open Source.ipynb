{
 "cells": [
  {
   "cell_type": "markdown",
   "metadata": {
    "slideshow": {
     "slide_type": "slide"
    }
   },
   "source": [
    "## Contributing to Open Source\n"
   ]
  },
  {
   "cell_type": "markdown",
   "metadata": {
    "slideshow": {
     "slide_type": "subslide"
    }
   },
   "source": [
    "### Why?"
   ]
  },
  {
   "cell_type": "markdown",
   "metadata": {
    "slideshow": {
     "slide_type": "fragment"
    }
   },
   "source": [
    "1. It is fun!\n",
    "2. You will learn a lot.\n",
    "3. Review by others teaches you to write better code\n",
    "4. It leads to better science"
   ]
  },
  {
   "cell_type": "markdown",
   "metadata": {
    "slideshow": {
     "slide_type": "subslide"
    }
   },
   "source": [
    "### Why not?"
   ]
  },
  {
   "cell_type": "markdown",
   "metadata": {
    "slideshow": {
     "slide_type": "fragment"
    }
   },
   "source": [
    "1. It takes time -- a lot of time\n",
    "2. Requires a thick skin\n",
    "3. Cross-cultural communication can be hard"
   ]
  },
  {
   "cell_type": "markdown",
   "metadata": {
    "slideshow": {
     "slide_type": "subslide"
    }
   },
   "source": [
    "### The structure of a contribution\n",
    "https://opensource.guide/how-to-contribute/\n",
    "\n",
    "1. Formulate a need: Why are you doing this, what do you want to achieve\n",
    "2. Communicate: Open an issue, write on the mailing-list (Especially for large contribution)\n",
    "3. Write-up a pull-request that is up to the standard (or better) than the project you contribute to\n",
    "  1. Have docs\n",
    "  2. Have tests\n",
    "4. Be kind to open-source maintainers and have patience"
   ]
  },
  {
   "cell_type": "markdown",
   "metadata": {
    "slideshow": {
     "slide_type": "subslide"
    }
   },
   "source": [
    "### How to contribute to a Julia package\n",
    "\n",
    "1. `]dev PackageName`\n",
    "2. `cd ~/.julia/dev/PackageName`\n",
    "3. create a branch `git checkout -b bugfix`\n",
    "4. Change!\n",
    "4. Test! `]test PackageName`\n",
    "5. Commit `git commit`"
   ]
  },
  {
   "cell_type": "markdown",
   "metadata": {
    "slideshow": {
     "slide_type": "subslide"
    }
   },
   "source": [
    "1. Fork package on github\n",
    "2. `git remote add me git@github.com/me/PackageName.jl`\n",
    "3. `git push -u me bugfix`\n",
    "4. Open PR! (explaining why and what you did)\n",
    "\n",
    "Or:\n",
    "```\n",
    "hub fork\n",
    "hub push -u me bugfix\n",
    "hub pull-request\n",
    "```"
   ]
  },
  {
   "cell_type": "markdown",
   "metadata": {
    "slideshow": {
     "slide_type": "subslide"
    }
   },
   "source": [
    "### How to contribute to Julia"
   ]
  },
  {
   "cell_type": "markdown",
   "metadata": {
    "slideshow": {
     "slide_type": "fragment"
    }
   },
   "source": [
    "#### Build Julia from source\n",
    "1. `git clone https://github.com/JuliaLang/julia`\n",
    "2. `cd julia && make -j`\n",
    "3. Change!\n",
    "4. `make testall` or `make -C test threads`\n",
    "5. As above"
   ]
  }
 ],
 "metadata": {
  "@webio": {
   "lastCommId": "8a444a6f16024908bbed222acf39af98",
   "lastKernelId": "79f16339-acd0-4ac7-a4a3-6526448b8887"
  },
  "celltoolbar": "Slideshow",
  "kernelspec": {
   "display_name": "Julia 1.1.1",
   "language": "julia",
   "name": "julia-1.1"
  },
  "language_info": {
   "file_extension": ".jl",
   "mimetype": "application/julia",
   "name": "julia",
   "version": "1.1.1"
  }
 },
 "nbformat": 4,
 "nbformat_minor": 4
}
