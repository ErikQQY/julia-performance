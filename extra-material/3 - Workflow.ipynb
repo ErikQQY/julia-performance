{
 "cells": [
  {
   "cell_type": "code",
   "execution_count": null,
   "metadata": {},
   "outputs": [],
   "source": [
    "- Revise.jl\n",
    "- Debugger.jl\n",
    "- Cthulhu.jl\n",
    "- VS Code\n"
   ]
  }
 ],
 "metadata": {
  "@webio": {
   "lastCommId": "b2f6f2b8bf764ad284b29bca821b9a26",
   "lastKernelId": "dd971dce-5ed0-4aba-90a3-594272cb3c49"
  },
  "kernelspec": {
   "display_name": "Julia 1.2.0",
   "language": "julia",
   "name": "julia-1.2"
  },
  "language_info": {
   "file_extension": ".jl",
   "mimetype": "application/julia",
   "name": "julia",
   "version": "1.2.0"
  }
 },
 "nbformat": 4,
 "nbformat_minor": 2
}
