{
 "cells": [
  {
   "cell_type": "markdown",
   "metadata": {
    "slideshow": {
     "slide_type": "slide"
    }
   },
   "source": [
    "### What is in a package\n",
    "https://github.com/JuliaLang/Example.jl\n",
    "\n",
    "- CI like Travis/CircleCI/Azure Pipelines/Appveyor\n",
    "- src/Examples.jl\n",
    "- test/runtests.jl\n",
    "- Project.toml\n",
    "- docs with Documenter.jl\n"
   ]
  },
  {
   "cell_type": "markdown",
   "metadata": {
    "slideshow": {
     "slide_type": "slide"
    }
   },
   "source": [
    "### Pkg.jl\n",
    "\n",
    "- TagBot https://github.com/JuliaRegistries/TagBot\n",
    "- Registrator https://github.com/JuliaRegistries/Registrator.jl\n",
    "- Project.toml is a description of dependencies\n",
    "- Manifest.toml is an instantiation of those dependencies"
   ]
  },
  {
   "cell_type": "markdown",
   "metadata": {
    "slideshow": {
     "slide_type": "slide"
    }
   },
   "source": [
    "## Starting a new package\n",
    "\n",
    "PkgTemplates.jl\n",
    "\n",
    "- `generate_interactive(\"MyPkg\")`\n"
   ]
  },
  {
   "cell_type": "code",
   "execution_count": 2,
   "metadata": {},
   "outputs": [
    {
     "name": "stdout",
     "output_type": "stream",
     "text": [
      "\u001b[32m\u001b[1m Resolving\u001b[22m\u001b[39m package versions...\n",
      "\u001b[32m\u001b[1m  Updating\u001b[22m\u001b[39m `~/Project.toml`\n",
      "\u001b[37m [no changes]\u001b[39m\n",
      "\u001b[32m\u001b[1m  Updating\u001b[22m\u001b[39m `~/Manifest.toml`\n",
      "\u001b[37m [no changes]\u001b[39m\n"
     ]
    }
   ],
   "source": [
    "] add PkgTemplates"
   ]
  },
  {
   "cell_type": "code",
   "execution_count": 4,
   "metadata": {},
   "outputs": [
    {
     "name": "stderr",
     "output_type": "stream",
     "text": [
      "┌ Info: Precompiling PkgTemplates [14b8a8f1-9102-5b29-a752-f990bacb7fe1]\n",
      "└ @ Base loading.jl:1186\n"
     ]
    }
   ],
   "source": [
    "using PkgTemplates"
   ]
  },
  {
   "cell_type": "code",
   "execution_count": 5,
   "metadata": {},
   "outputs": [
    {
     "data": {
      "text/plain": [
       "Template:\n",
       "  → User: vchuravy\n",
       "  → Host: github.com\n",
       "  → License: MIT (Valentin Churavy <v.churavy@gmail.com> 2019)\n",
       "  → Package directory: ~/src\n",
       "  → Minimum Julia version: v1.0\n",
       "  → SSH remote: No\n",
       "  → Add packages to main environment: Yes\n",
       "  → Commit Manifest.toml: No\n",
       "  → Plugins: None"
      ]
     },
     "execution_count": 5,
     "metadata": {},
     "output_type": "execute_result"
    }
   ],
   "source": [
    "t = Template()"
   ]
  },
  {
   "cell_type": "code",
   "execution_count": 7,
   "metadata": {},
   "outputs": [
    {
     "name": "stdout",
     "output_type": "stream",
     "text": [
      "\u001b[32m\u001b[1mGenerating\u001b[22m\u001b[39m project MyPkg2:\n",
      "    /home/vchuravy/src/MyPkg2/Project.toml\n",
      "    /home/vchuravy/src/MyPkg2/src/MyPkg2.jl\n"
     ]
    },
    {
     "name": "stderr",
     "output_type": "stream",
     "text": [
      "┌ Info: Initialized Git repo at /home/vchuravy/src/MyPkg2\n",
      "└ @ PkgTemplates /home/vchuravy/.julia/packages/PkgTemplates/DXe8J/src/generate.jl:37\n",
      "┌ Info: Set remote origin to https://github.com/vchuravy/MyPkg2.jl\n",
      "└ @ PkgTemplates /home/vchuravy/.julia/packages/PkgTemplates/DXe8J/src/generate.jl:56\n"
     ]
    },
    {
     "name": "stdout",
     "output_type": "stream",
     "text": [
      "\u001b[32m\u001b[1m Resolving\u001b[22m\u001b[39m package versions...\n",
      "\u001b[32m\u001b[1m  Updating\u001b[22m\u001b[39m `~/src/MyPkg2/Project.toml`\n",
      " \u001b[37m [8dfed614]\u001b[39m\u001b[92m + Test \u001b[39m\n",
      "\u001b[32m\u001b[1m  Updating\u001b[22m\u001b[39m `~/src/MyPkg2/Manifest.toml`\n",
      " \u001b[37m [2a0f44e3]\u001b[39m\u001b[92m + Base64 \u001b[39m\n",
      " \u001b[37m [8ba89e20]\u001b[39m\u001b[92m + Distributed \u001b[39m\n",
      " \u001b[37m [b77e0a4c]\u001b[39m\u001b[92m + InteractiveUtils \u001b[39m\n",
      " \u001b[37m [56ddb016]\u001b[39m\u001b[92m + Logging \u001b[39m\n",
      " \u001b[37m [d6f4376e]\u001b[39m\u001b[92m + Markdown \u001b[39m\n",
      " \u001b[37m [9a3f8284]\u001b[39m\u001b[92m + Random \u001b[39m\n",
      " \u001b[37m [9e88b42a]\u001b[39m\u001b[92m + Serialization \u001b[39m\n",
      " \u001b[37m [6462fe0b]\u001b[39m\u001b[92m + Sockets \u001b[39m\n",
      " \u001b[37m [8dfed614]\u001b[39m\u001b[92m + Test \u001b[39m\n",
      "\u001b[32m\u001b[1m  Updating\u001b[22m\u001b[39m registry at `~/.julia/registries/General`\n",
      "\u001b[32m\u001b[1m  Updating\u001b[22m\u001b[39m git-repo `https://github.com/JuliaRegistries/General.git`\n",
      "\u001b[?25l\u001b[2K\u001b[?25h\u001b[32m\u001b[1m Resolving\u001b[22m\u001b[39m package versions...\n",
      "\u001b[32m\u001b[1m  Updating\u001b[22m\u001b[39m `~/src/MyPkg2/Project.toml`\n",
      "\u001b[37m [no changes]\u001b[39m\n",
      "\u001b[32m\u001b[1m  Updating\u001b[22m\u001b[39m `~/src/MyPkg2/Manifest.toml`\n",
      " \u001b[37m [2a0f44e3]\u001b[39m\u001b[91m - Base64 \u001b[39m\n",
      " \u001b[37m [8ba89e20]\u001b[39m\u001b[91m - Distributed \u001b[39m\n",
      " \u001b[37m [b77e0a4c]\u001b[39m\u001b[91m - InteractiveUtils \u001b[39m\n",
      " \u001b[37m [56ddb016]\u001b[39m\u001b[91m - Logging \u001b[39m\n",
      " \u001b[37m [d6f4376e]\u001b[39m\u001b[91m - Markdown \u001b[39m\n",
      " \u001b[37m [9a3f8284]\u001b[39m\u001b[91m - Random \u001b[39m\n",
      " \u001b[37m [9e88b42a]\u001b[39m\u001b[91m - Serialization \u001b[39m\n",
      " \u001b[37m [6462fe0b]\u001b[39m\u001b[91m - Sockets \u001b[39m\n",
      " \u001b[37m [8dfed614]\u001b[39m\u001b[91m - Test \u001b[39m\n"
     ]
    },
    {
     "name": "stderr",
     "output_type": "stream",
     "text": [
      "┌ Info: activating new environment at ~/Project.toml.\n",
      "└ @ Pkg.API /buildworker/worker/package_linux64/build/usr/share/julia/stdlib/v1.1/Pkg/src/API.jl:524\n",
      "┌ Info: Committed 6 files/directories: src/, Project.toml, test/, README.md, LICENSE, .gitignore\n",
      "└ @ PkgTemplates /home/vchuravy/.julia/packages/PkgTemplates/DXe8J/src/generate.jl:80\n"
     ]
    },
    {
     "name": "stdout",
     "output_type": "stream",
     "text": [
      "\u001b[32m\u001b[1m Resolving\u001b[22m\u001b[39m package versions...\n",
      "\u001b[32m\u001b[1m  Updating\u001b[22m\u001b[39m `~/Project.toml`\n",
      " \u001b[37m [feb90ffc]\u001b[39m\u001b[92m + MyPkg2 v0.1.0 [`~/src/MyPkg2`]\u001b[39m\n",
      "\u001b[32m\u001b[1m  Updating\u001b[22m\u001b[39m `~/Manifest.toml`\n",
      " \u001b[37m [feb90ffc]\u001b[39m\u001b[92m + MyPkg2 v0.1.0 [`~/src/MyPkg2`]\u001b[39m\n"
     ]
    },
    {
     "name": "stderr",
     "output_type": "stream",
     "text": [
      "┌ Info: New package is at /home/vchuravy/src/MyPkg2\n",
      "└ @ PkgTemplates /home/vchuravy/.julia/packages/PkgTemplates/DXe8J/src/generate.jl:93\n"
     ]
    }
   ],
   "source": [
    "generate(\"MyPkg2\", t)"
   ]
  },
  {
   "cell_type": "markdown",
   "metadata": {
    "slideshow": {
     "slide_type": "slide"
    }
   },
   "source": [
    "## Developing a package\n",
    "\n",
    "`] dev BenchmarkTools`\n",
    "\n",
    "Also see workflow."
   ]
  },
  {
   "cell_type": "markdown",
   "metadata": {
    "slideshow": {
     "slide_type": "slide"
    }
   },
   "source": [
    "## Tests\n",
    "- Base.Test\n",
    "- `] test BenchmarkTools`"
   ]
  },
  {
   "cell_type": "markdown",
   "metadata": {
    "slideshow": {
     "slide_type": "slide"
    }
   },
   "source": [
    "## Documentation\n",
    "- https://github.com/JuliaDocs/Documenter.jl"
   ]
  },
  {
   "cell_type": "markdown",
   "metadata": {
    "slideshow": {
     "slide_type": "slide"
    }
   },
   "source": [
    "## Registration\n",
    "\n",
    "- https://github.com/JuliaRegistries/Registrator.jl\n",
    "- https://github.com/JuliaRegistries/TagBot"
   ]
  },
  {
   "cell_type": "markdown",
   "metadata": {
    "slideshow": {
     "slide_type": "slide"
    }
   },
   "source": [
    "## Environments\n",
    "- `julia --project=.`\n",
    "- `] activate`\n"
   ]
  }
 ],
 "metadata": {
  "@webio": {
   "lastCommId": "a5dc009745734e2b816b5869fb687be3",
   "lastKernelId": "25fc3170-07fa-4b45-ab58-fabf39c7d5da"
  },
  "celltoolbar": "Slideshow",
  "kernelspec": {
   "display_name": "Julia 1.2.0",
   "language": "julia",
   "name": "julia-1.2"
  },
  "language_info": {
   "file_extension": ".jl",
   "mimetype": "application/julia",
   "name": "julia",
   "version": "1.2.0"
  }
 },
 "nbformat": 4,
 "nbformat_minor": 2
}
