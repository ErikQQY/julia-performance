{
 "cells": [
  {
   "cell_type": "markdown",
   "metadata": {
    "slideshow": {
     "slide_type": "slide"
    }
   },
   "source": [
    "## An intermediate tour through Julia\n",
    "by Valentin Churavy\n",
    "\n",
    "JuliaLab, CSAIL, MIT\n",
    "\n",
    "Twitter/Github: @vchuravy**\n",
    "\n",
    "![Logo](https://github.com/JuliaLang/julia-logo-graphics/raw/master/images/animated-logo.gif)\n",
    "\n"
   ]
  },
  {
   "cell_type": "markdown",
   "metadata": {
    "slideshow": {
     "slide_type": "slide"
    }
   },
   "source": [
    "# What is Julia?\n",
    "*Walks like Python, talks like Lips, runs like Fortran*\n",
    "- Modern high-level dynamic programming language\n",
    "- Engineered with performance in mind\n",
    "- n-based array access (but opinionated about 1-based)\n",
    "- Julia Manifesto: https://julialang.org/blog/2012/02/why-we-created-julia\n",
    "- Noteworthy differences: https://docs.julialang.org/en/latest/manual/noteworthy-differences/\n",
    "- The Julia promise: Within 2x of C at the ease of Python"
   ]
  },
  {
   "cell_type": "markdown",
   "metadata": {
    "slideshow": {
     "slide_type": "slide"
    }
   },
   "source": [
    "# Why Julia?\n",
    "\n",
    "*Come for the speed, stay for the productivity*\n",
    "\n",
    "- Elegant\n",
    "- Explorable & Understandable\n",
    "- No privileged types/code\n",
    "- No need to switch languages\n",
    "- Code that is close to the mathematics"
   ]
  },
  {
   "cell_type": "markdown",
   "metadata": {
    "slideshow": {
     "slide_type": "slide"
    }
   },
   "source": [
    "# What is the 2 language problem?\n",
    "\n",
    "- You start out proto-typing in one language (high-level, dynamic),\n",
    "- but performance forces you to switch to a different one (low-level, static).\n"
   ]
  },
  {
   "cell_type": "markdown",
   "metadata": {
    "slideshow": {
     "slide_type": "subslide"
    }
   },
   "source": [
    "- For **convinience** use a scripting language (Python, R, Matlab, ...)\n",
    "- but do all the **hard stuff** in a systems language (C, C++, Fortran)"
   ]
  },
  {
   "cell_type": "markdown",
   "metadata": {
    "slideshow": {
     "slide_type": "subslide"
    }
   },
   "source": [
    "Pragmatic for many applications, but has drawbacks\n",
    "- aren't the **hard parts** exactly where you need an **easier** language\n",
    "- creates a **social barrier** -- a wall between users and developers\n",
    "- **\"sandwich problem\"** -- layering of system & user code is expensive\n",
    "- **prohibits** full stack optimisations"
   ]
  },
  {
   "cell_type": "markdown",
   "metadata": {
    "slideshow": {
     "slide_type": "slide"
    }
   },
   "source": [
    "# Enter Julia:"
   ]
  },
  {
   "cell_type": "markdown",
   "metadata": {
    "slideshow": {
     "slide_type": "fragment"
    }
   },
   "source": [
    "- Most of the standard library is implemented **in Julia itself** \n",
    "- \"Users are developers\""
   ]
  },
  {
   "cell_type": "markdown",
   "metadata": {
    "slideshow": {
     "slide_type": "fragment"
    }
   },
   "source": [
    "- has a sophisticated type system\n",
    "- but it is not *necessary* to talk about types\n",
    "- has **multiple dispatch**: functions specialised on the types of their arguments"
   ]
  },
  {
   "cell_type": "markdown",
   "metadata": {
    "slideshow": {
     "slide_type": "subslide"
    }
   },
   "source": [
    "- has sophisticated **metaprogramming** (macros) for generating code programatically\n",
    "- allows the creation of domain-specific languages"
   ]
  },
  {
   "cell_type": "markdown",
   "metadata": {
    "slideshow": {
     "slide_type": "subslide"
    }
   },
   "source": [
    "Julia is:\n",
    "\n",
    "- open source & free\n",
    "- MIT license (allows commercial use)\n",
    "- developed by a worldwide community"
   ]
  },
  {
   "cell_type": "markdown",
   "metadata": {
    "slideshow": {
     "slide_type": "slide"
    }
   },
   "source": [
    "# Using Julia"
   ]
  },
  {
   "cell_type": "markdown",
   "metadata": {
    "slideshow": {
     "slide_type": "fragment"
    }
   },
   "source": [
    "- From the REPL (Read--Eval--Print Loop):\n",
    "  ```\n",
    "  julia\n",
    "  ```   \n",
    "- Inside IJulia notebook (Jupyter notebook with Julia kernel):\n",
    "  ```\n",
    "  ipython notebook\n",
    "  ```\n",
    "- Inside an IDE, e.g. Juno\n",
    "- Or editors like Visual Studio Code"
   ]
  },
  {
   "cell_type": "markdown",
   "metadata": {
    "slideshow": {
     "slide_type": "slide"
    }
   },
   "source": [
    "# Resources\n",
    "- Documentation: https://docs.julialang.org/en/stable/\n",
    "- Forum: https://discourse.julialang.org/\n",
    "- Issue tracker: https://github.com/JuliaLang/julia\n",
    "- Join us on Slack: https://slackinvite.julialang.org/\n",
    "- Packages: https://pkg.julialang.org\n",
    "- https://benlauwens.github.io/ThinkJulia.jl/latest/book.html\n",
    "- https://www.youtube.com/channel/UC9IuUwwE2xdjQUT_LMLONoA\n",
    "- Unreasonable effectiveness of Multiple Dispatch https://www.youtube.com/watch?v=HAEgGFqbVkA"
   ]
  },
  {
   "cell_type": "markdown",
   "metadata": {
    "slideshow": {
     "slide_type": "slide"
    }
   },
   "source": [
    "# Goal of this workshop!\n",
    "- Assumes some programming knowledge\n",
    "- We will talk about concepts, not syntax\n",
    "- Exercise sessions + project coding\n",
    "- **ASK QUESTIONS!**"
   ]
  },
  {
   "cell_type": "markdown",
   "metadata": {
    "slideshow": {
     "slide_type": "slide"
    }
   },
   "source": [
    "## Best practices for Scientific Code\n",
    "### What is reproducible science:"
   ]
  },
  {
   "cell_type": "markdown",
   "metadata": {
    "slideshow": {
     "slide_type": "fragment"
    }
   },
   "source": [
    "Questions:\n",
    "- Can you recreate the figures in your last paper?\n",
    "- How about the data analysis?\n",
    "- Did you clean the raw data?\n",
    "\n",
    "Automate the boring stuff!\n",
    "https://mikecroucher.github.io/NAG_IYRSC/\n"
   ]
  },
  {
   "cell_type": "markdown",
   "metadata": {
    "slideshow": {
     "slide_type": "subslide"
    }
   },
   "source": [
    "### Questions to ask yourself\n",
    "- Can your code be run on a different machine?\n",
    "- A different operating system?\n",
    "- By a different person?\n",
    "- Without you helping them?"
   ]
  },
  {
   "cell_type": "markdown",
   "metadata": {
    "slideshow": {
     "slide_type": "subslide"
    }
   },
   "source": [
    "### Scientific code needs:\n",
    "- Tests\n",
    "- Documentation\n",
    "- Version control\n",
    "\n",
    "Separate library code from \"analysis\" code. Use Jupyter notebooks for analyisis. \n"
   ]
  },
  {
   "cell_type": "markdown",
   "metadata": {
    "slideshow": {
     "slide_type": "slide"
    }
   },
   "source": [
    "### The version control life cycle\n",
    "\n",
    "1. git? No thanks, I'm scared\n",
    "2. well this is handy\n",
    "3. we're not using git? I'm scared\n",
    "\n",
    "https://twitter.com/bobearth/status/571154995506122755"
   ]
  },
  {
   "cell_type": "markdown",
   "metadata": {
    "slideshow": {
     "slide_type": "slide"
    }
   },
   "source": [
    "### Version control with Github\n",
    "\n",
    "- Put your code online!\n",
    "- Add a license MIT/Apache/GPL\n",
    "- Small changes -- document intent\n",
    "- Use PRs even if you are a sole author\n",
    "- Look into Zenodo to deposit code for a paper"
   ]
  }
 ],
 "metadata": {
  "@webio": {
   "lastCommId": "4e779cdd3912422e810a03da6ae36970",
   "lastKernelId": "38332b2d-746a-450a-a8c3-e5e9e0098090"
  },
  "celltoolbar": "Slideshow",
  "kernelspec": {
   "display_name": "Julia 1.2.0",
   "language": "julia",
   "name": "julia-1.2"
  },
  "language_info": {
   "file_extension": ".jl",
   "mimetype": "application/julia",
   "name": "julia",
   "version": "1.2.0"
  },
  "rise": {
   "scroll": true,
   "theme": "Serif"
  }
 },
 "nbformat": 4,
 "nbformat_minor": 4
}
