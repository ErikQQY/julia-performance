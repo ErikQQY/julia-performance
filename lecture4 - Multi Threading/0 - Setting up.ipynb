{
 "cells": [
  {
   "cell_type": "markdown",
   "metadata": {
    "slideshow": {
     "slide_type": "slide"
    }
   },
   "source": [
    "# Setting up Julia for Multithreading\n",
    "\n",
    "For best effect use Julia 1.2 or even better 1.3\n",
    "I will use Julia 1.3-rc4 for this lecture since\n",
    "multithreading support is under heavy development"
   ]
  },
  {
   "cell_type": "code",
   "execution_count": 1,
   "metadata": {
    "slideshow": {
     "slide_type": "subslide"
    }
   },
   "outputs": [
    {
     "name": "stdout",
     "output_type": "stream",
     "text": [
      "NCPU = 4\n",
      "nthreads() = 4\n"
     ]
    }
   ],
   "source": [
    "NCPU = Sys.CPU_THREADS\n",
    "using Base.Threads\n",
    "@show NCPU\n",
    "@show nthreads();"
   ]
  },
  {
   "cell_type": "markdown",
   "metadata": {
    "slideshow": {
     "slide_type": "fragment"
    }
   },
   "source": [
    "```bash\n",
    "export JULIA_NUM_THREADS=4\n",
    "# export JULIA_NUM_THREADS=`nproc`\n",
    "julia\n",
    "```"
   ]
  },
  {
   "cell_type": "code",
   "execution_count": 2,
   "metadata": {
    "slideshow": {
     "slide_type": "skip"
    }
   },
   "outputs": [
    {
     "name": "stdout",
     "output_type": "stream",
     "text": [
      "cpus = 1\n"
     ]
    },
    {
     "name": "stderr",
     "output_type": "stream",
     "text": [
      "┌ Info: Installing Julia (1 threads) kernelspec in /home/vchuravy/.local/share/jupyter/kernels/julia-(1-threads)-1.3\n",
      "└ @ IJulia /home/vchuravy/.julia/packages/IJulia/gI2uA/deps/kspec.jl:72\n"
     ]
    },
    {
     "name": "stdout",
     "output_type": "stream",
     "text": [
      "cpus = 2\n",
      "cpus = 4\n"
     ]
    },
    {
     "name": "stderr",
     "output_type": "stream",
     "text": [
      "┌ Info: Installing Julia (2 threads) kernelspec in /home/vchuravy/.local/share/jupyter/kernels/julia-(2-threads)-1.3\n",
      "└ @ IJulia /home/vchuravy/.julia/packages/IJulia/gI2uA/deps/kspec.jl:72\n",
      "┌ Info: Installing Julia (4 threads) kernelspec in /home/vchuravy/.local/share/jupyter/kernels/julia-(4-threads)-1.3\n",
      "└ @ IJulia /home/vchuravy/.julia/packages/IJulia/gI2uA/deps/kspec.jl:72\n"
     ]
    }
   ],
   "source": [
    "using IJulia\n",
    "for I in 0:1.0:log(2, NCPU)\n",
    "    cpus = 2^round(Int, I)\n",
    "    @show cpus\n",
    "    installkernel(\"Julia ($cpus threads)\", env=Dict(\"JULIA_NUM_THREADS\"=>\"$cpus\"))\n",
    "end\n",
    "# Now restart Jupyter and switch kernel"
   ]
  },
  {
   "cell_type": "markdown",
   "metadata": {
    "slideshow": {
     "slide_type": "slide"
    }
   },
   "source": [
    "## Your hardware (on linux)"
   ]
  },
  {
   "cell_type": "code",
   "execution_count": 14,
   "metadata": {
    "slideshow": {
     "slide_type": "fragment"
    }
   },
   "outputs": [
    {
     "name": "stdout",
     "output_type": "stream",
     "text": [
      "Architecture:                    x86_64\n",
      "CPU op-mode(s):                  32-bit, 64-bit\n",
      "Byte Order:                      Little Endian\n",
      "Address sizes:                   39 bits physical, 48 bits virtual\n",
      "CPU(s):                          4\n",
      "On-line CPU(s) list:             0-3\n",
      "Thread(s) per core:              2\n",
      "Core(s) per socket:              2\n",
      "Socket(s):                       1\n",
      "NUMA node(s):                    1\n",
      "Vendor ID:                       GenuineIntel\n",
      "CPU family:                      6\n",
      "Model:                           142\n",
      "Model name:                      Intel(R) Core(TM) i7-7660U CPU @ 2.50GHz\n",
      "Stepping:                        9\n",
      "CPU MHz:                         3438.326\n",
      "CPU max MHz:                     4000.0000\n",
      "CPU min MHz:                     400.0000\n",
      "BogoMIPS:                        4993.00\n",
      "Virtualization:                  VT-x\n",
      "L1d cache:                       64 KiB\n",
      "L1i cache:                       64 KiB\n",
      "L2 cache:                        512 KiB\n",
      "L3 cache:                        4 MiB\n",
      "NUMA node0 CPU(s):               0-3\n",
      "Vulnerability L1tf:              Mitigation; PTE Inversion; VMX conditional cache flushes, SMT vulnerable\n",
      "Vulnerability Mds:               Mitigation; Clear CPU buffers; SMT vulnerable\n",
      "Vulnerability Meltdown:          Mitigation; PTI\n",
      "Vulnerability Spec store bypass: Mitigation; Speculative Store Bypass disabled via prctl and seccomp\n",
      "Vulnerability Spectre v1:        Mitigation; __user pointer sanitization\n",
      "Vulnerability Spectre v2:        Mitigation; Full generic retpoline, IBPB conditional, IBRS_FW, STIBP conditional, RSB filling\n",
      "Flags:                           fpu vme de pse tsc msr pae mce cx8 apic sep mtrr pge mca cmov pat pse36 clflush dts acpi mmx fxsr sse sse2 ss ht tm pbe syscall nx pdpe1gb rdtscp lm constant_tsc art arch_perfmon pebs bts rep_good nopl xtopology nonstop_tsc cpuid aperfmperf tsc_known_freq pni pclmulqdq dtes64 monitor ds_cpl vmx smx est tm2 ssse3 sdbg fma cx16 xtpr pdcm pcid sse4_1 sse4_2 x2apic movbe popcnt tsc_deadline_timer aes xsave avx f16c rdrand lahf_lm abm 3dnowprefetch cpuid_fault epb invpcid_single pti ssbd ibrs ibpb stibp tpr_shadow vnmi flexpriority ept vpid ept_ad fsgsbase tsc_adjust bmi1 hle avx2 smep bmi2 erms invpcid rtm mpx rdseed adx smap clflushopt intel_pt xsaveopt xsavec xgetbv1 xsaves dtherm ida arat pln pts hwp hwp_notify hwp_act_window hwp_epp md_clear flush_l1d\n"
     ]
    }
   ],
   "source": [
    ";lscpu"
   ]
  },
  {
   "cell_type": "markdown",
   "metadata": {
    "slideshow": {
     "slide_type": "subslide"
    }
   },
   "source": [
    "```julia\n",
    "det!(A) = det(lufact!(A))\n",
    "det!(A) = det(LinearAlgebra.generic_lufact!(A))\n",
    "```\n",
    "\n",
    "`det!` originally was calling a `lufact!` from LAPACK,\n",
    "which is overkill for the matrix size. First attempt switch to a pure Julia implementation."
   ]
  },
  {
   "cell_type": "code",
   "execution_count": null,
   "metadata": {
    "slideshow": {
     "slide_type": "skip"
    }
   },
   "outputs": [],
   "source": [
    "using BenchmarkTools\n",
    "using StaticArrays\n",
    "using Base.Threads\n",
    "println(\"Number of threads: \", nthreads())"
   ]
  },
  {
   "cell_type": "code",
   "execution_count": null,
   "metadata": {
    "slideshow": {
     "slide_type": "subslide"
    }
   },
   "outputs": [],
   "source": [
    "function myfun(rng::MersenneTwister)\n",
    "    s = 0.0\n",
    "    N = 10000\n",
    "    for i=1:N\n",
    "        s += det(randn(rng, SMatrix{3, 3}))\n",
    "    end\n",
    "    s/N\n",
    "end"
   ]
  },
  {
   "cell_type": "code",
   "execution_count": null,
   "metadata": {
    "slideshow": {
     "slide_type": "skip"
    }
   },
   "outputs": [],
   "source": [
    "rgi   = [MersenneTwister(abs(rand(Int))) for s in 1:nthreads()]\n",
    "\n",
    "function bench(rgi)\n",
    "    a  = zeros(1000)\n",
    "    @threads for i=1:length(a)\n",
    "        @inbounds a[i] = myfun(rgi[threadid()])\n",
    "    end\n",
    "end"
   ]
  },
  {
   "cell_type": "code",
   "execution_count": 46,
   "metadata": {
    "slideshow": {
     "slide_type": "subslide"
    }
   },
   "outputs": [
    {
     "data": {
      "text/plain": [
       "BenchmarkTools.Trial: \n",
       "  memory estimate:  7.98 KiB\n",
       "  allocs estimate:  2\n",
       "  --------------\n",
       "  minimum time:     553.192 ms (0.00% GC)\n",
       "  median time:      748.534 ms (0.00% GC)\n",
       "  mean time:        741.813 ms (0.00% GC)\n",
       "  maximum time:     910.000 ms (0.00% GC)\n",
       "  --------------\n",
       "  samples:          7\n",
       "  evals/sample:     1"
      ]
     },
     "metadata": {},
     "output_type": "display_data"
    },
    {
     "name": "stdout",
     "output_type": "stream",
     "text": [
      "Number of threads: 1\n"
     ]
    }
   ],
   "source": [
    "result = @benchmark bench($rgi)\n",
    "display(result)"
   ]
  },
  {
   "cell_type": "markdown",
   "metadata": {
    "slideshow": {
     "slide_type": "slide"
    }
   },
   "source": [
    "### The future is near! Partr is coming\n",
    "- Julia 1.2 and 1.3\n",
    "- https://github.com/JuliaLang/julia/pull/32600\n",
    "- https://github.com/JuliaLang/julia/pull/32477\n",
    "- https://github.com/NHDaly/CspExamples.jl/blob/master/src/CspExamples.jl"
   ]
  },
  {
   "cell_type": "code",
   "execution_count": 17,
   "metadata": {
    "slideshow": {
     "slide_type": "skip"
    }
   },
   "outputs": [
    {
     "data": {
      "text/plain": [
       "@par (macro with 1 method)"
      ]
     },
     "execution_count": 17,
     "metadata": {},
     "output_type": "execute_result"
    }
   ],
   "source": [
    "macro par(expr)\n",
    "    thunk = esc(:(()->($expr)))\n",
    "    quote\n",
    "        local task = Task($thunk)\n",
    "        task.sticky = false\n",
    "        schedule(task)\n",
    "        task\n",
    "    end\n",
    "end"
   ]
  },
  {
   "cell_type": "code",
   "execution_count": 56,
   "metadata": {
    "slideshow": {
     "slide_type": "skip"
    }
   },
   "outputs": [
    {
     "ename": "ErrorException",
     "evalue": "type Task has no field sticky",
     "output_type": "error",
     "traceback": [
      "type Task has no field sticky",
      "",
      "Stacktrace:",
      " [1] setproperty!(::Task, ::Symbol, ::Bool) at ./sysimg.jl:19",
      " [2] top-level scope at In[17]:5",
      " [3] top-level scope at In[56]:1"
     ]
    }
   ],
   "source": [
    "@par println(\"Hello!\")"
   ]
  },
  {
   "cell_type": "markdown",
   "metadata": {
    "slideshow": {
     "slide_type": "subslide"
    }
   },
   "source": [
    "In Julia 1.3 task can be executed on multiple worker-threads allowing fine-grained control. This is concurrency ala Go/CSP.\n",
    "\n",
    "Our handy trick from above can then simply be written as:\n",
    "\n",
    "```julia\n",
    "tasks = Task[]\n",
    "for tid in 1:batches:workitems\n",
    "    task = @par begin\n",
    "    ### some work on batch\n",
    "    end\n",
    "    push!(tasks, task)\n",
    "end\n",
    "for task in tasks\n",
    "    wait(task)\n",
    "end\n",
    "```"
   ]
  },
  {
   "cell_type": "code",
   "execution_count": 102,
   "metadata": {},
   "outputs": [
    {
     "data": {
      "text/plain": [
       "Channel{Int64}(sz_max:1,sz_curr:0)"
      ]
     },
     "execution_count": 102,
     "metadata": {},
     "output_type": "execute_result"
    }
   ],
   "source": []
  },
  {
   "cell_type": "code",
   "execution_count": 109,
   "metadata": {},
   "outputs": [
    {
     "name": "stdout",
     "output_type": "stream",
     "text": [
      "search: \u001b[0m\u001b[1mt\u001b[22m\u001b[0m\u001b[1ma\u001b[22m\u001b[0m\u001b[1mk\u001b[22m\u001b[0m\u001b[1me\u001b[22m\u001b[0m\u001b[1m!\u001b[22m S\u001b[0m\u001b[1mt\u001b[22m\u001b[0m\u001b[1ma\u001b[22mc\u001b[0m\u001b[1mk\u001b[22mOv\u001b[0m\u001b[1me\u001b[22mrflowError is\u001b[0m\u001b[1mt\u001b[22m\u001b[0m\u001b[1ma\u001b[22ms\u001b[0m\u001b[1mk\u001b[22mdon\u001b[0m\u001b[1me\u001b[22m s\u001b[0m\u001b[1mt\u001b[22m\u001b[0m\u001b[1ma\u001b[22mc\u001b[0m\u001b[1mk\u001b[22mtrac\u001b[0m\u001b[1me\u001b[22m S\u001b[0m\u001b[1mt\u001b[22m\u001b[0m\u001b[1ma\u001b[22mc\u001b[0m\u001b[1mk\u001b[22mTrac\u001b[0m\u001b[1me\u001b[22ms is\u001b[0m\u001b[1mt\u001b[22m\u001b[0m\u001b[1ma\u001b[22ms\u001b[0m\u001b[1mk\u001b[22mstart\u001b[0m\u001b[1me\u001b[22md\n",
      "\n"
     ]
    },
    {
     "data": {
      "text/latex": [
       "\\begin{verbatim}\n",
       "take!(b::IOBuffer)\n",
       "\\end{verbatim}\n",
       "Obtain the contents of an \\texttt{IOBuffer} as an array, without copying. Afterwards, the \\texttt{IOBuffer} is reset to its initial state.\n",
       "\n",
       "\\section{Examples}\n",
       "\\begin{verbatim}\n",
       "julia> io = IOBuffer();\n",
       "\n",
       "julia> write(io, \"JuliaLang is a GitHub organization.\", \" It has many members.\")\n",
       "56\n",
       "\n",
       "julia> String(take!(io))\n",
       "\"JuliaLang is a GitHub organization. It has many members.\"\n",
       "\\end{verbatim}\n",
       "\\rule{\\textwidth}{1pt}\n",
       "\\begin{verbatim}\n",
       "take!(c::Channel)\n",
       "\\end{verbatim}\n",
       "Remove and return a value from a \\href{@ref}{\\texttt{Channel}}. Blocks until data is available.\n",
       "\n",
       "For unbuffered channels, blocks until a \\href{@ref}{\\texttt{put!}} is performed by a different task.\n",
       "\n",
       "\\rule{\\textwidth}{1pt}\n",
       "\\begin{verbatim}\n",
       "take!(rr::RemoteChannel, args...)\n",
       "\\end{verbatim}\n",
       "Fetch value(s) from a \\href{@ref}{\\texttt{RemoteChannel}} \\texttt{rr}, removing the value(s) in the process.\n",
       "\n"
      ],
      "text/markdown": [
       "```\n",
       "take!(b::IOBuffer)\n",
       "```\n",
       "\n",
       "Obtain the contents of an `IOBuffer` as an array, without copying. Afterwards, the `IOBuffer` is reset to its initial state.\n",
       "\n",
       "# Examples\n",
       "\n",
       "```jldoctest\n",
       "julia> io = IOBuffer();\n",
       "\n",
       "julia> write(io, \"JuliaLang is a GitHub organization.\", \" It has many members.\")\n",
       "56\n",
       "\n",
       "julia> String(take!(io))\n",
       "\"JuliaLang is a GitHub organization. It has many members.\"\n",
       "```\n",
       "\n",
       "---\n",
       "\n",
       "```\n",
       "take!(c::Channel)\n",
       "```\n",
       "\n",
       "Remove and return a value from a [`Channel`](@ref). Blocks until data is available.\n",
       "\n",
       "For unbuffered channels, blocks until a [`put!`](@ref) is performed by a different task.\n",
       "\n",
       "---\n",
       "\n",
       "```\n",
       "take!(rr::RemoteChannel, args...)\n",
       "```\n",
       "\n",
       "Fetch value(s) from a [`RemoteChannel`](@ref) `rr`, removing the value(s) in the process.\n"
      ],
      "text/plain": [
       "\u001b[36m  take!(b::IOBuffer)\u001b[39m\n",
       "\n",
       "  Obtain the contents of an \u001b[36mIOBuffer\u001b[39m as an array, without copying. Afterwards,\n",
       "  the \u001b[36mIOBuffer\u001b[39m is reset to its initial state.\n",
       "\n",
       "\u001b[1m  Examples\u001b[22m\n",
       "\u001b[1m  ≡≡≡≡≡≡≡≡≡≡\u001b[22m\n",
       "\n",
       "\u001b[36m  julia> io = IOBuffer();\u001b[39m\n",
       "\u001b[36m  \u001b[39m\n",
       "\u001b[36m  julia> write(io, \"JuliaLang is a GitHub organization.\", \" It has many members.\")\u001b[39m\n",
       "\u001b[36m  56\u001b[39m\n",
       "\u001b[36m  \u001b[39m\n",
       "\u001b[36m  julia> String(take!(io))\u001b[39m\n",
       "\u001b[36m  \"JuliaLang is a GitHub organization. It has many members.\"\u001b[39m\n",
       "\n",
       "  ────────────────────────────────────────────────────────────────────────────\n",
       "\n",
       "\u001b[36m  take!(c::Channel)\u001b[39m\n",
       "\n",
       "  Remove and return a value from a \u001b[36mChannel\u001b[39m. Blocks until data is available.\n",
       "\n",
       "  For unbuffered channels, blocks until a \u001b[36mput!\u001b[39m is performed by a different\n",
       "  task.\n",
       "\n",
       "  ────────────────────────────────────────────────────────────────────────────\n",
       "\n",
       "\u001b[36m  take!(rr::RemoteChannel, args...)\u001b[39m\n",
       "\n",
       "  Fetch value(s) from a \u001b[36mRemoteChannel\u001b[39m \u001b[36mrr\u001b[39m, removing the value(s) in the\n",
       "  process."
      ]
     },
     "execution_count": 109,
     "metadata": {},
     "output_type": "execute_result"
    }
   ],
   "source": [
    "?take!"
   ]
  },
  {
   "cell_type": "code",
   "execution_count": null,
   "metadata": {},
   "outputs": [
    {
     "name": "stdout",
     "output_type": "stream",
     "text": [
      "take!(ch) = 1\n",
      "take!(ch) = 2\n",
      "take!(ch) = 3\n",
      "take!(ch) = 4\n",
      "take!(ch) = 5\n",
      "take!(ch) = 6\n",
      "take!(ch) = 7\n",
      "take!(ch) = 8\n",
      "take!(ch) = 9\n"
     ]
    }
   ],
   "source": [
    "ch = Channel{Int64}(1)\n",
    "ch2 = Channel{Int64}(1)\n",
    "@sync begin\n",
    "  @async begin\n",
    "        while isopen(ch2) \n",
    "            @show take!(ch)\n",
    "        end\n",
    "    end\n",
    "  @async begin\n",
    "        for i in 1:10\n",
    "            put!(ch, i)\n",
    "        end\n",
    "        while !isempty(ch)\n",
    "            yield()\n",
    "        end\n",
    "        close(ch)\n",
    "    end\n",
    "end\n",
    "        "
   ]
  },
  {
   "cell_type": "code",
   "execution_count": null,
   "metadata": {},
   "outputs": [],
   "source": [
    "isempty(ch)"
   ]
  }
 ],
 "metadata": {
  "@webio": {
   "lastCommId": "bd2fbf8ca654489a8ccc09f0b91aef48",
   "lastKernelId": "453b4908-d58e-47cc-a828-21f98a284d94"
  },
  "celltoolbar": "Slideshow",
  "kernelspec": {
   "display_name": "Julia (4 threads) 1.1.1",
   "language": "julia",
   "name": "julia-(4-threads)-1.1"
  },
  "language_info": {
   "file_extension": ".jl",
   "mimetype": "application/julia",
   "name": "julia",
   "version": "1.1.1"
  }
 },
 "nbformat": 4,
 "nbformat_minor": 2
}
