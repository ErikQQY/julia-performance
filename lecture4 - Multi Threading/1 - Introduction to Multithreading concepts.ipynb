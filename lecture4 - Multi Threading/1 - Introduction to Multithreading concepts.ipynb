{
 "cells": [
  {
   "cell_type": "markdown",
   "metadata": {
    "slideshow": {
     "slide_type": "slide"
    }
   },
   "source": [
    "# Multithreading in Julia\n"
   ]
  },
  {
   "cell_type": "code",
   "execution_count": 2,
   "metadata": {
    "slideshow": {
     "slide_type": "fragment"
    }
   },
   "outputs": [
    {
     "name": "stdout",
     "output_type": "stream",
     "text": [
      "Julia Version 1.3.0-rc4.1\n",
      "Commit 8c4656b97a (2019-10-15 14:08 UTC)\n",
      "Platform Info:\n",
      "  OS: Linux (x86_64-pc-linux-gnu)\n",
      "  CPU: Intel(R) Core(TM) i7-7660U CPU @ 2.50GHz\n",
      "  WORD_SIZE: 64\n",
      "  LIBM: libopenlibm\n",
      "  LLVM: libLLVM-6.0.1 (ORCJIT, skylake)\n",
      "Environment:\n",
      "  JULIA_PKG_DEVDIR = /home/vchuravy/src\n",
      "  JULIA_NUM_THREADS = 4\n"
     ]
    },
    {
     "data": {
      "text/plain": [
       "4"
      ]
     },
     "execution_count": 2,
     "metadata": {},
     "output_type": "execute_result"
    }
   ],
   "source": [
    "versioninfo()\n",
    "Base.Threads.nthreads()"
   ]
  },
  {
   "cell_type": "markdown",
   "metadata": {
    "slideshow": {
     "slide_type": "slide"
    }
   },
   "source": [
    "## Types of parallelism\n",
    "\n",
    "- data parallelism\n",
    "- structured parallelism"
   ]
  },
  {
   "cell_type": "code",
   "execution_count": 18,
   "metadata": {
    "slideshow": {
     "slide_type": "fragment"
    }
   },
   "outputs": [],
   "source": [
    "import Base.Threads: nthreads, threadid, @spawn, @threads\n",
    "import Base.Threads: Atomic, atomic_add!\n",
    "import Base.Threads: ReentrantLock, SpinLock\n",
    "using BenchmarkTools"
   ]
  },
  {
   "cell_type": "markdown",
   "metadata": {
    "slideshow": {
     "slide_type": "slide"
    }
   },
   "source": [
    "## Data parallelism `@threads`"
   ]
  },
  {
   "cell_type": "code",
   "execution_count": null,
   "metadata": {
    "scrolled": true,
    "slideshow": {
     "slide_type": "fragment"
    }
   },
   "outputs": [],
   "source": [
    "a = zeros(Int, nthreads()*3)\n",
    "@threads for i in 1:length(a)\n",
    "    @show threadid()\n",
    "    a[i] = threadid()\n",
    "end\n",
    "a"
   ]
  },
  {
   "cell_type": "markdown",
   "metadata": {
    "slideshow": {
     "slide_type": "slide"
    }
   },
   "source": [
    "## Structured parallelism"
   ]
  },
  {
   "cell_type": "code",
   "execution_count": null,
   "metadata": {
    "slideshow": {
     "slide_type": "fragment"
    }
   },
   "outputs": [],
   "source": [
    "function fib(n::Int)\n",
    "    if n < 2\n",
    "        return n\n",
    "    end\n",
    "    t = @spawn fib(n - 2)\n",
    "    return fib(n - 1) + fetch(t)\n",
    "end"
   ]
  },
  {
   "cell_type": "markdown",
   "metadata": {
    "slideshow": {
     "slide_type": "slide"
    }
   },
   "source": [
    "## Racy-code"
   ]
  },
  {
   "cell_type": "code",
   "execution_count": null,
   "metadata": {
    "slideshow": {
     "slide_type": "fragment"
    }
   },
   "outputs": [],
   "source": [
    "function count()\n",
    "    acc = 0\n",
    "    @threads for i in 1:10_000\n",
    "        acc = acc + 1\n",
    "    end\n",
    "    return acc\n",
    "end\n",
    "# What is the result?"
   ]
  },
  {
   "cell_type": "code",
   "execution_count": null,
   "metadata": {
    "slideshow": {
     "slide_type": "subslide"
    }
   },
   "outputs": [],
   "source": [
    "count()"
   ]
  },
  {
   "cell_type": "code",
   "execution_count": null,
   "metadata": {
    "slideshow": {
     "slide_type": "fragment"
    }
   },
   "outputs": [],
   "source": [
    "@btime count()"
   ]
  },
  {
   "cell_type": "code",
   "execution_count": null,
   "metadata": {
    "slideshow": {
     "slide_type": "subslide"
    }
   },
   "outputs": [],
   "source": [
    "function count_ref()\n",
    "    acc = Ref(0)\n",
    "    @threads for i in 1:10_000\n",
    "        acc[] += 1\n",
    "    end\n",
    "    return acc[]\n",
    "end\n",
    "# What is the result?"
   ]
  },
  {
   "cell_type": "code",
   "execution_count": null,
   "metadata": {
    "slideshow": {
     "slide_type": "subslide"
    }
   },
   "outputs": [],
   "source": [
    "count_ref()"
   ]
  },
  {
   "cell_type": "code",
   "execution_count": null,
   "metadata": {
    "slideshow": {
     "slide_type": "fragment"
    }
   },
   "outputs": [],
   "source": [
    "@btime count_ref()"
   ]
  },
  {
   "cell_type": "markdown",
   "metadata": {
    "slideshow": {
     "slide_type": "subslide"
    }
   },
   "source": [
    "### Using Atomics"
   ]
  },
  {
   "cell_type": "code",
   "execution_count": 13,
   "metadata": {
    "slideshow": {
     "slide_type": "fragment"
    }
   },
   "outputs": [
    {
     "data": {
      "text/plain": [
       "count_atomic (generic function with 1 method)"
      ]
     },
     "execution_count": 13,
     "metadata": {},
     "output_type": "execute_result"
    }
   ],
   "source": [
    "function count_atomic()\n",
    "    acc = Atomic{Int64}(0)\n",
    "    @threads for i in 1:10_000\n",
    "        atomic_add!(acc, 1)\n",
    "    end\n",
    "    acc\n",
    "end\n",
    "# What is the result?"
   ]
  },
  {
   "cell_type": "code",
   "execution_count": 14,
   "metadata": {
    "slideshow": {
     "slide_type": "subslide"
    }
   },
   "outputs": [
    {
     "data": {
      "text/plain": [
       "Atomic{Int64}(10000)"
      ]
     },
     "execution_count": 14,
     "metadata": {},
     "output_type": "execute_result"
    }
   ],
   "source": [
    "count_atomic()"
   ]
  },
  {
   "cell_type": "code",
   "execution_count": 15,
   "metadata": {
    "slideshow": {
     "slide_type": "fragment"
    }
   },
   "outputs": [
    {
     "name": "stdout",
     "output_type": "stream",
     "text": [
      "  77.666 μs (30 allocations: 3.02 KiB)\n"
     ]
    },
    {
     "data": {
      "text/plain": [
       "Atomic{Int64}(10000)"
      ]
     },
     "execution_count": 15,
     "metadata": {},
     "output_type": "execute_result"
    }
   ],
   "source": [
    "@btime count_atomic()"
   ]
  },
  {
   "cell_type": "markdown",
   "metadata": {
    "slideshow": {
     "slide_type": "slide"
    }
   },
   "source": [
    "### Using Locks\n",
    "\n",
    "Atomics are good for protecting a single value,\n",
    "for bigger amounts of data locks might more sense."
   ]
  },
  {
   "cell_type": "code",
   "execution_count": 6,
   "metadata": {
    "slideshow": {
     "slide_type": "subslide"
    }
   },
   "outputs": [],
   "source": [
    "struct Accumulator{T, L}\n",
    "    x::Base.RefValue{T}\n",
    "    lock::L\n",
    "end\n",
    "\n",
    "Base.lock(a::Accumulator) = lock(a.lock)\n",
    "Base.unlock(a::Accumulator) = unlock(a.lock)\n",
    "Base.getindex(a::Accumulator) = a.x[]\n",
    "Base.setindex!(a::Accumulator, val) = a.x[] = val"
   ]
  },
  {
   "cell_type": "code",
   "execution_count": 7,
   "metadata": {
    "slideshow": {
     "slide_type": "subslide"
    }
   },
   "outputs": [
    {
     "data": {
      "text/plain": [
       "count (generic function with 1 method)"
      ]
     },
     "execution_count": 7,
     "metadata": {},
     "output_type": "execute_result"
    }
   ],
   "source": [
    "function count(acc)\n",
    "    @threads for i in 1:10_000\n",
    "        lock(acc)\n",
    "        acc[] += 1\n",
    "        unlock(acc)\n",
    "    end\n",
    "    return acc[]\n",
    "end"
   ]
  },
  {
   "cell_type": "markdown",
   "metadata": {
    "slideshow": {
     "slide_type": "subslide"
    }
   },
   "source": [
    "### ReentrantLock\n",
    "Standard lock, best used when having to lock large section of code."
   ]
  },
  {
   "cell_type": "code",
   "execution_count": 24,
   "metadata": {
    "slideshow": {
     "slide_type": "fragment"
    }
   },
   "outputs": [],
   "source": [
    "acc = Accumulator(Ref{Int}(0), ReentrantLock());"
   ]
  },
  {
   "cell_type": "code",
   "execution_count": 25,
   "metadata": {
    "slideshow": {
     "slide_type": "fragment"
    }
   },
   "outputs": [
    {
     "name": "stdout",
     "output_type": "stream",
     "text": [
      "  1.095 ms (60 allocations: 3.48 KiB)\n"
     ]
    },
    {
     "data": {
      "text/plain": [
       "15430000"
      ]
     },
     "execution_count": 25,
     "metadata": {},
     "output_type": "execute_result"
    }
   ],
   "source": [
    "@btime count($acc)"
   ]
  },
  {
   "cell_type": "markdown",
   "metadata": {
    "slideshow": {
     "slide_type": "subslide"
    }
   },
   "source": [
    "### SpinLock\n",
    "\n",
    "Lower overhead version for very small sections of code, inefficient if we protect large sections of code."
   ]
  },
  {
   "cell_type": "code",
   "execution_count": 26,
   "metadata": {
    "slideshow": {
     "slide_type": "fragment"
    }
   },
   "outputs": [],
   "source": [
    "acc = Accumulator(Ref{Int}(0), SpinLock());"
   ]
  },
  {
   "cell_type": "code",
   "execution_count": 27,
   "metadata": {},
   "outputs": [
    {
     "name": "stdout",
     "output_type": "stream",
     "text": [
      "  119.399 μs (30 allocations: 3.02 KiB)\n"
     ]
    },
    {
     "data": {
      "text/plain": [
       "125640000"
      ]
     },
     "execution_count": 27,
     "metadata": {},
     "output_type": "execute_result"
    }
   ],
   "source": [
    "@btime count($acc)"
   ]
  },
  {
   "cell_type": "markdown",
   "metadata": {
    "slideshow": {
     "slide_type": "subslide"
    }
   },
   "source": [
    "### Avoiding all of this"
   ]
  },
  {
   "cell_type": "code",
   "execution_count": 28,
   "metadata": {
    "slideshow": {
     "slide_type": "fragment"
    }
   },
   "outputs": [
    {
     "data": {
      "text/plain": [
       "count_racefree (generic function with 1 method)"
      ]
     },
     "execution_count": 28,
     "metadata": {},
     "output_type": "execute_result"
    }
   ],
   "source": [
    "function count_racefree()\n",
    "    # note this is prone to false-sharing\n",
    "    acc = zeros(Int, nthreads())\n",
    "    @threads for i in 1:10_000\n",
    "        acc[threadid()] += 1\n",
    "    end\n",
    "    return sum(acc)\n",
    "end"
   ]
  },
  {
   "cell_type": "code",
   "execution_count": 23,
   "metadata": {
    "slideshow": {
     "slide_type": "subslide"
    }
   },
   "outputs": [
    {
     "name": "stdout",
     "output_type": "stream",
     "text": [
      "  16.755 μs (30 allocations: 3.11 KiB)\n"
     ]
    },
    {
     "data": {
      "text/plain": [
       "10000"
      ]
     },
     "execution_count": 23,
     "metadata": {},
     "output_type": "execute_result"
    }
   ],
   "source": [
    "@btime count_racefree()"
   ]
  },
  {
   "cell_type": "markdown",
   "metadata": {
    "slideshow": {
     "slide_type": "slide"
    }
   },
   "source": [
    "### Other helpful tools"
   ]
  },
  {
   "cell_type": "markdown",
   "metadata": {},
   "source": [
    "- https://docs.julialang.org/en/v1/manual/parallel-computing/#Channels-1\n",
    "- https://docs.julialang.org/en/v1.2/base/parallel/#Base.Semaphore\n",
    "- https://docs.julialang.org/en/v1.2/base/parallel/#Base.Event"
   ]
  },
  {
   "cell_type": "markdown",
   "metadata": {
    "slideshow": {
     "slide_type": "slide"
    }
   },
   "source": [
    "## False sharing\n",
    "\n",
    "https://software.intel.com/en-us/articles/avoiding-and-identifying-false-sharing-among-threads"
   ]
  },
  {
   "cell_type": "code",
   "execution_count": 29,
   "metadata": {
    "slideshow": {
     "slide_type": "fragment"
    }
   },
   "outputs": [
    {
     "data": {
      "text/plain": [
       "sum_simple (generic function with 1 method)"
      ]
     },
     "execution_count": 29,
     "metadata": {},
     "output_type": "execute_result"
    }
   ],
   "source": [
    "function sum_simple()\n",
    "    acc = zeros(Int64, nthreads())\n",
    "    @threads for tid in 1:nthreads()\n",
    "        for i in 1:10_000\n",
    "             acc[tid] += 1\n",
    "        end\n",
    "    end\n",
    "    sum(acc)\n",
    "end"
   ]
  },
  {
   "cell_type": "code",
   "execution_count": 30,
   "metadata": {
    "slideshow": {
     "slide_type": "subslide"
    }
   },
   "outputs": [
    {
     "data": {
      "text/plain": [
       "sum_cacheaware (generic function with 1 method)"
      ]
     },
     "execution_count": 30,
     "metadata": {},
     "output_type": "execute_result"
    }
   ],
   "source": [
    "function sum_cacheaware()\n",
    "    CACHE_LINE = 64 #bytes\n",
    "    elems = div(CACHE_LINE, sizeof(Int64))\n",
    "    acc = zeros(Int64, nthreads()*elems)\n",
    "    @threads for tid in 1:nthreads()\n",
    "        store = (tid-1)*elems+1\n",
    "        for i in 1:10_000\n",
    "             acc[store] += 1\n",
    "        end\n",
    "    end\n",
    "    sum(acc)\n",
    "end"
   ]
  },
  {
   "cell_type": "code",
   "execution_count": 31,
   "metadata": {
    "slideshow": {
     "slide_type": "subslide"
    }
   },
   "outputs": [
    {
     "data": {
      "text/plain": [
       "BenchmarkTools.Trial: \n",
       "  memory estimate:  3.11 KiB\n",
       "  allocs estimate:  30\n",
       "  --------------\n",
       "  minimum time:     33.154 μs (0.00% GC)\n",
       "  median time:      87.621 μs (0.00% GC)\n",
       "  mean time:        254.371 μs (0.00% GC)\n",
       "  maximum time:     21.260 ms (0.00% GC)\n",
       "  --------------\n",
       "  samples:          10000\n",
       "  evals/sample:     1"
      ]
     },
     "execution_count": 31,
     "metadata": {},
     "output_type": "execute_result"
    }
   ],
   "source": [
    "@benchmark sum_simple()"
   ]
  },
  {
   "cell_type": "code",
   "execution_count": 32,
   "metadata": {
    "slideshow": {
     "slide_type": "subslide"
    }
   },
   "outputs": [
    {
     "data": {
      "text/plain": [
       "BenchmarkTools.Trial: \n",
       "  memory estimate:  3.34 KiB\n",
       "  allocs estimate:  30\n",
       "  --------------\n",
       "  minimum time:     24.693 μs (0.00% GC)\n",
       "  median time:      35.112 μs (0.00% GC)\n",
       "  mean time:        80.054 μs (0.00% GC)\n",
       "  maximum time:     8.336 ms (0.00% GC)\n",
       "  --------------\n",
       "  samples:          10000\n",
       "  evals/sample:     1"
      ]
     },
     "execution_count": 32,
     "metadata": {},
     "output_type": "execute_result"
    }
   ],
   "source": [
    "@benchmark sum_cacheaware()"
   ]
  },
  {
   "cell_type": "markdown",
   "metadata": {
    "slideshow": {
     "slide_type": "slide"
    }
   },
   "source": [
    "## A fun user submission\n",
    "Help me! this code is slow"
   ]
  },
  {
   "cell_type": "code",
   "execution_count": 33,
   "metadata": {
    "slideshow": {
     "slide_type": "skip"
    }
   },
   "outputs": [
    {
     "name": "stdout",
     "output_type": "stream",
     "text": [
      "Number of threads: 4\n"
     ]
    }
   ],
   "source": [
    "using BenchmarkTools\n",
    "using Base.Threads\n",
    "using LinearAlgebra\n",
    "using Random\n",
    "println(\"Number of threads: \", nthreads())"
   ]
  },
  {
   "cell_type": "code",
   "execution_count": 34,
   "metadata": {
    "slideshow": {
     "slide_type": "fragment"
    }
   },
   "outputs": [
    {
     "data": {
      "text/plain": [
       "bench (generic function with 1 method)"
      ]
     },
     "execution_count": 34,
     "metadata": {},
     "output_type": "execute_result"
    }
   ],
   "source": [
    "function myfun(rng::MersenneTwister)\n",
    "    s = 0.0\n",
    "    N = 10000\n",
    "    for i=1:N\n",
    "        s+=det(randn(rng, 3,3))\n",
    "    end\n",
    "    s/N\n",
    "end\n",
    "\n",
    "rgi   = [MersenneTwister(rand(UInt)) for _ in 1:nthreads()]\n",
    "function bench(rgi)\n",
    "    a  = zeros(1000)\n",
    "    @threads for i=1:length(a)\n",
    "        a[i] = myfun(rgi[threadid()])\n",
    "    end\n",
    "end"
   ]
  },
  {
   "cell_type": "code",
   "execution_count": 35,
   "metadata": {
    "slideshow": {
     "slide_type": "subslide"
    }
   },
   "outputs": [
    {
     "data": {
      "text/plain": [
       "BenchmarkTools.Trial: \n",
       "  memory estimate:  4.32 GiB\n",
       "  allocs estimate:  40000046\n",
       "  --------------\n",
       "  minimum time:     6.938 s (14.96% GC)\n",
       "  median time:      6.938 s (14.96% GC)\n",
       "  mean time:        6.938 s (14.96% GC)\n",
       "  maximum time:     6.938 s (14.96% GC)\n",
       "  --------------\n",
       "  samples:          1\n",
       "  evals/sample:     1"
      ]
     },
     "metadata": {},
     "output_type": "display_data"
    }
   ],
   "source": [
    "result = @benchmark bench($rgi)\n",
    "display(result)"
   ]
  },
  {
   "cell_type": "markdown",
   "metadata": {
    "slideshow": {
     "slide_type": "subslide"
    }
   },
   "source": [
    "#### Thread 1\n",
    "\n",
    "```\n",
    "BenchmarkTools.Trial: \n",
    "  memory estimate:  4.32 GiB\n",
    "  allocs estimate:  40000002\n",
    "  --------------\n",
    "  minimum time:     4.063 s (4.03% GC)\n",
    "  median time:      4.217 s (3.57% GC)\n",
    "  mean time:        4.217 s (3.57% GC)\n",
    "  maximum time:     4.371 s (3.14% GC)\n",
    "  --------------\n",
    "  samples:          2\n",
    "  evals/sample:     1\n",
    "```"
   ]
  },
  {
   "cell_type": "markdown",
   "metadata": {
    "slideshow": {
     "slide_type": "subslide"
    }
   },
   "source": [
    "#### Thread 4\n",
    "\n",
    "```\n",
    "BenchmarkTools.Trial: \n",
    "  memory estimate:  3.52 GiB\n",
    "  allocs estimate:  34212074\n",
    "  --------------\n",
    "  minimum time:     3.346 s (0.00% GC)\n",
    "  median time:      3.960 s (10.85% GC)\n",
    "  mean time:        3.960 s (10.85% GC)\n",
    "  maximum time:     4.574 s (18.78% GC)\n",
    "  --------------\n",
    "  samples:          2\n",
    "  evals/sample:     1\n",
    "```"
   ]
  },
  {
   "cell_type": "markdown",
   "metadata": {
    "slideshow": {
     "slide_type": "subslide"
    }
   },
   "source": [
    "#### How did I optimise this code?\n",
    "1. Memory allocations in hot-loop\n",
    "2. Eliminate allocs caused by rand\n",
    "3. Investigate how det is implemented\n",
    "4. Implement det!\n",
    "5. Remove overhead to library call\n",
    "6. Use profiling tools\n",
    "7. Start using StaticArrays\n",
    "\n",
    "Full story here: https://hackmd.io/@dLigA9a4SwKmdcaQtloXXw/BkyZ5Mmbb"
   ]
  },
  {
   "cell_type": "markdown",
   "metadata": {
    "slideshow": {
     "slide_type": "subslide"
    }
   },
   "source": [
    "```julia\n",
    "@edit det(zeros(3, 3)) -> det(lufact(A))\n",
    "lufact(A, pivot = true) = lufact!(copy(A), pivot)\n",
    "```"
   ]
  },
  {
   "cell_type": "markdown",
   "metadata": {
    "slideshow": {
     "slide_type": "subslide"
    }
   },
   "source": [
    "```julia\n",
    "det!(A) = det(lufact!(A))\n",
    "det!(A) = det(LinearAlgebra.generic_lufact!(A))\n",
    "```\n",
    "\n",
    "`det!` originally was calling a `lufact!` from LAPACK,\n",
    "which is overkill for the matrix size. First attempt switch to a pure Julia implementation."
   ]
  },
  {
   "cell_type": "code",
   "execution_count": null,
   "metadata": {
    "slideshow": {
     "slide_type": "skip"
    }
   },
   "outputs": [],
   "source": [
    "using BenchmarkTools\n",
    "using StaticArrays\n",
    "using Base.Threads\n",
    "println(\"Number of threads: \", nthreads())"
   ]
  },
  {
   "cell_type": "code",
   "execution_count": null,
   "metadata": {
    "slideshow": {
     "slide_type": "subslide"
    }
   },
   "outputs": [],
   "source": [
    "function myfun(rng::MersenneTwister)\n",
    "    s = 0.0\n",
    "    N = 10000\n",
    "    for i=1:N\n",
    "        s += det(randn(rng, SMatrix{3, 3}))\n",
    "    end\n",
    "    s/N\n",
    "end"
   ]
  },
  {
   "cell_type": "code",
   "execution_count": null,
   "metadata": {
    "slideshow": {
     "slide_type": "skip"
    }
   },
   "outputs": [],
   "source": [
    "rgi   = [MersenneTwister(abs(rand(Int))) for s in 1:nthreads()]\n",
    "\n",
    "function bench(rgi)\n",
    "    a  = zeros(1000)\n",
    "    @threads for i=1:length(a)\n",
    "        @inbounds a[i] = myfun(rgi[threadid()])\n",
    "    end\n",
    "end"
   ]
  },
  {
   "cell_type": "code",
   "execution_count": null,
   "metadata": {
    "slideshow": {
     "slide_type": "subslide"
    }
   },
   "outputs": [],
   "source": [
    "result = @benchmark bench($rgi)\n",
    "display(result)"
   ]
  },
  {
   "cell_type": "markdown",
   "metadata": {
    "slideshow": {
     "slide_type": "slide"
    }
   },
   "source": [
    "## Examples"
   ]
  },
  {
   "cell_type": "code",
   "execution_count": null,
   "metadata": {},
   "outputs": [],
   "source": [
    "function psort(v::AbstractVector)\n",
    "    hi = length(v)\n",
    "    if hi < 100_000 # below some cutoff, run in serial\n",
    "        return sort(view(v, 1:hi), alg = MergeSort)\n",
    "    end\n",
    "    \n",
    "    # split the range and sort the halves in parallel recursively\n",
    "    mid = (1+hi) ÷ 2\n",
    "    half = @spawn psort(view(v, 1:mid))\n",
    "    right = psort(view(v, (mid+1):hi))\n",
    "    left = fetch(half)::typeof(right)\n",
    "    \n",
    "    # perform the merge on the result\n",
    "    out = similar(v)\n",
    "    i, il, ir = 1, 1, 1\n",
    "    @inbounds while il <= mid && ir <= (hi-mid)\n",
    "        l, r = left[il], right[ir]\n",
    "        if l < r\n",
    "            out[i] = l\n",
    "            il += 1\n",
    "        else\n",
    "            out[i] = r\n",
    "            ir += 1\n",
    "        end\n",
    "        i += 1\n",
    "    end\n",
    "    @inbounds while il <= length(left)\n",
    "        out[i] = left[il]\n",
    "        il += 1\n",
    "        i += 1\n",
    "    end\n",
    "    @inbounds while ir <= length(right)\n",
    "        out[i] = right[ir]\n",
    "        ir += 1\n",
    "        i += 1\n",
    "    end\n",
    "    return out\n",
    "end"
   ]
  },
  {
   "cell_type": "code",
   "execution_count": null,
   "metadata": {},
   "outputs": [],
   "source": [
    "# function sieve(numPrimes, n::Integer=nthreads(), buffer = 5)\n",
    "#     primes = Int[]\n",
    "    \n",
    "#     #completion signal\n",
    "#     done = Atomic{Bool}(false)\n",
    "\n",
    "#     sieves = [Channel{Int}(buffer) for i in 1:n]\n",
    "#     for i in 1:n\n",
    "#         @spawn begin\n",
    "#             p = take!(sieves[i])\n",
    "#             push!(primes, p)\n",
    "#             if length(primes) == numPrimes\n",
    "#                 done[] = true\n",
    "#                 return\n",
    "#             end\n",
    "#             mp = p # non-prime multiples of p\n",
    "#             for m in sieves[i]\n",
    "#                 while m > mp\n",
    "#                     mp += p\n",
    "#                 end\n",
    "#                 if m < mp # rem(m, p) > 0\n",
    "#                     put!(sieves[i + 1], m)\n",
    "#                 end\n",
    "#             end\n",
    "#         end\n",
    "#     end\n",
    "    \n",
    "#     put!(sieves[1], 2)\n",
    "#     n = 3\n",
    "#     while !done[]\n",
    "#         put!(sieves[1], n)\n",
    "#         n += 2\n",
    "#     end\n",
    "#     return primes\n",
    "# end"
   ]
  },
  {
   "cell_type": "markdown",
   "metadata": {
    "slideshow": {
     "slide_type": "slide"
    }
   },
   "source": [
    "### CSP style programming\n",
    "\n",
    "- https://github.com/NHDaly/CspExamples.jl/blob/master/src/CspExamples.jl"
   ]
  }
 ],
 "metadata": {
  "@webio": {
   "lastCommId": "fd653b80d2bf4c0688b9de0367766f9a",
   "lastKernelId": "85af6eaa-a821-453f-85ee-8cd282dbac71"
  },
  "celltoolbar": "Slideshow",
  "kernelspec": {
   "display_name": "Julia (4 threads) 1.3.0-rc4",
   "language": "julia",
   "name": "julia-(4-threads)-1.3"
  },
  "language_info": {
   "file_extension": ".jl",
   "mimetype": "application/julia",
   "name": "julia",
   "version": "1.3.0"
  }
 },
 "nbformat": 4,
 "nbformat_minor": 2
}
