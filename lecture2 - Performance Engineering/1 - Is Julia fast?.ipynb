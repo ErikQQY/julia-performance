{
 "cells": [
  {
   "cell_type": "code",
   "execution_count": 1,
   "metadata": {
    "slideshow": {
     "slide_type": "skip"
    }
   },
   "outputs": [
    {
     "name": "stdout",
     "output_type": "stream",
     "text": [
      "\u001b[32m\u001b[1mActivating\u001b[22m\u001b[39m environment at `~/projects/julia-performance/envs/lecture2-1/Project.toml`\n",
      "\u001b[32m\u001b[1m  Updating\u001b[22m\u001b[39m registry at `~/.julia/registries/General`\n",
      "\u001b[32m\u001b[1m  Updating\u001b[22m\u001b[39m git-repo `https://github.com/JuliaRegistries/General.git`\n",
      "\u001b[?25l\u001b[2K\u001b[?25h"
     ]
    }
   ],
   "source": [
    "using Pkg\n",
    "Pkg.activate(\"../envs/lecture2-1\")\n",
    "Pkg.instantiate()"
   ]
  },
  {
   "cell_type": "markdown",
   "metadata": {
    "slideshow": {
     "slide_type": "slide"
    }
   },
   "source": [
    "# Is Julia fast?\n",
    "*Enough talk -- let's code*\n",
    "\n",
    "$$\n",
    "sum(a) = \\sum_i^n a_i\n",
    "$$\n"
   ]
  },
  {
   "cell_type": "markdown",
   "metadata": {
    "slideshow": {
     "slide_type": "fragment"
    }
   },
   "source": [
    "- This material began life as a wonderful [lecture by Steven Johnson at MIT](https://github.com/stevengj/18S096-iap17/blob/master/lecture1/Boxes-and-registers.ipynb).\n",
    "- With apologies to the numerical computing folks, this is not the algorithm you should use!\n"
   ]
  },
  {
   "cell_type": "code",
   "execution_count": 2,
   "metadata": {
    "slideshow": {
     "slide_type": "fragment"
    }
   },
   "outputs": [],
   "source": [
    "# pick a large N to not measure call-overhead\n",
    "data = rand(10_000_000);"
   ]
  },
  {
   "cell_type": "code",
   "execution_count": 3,
   "metadata": {
    "slideshow": {
     "slide_type": "subslide"
    }
   },
   "outputs": [],
   "source": [
    "C_code =  \"\"\"\n",
    "#include <stddef.h>\n",
    "double c_sum(size_t n, double *X) {\n",
    "    double s = 0.0;\n",
    "    for (size_t i = 0; i < n; ++i) {\n",
    "        s += X[i];\n",
    "    }\n",
    "    return s;\n",
    "}\n",
    "\"\"\";"
   ]
  },
  {
   "cell_type": "code",
   "execution_count": 4,
   "metadata": {
    "slideshow": {
     "slide_type": "skip"
    }
   },
   "outputs": [],
   "source": [
    "using Libdl\n",
    "const Clib = tempname()   # make a temporary file\n",
    "\n",
    "# compile to a shared library by piping C_code to gcc\n",
    "# (works only if you have gcc installed):\n",
    "\n",
    "open(`gcc -fPIC -O3 -msse3 -xc -shared -o $(Clib * \".\" * Libdl.dlext) -`, \"w\") do f\n",
    "    print(f, C_code) \n",
    "end"
   ]
  },
  {
   "cell_type": "code",
   "execution_count": 5,
   "metadata": {
    "slideshow": {
     "slide_type": "subslide"
    }
   },
   "outputs": [
    {
     "data": {
      "text/plain": [
       "c_sum (generic function with 1 method)"
      ]
     },
     "execution_count": 5,
     "metadata": {},
     "output_type": "execute_result"
    }
   ],
   "source": [
    "function c_sum(X::Array{Float64})\n",
    "    ccall((\"c_sum\", Clib), \n",
    "          Float64,\n",
    "          (Csize_t, Ref{Float64}),\n",
    "          length(X), X)\n",
    "end"
   ]
  },
  {
   "cell_type": "code",
   "execution_count": 6,
   "metadata": {
    "slideshow": {
     "slide_type": "subslide"
    }
   },
   "outputs": [],
   "source": [
    "using PyCall\n",
    "\n",
    "# Get two python objects that represent data\n",
    "# First a list and then a numpy array\n",
    "# We do this to cut down conversion overhead\n",
    "apy_list = PyCall.array2py(data)\n",
    "apy_numpy = PyObject(data)\n",
    "\n",
    "# get the Python built-in \"sum\" function:\n",
    "pysum = pybuiltin(\"sum\");\n",
    "# get the Numpy \"sum\" function:\n",
    "numpy_sum = pyimport(\"numpy\").sum;"
   ]
  },
  {
   "cell_type": "code",
   "execution_count": 7,
   "metadata": {},
   "outputs": [
    {
     "data": {
      "text/plain": [
       "PyObject"
      ]
     },
     "execution_count": 7,
     "metadata": {},
     "output_type": "execute_result"
    }
   ],
   "source": [
    "typeof(pysum)"
   ]
  },
  {
   "cell_type": "code",
   "execution_count": 8,
   "metadata": {
    "slideshow": {
     "slide_type": "subslide"
    }
   },
   "outputs": [],
   "source": [
    "py\"\"\"\n",
    "def py_sum(a):\n",
    "    s = 0.0\n",
    "    for x in a:\n",
    "        s = s + x\n",
    "    return s\n",
    "\"\"\"\n",
    "\n",
    "sum_py = py\"py_sum\";"
   ]
  },
  {
   "cell_type": "code",
   "execution_count": 9,
   "metadata": {
    "slideshow": {
     "slide_type": "subslide"
    }
   },
   "outputs": [
    {
     "data": {
      "text/plain": [
       "mysum (generic function with 1 method)"
      ]
     },
     "execution_count": 9,
     "metadata": {},
     "output_type": "execute_result"
    }
   ],
   "source": [
    "function mysum(data)\n",
    "  acc = zero(eltype(data))\n",
    "  for x in data\n",
    "      acc += x\n",
    "  end\n",
    "  return acc\n",
    "end"
   ]
  },
  {
   "cell_type": "code",
   "execution_count": 10,
   "metadata": {
    "slideshow": {
     "slide_type": "fragment"
    }
   },
   "outputs": [
    {
     "data": {
      "text/html": [
       "sum(a::<b>AbstractArray</b>) in Base at <a href=\"https://github.com/JuliaLang/julia/tree/c6da87ff4bc7a855e217856757ad3413cf6d1f79/base/reducedim.jl#L652\" target=\"_blank\">reducedim.jl:652</a>"
      ],
      "text/plain": [
       "sum(a::AbstractArray) in Base at reducedim.jl:652"
      ]
     },
     "execution_count": 10,
     "metadata": {},
     "output_type": "execute_result"
    }
   ],
   "source": [
    "@which sum(data)"
   ]
  },
  {
   "cell_type": "code",
   "execution_count": 11,
   "metadata": {},
   "outputs": [
    {
     "ename": "LoadError",
     "evalue": "UndefVarError: @benchmark not defined",
     "output_type": "error",
     "traceback": [
      "UndefVarError: @benchmark not defined",
      ""
     ]
    }
   ],
   "source": [
    "@benchmark g(x)"
   ]
  },
  {
   "cell_type": "code",
   "execution_count": 12,
   "metadata": {
    "slideshow": {
     "slide_type": "skip"
    }
   },
   "outputs": [
    {
     "data": {
      "text/plain": [
       "6-element BenchmarkTools.BenchmarkGroup:\n",
       "  tags: []\n",
       "  \"Julia builtin\" => Benchmark(evals=1, seconds=5.0, samples=10000)\n",
       "  \"Julia handwritten\" => Benchmark(evals=1, seconds=5.0, samples=10000)\n",
       "  ⋮"
      ]
     },
     "execution_count": 12,
     "metadata": {},
     "output_type": "execute_result"
    }
   ],
   "source": [
    "using BenchmarkTools\n",
    "\n",
    "suite = BenchmarkGroup()\n",
    "suite[\"Julia handwritten\"]       = @benchmarkable mysum($data)\n",
    "suite[\"Julia builtin\"]           = @benchmarkable sum($data)\n",
    "suite[\"Simple C function\"]       = @benchmarkable c_sum($data)\n",
    "suite[\"Python builtin (list)\"]   = @benchmarkable $pysum($apy_list)\n",
    "suite[\"Python builtin (numpy)\"]  = @benchmarkable $numpy_sum($apy_numpy)\n",
    "suite[\"Python handwritten\"]      = @benchmarkable $sum_py($apy_list)\n",
    "\n",
    "# If a cache of tuned parameters already exists, use it, otherwise, tune and cache\n",
    "# the benchmark parameters. Reusing cached parameters is faster and more reliable\n",
    "# than re-tuning `suite` every time the file is included.\n",
    "paramspath = joinpath(@__DIR__, \"sum_bench.json\")\n",
    "\n",
    "if isfile(paramspath)\n",
    "    loadparams!(suite, BenchmarkTools.load(paramspath)[1], :evals);\n",
    "else\n",
    "    tune!(suite)\n",
    "    BenchmarkTools.save(paramspath, params(suite));\n",
    "end"
   ]
  },
  {
   "cell_type": "code",
   "execution_count": 13,
   "metadata": {
    "scrolled": true,
    "slideshow": {
     "slide_type": "skip"
    }
   },
   "outputs": [
    {
     "data": {
      "text/plain": [
       "6-element BenchmarkTools.BenchmarkGroup:\n",
       "  tags: []\n",
       "  \"Julia builtin\" => Trial(4.111 ms)\n",
       "  \"Julia handwritten\" => Trial(11.346 ms)\n",
       "  ⋮"
      ]
     },
     "execution_count": 13,
     "metadata": {},
     "output_type": "execute_result"
    }
   ],
   "source": [
    "results = run(suite)"
   ]
  },
  {
   "cell_type": "code",
   "execution_count": 14,
   "metadata": {
    "scrolled": true,
    "slideshow": {
     "slide_type": "subslide"
    }
   },
   "outputs": [
    {
     "name": "stdout",
     "output_type": "stream",
     "text": [
      "Julia builtin.........................4.11 ms\n",
      "Python builtin (numpy)................4.19 ms\n",
      "Simple C function.....................11.3 ms\n",
      "Julia handwritten....................11.35 ms\n",
      "Python builtin (list).................42.7 ms\n",
      "Python handwritten..................221.39 ms\n"
     ]
    }
   ],
   "source": [
    "for (name, trial) in sort(collect(results), by=x->time(x[2]))\n",
    "    t = time(trial) / 1e6\n",
    "    println(rpad(name, 25, \".\"), lpad(string(round(t, digits=2), \" ms\"), 20, \".\"))\n",
    "end"
   ]
  },
  {
   "cell_type": "markdown",
   "metadata": {
    "slideshow": {
     "slide_type": "notes"
    }
   },
   "source": [
    "# In conclusion:\n",
    "The point is not that Julia has the fasted sum, the point is that a simple Julia implementation (that looks and feels like Python) is as fast as simple C, and that well optimised Julia code can be even faster.\n",
    "\n",
    "We can improve performance by giving the compiler more information `@inbounds` and `@simd`"
   ]
  },
  {
   "cell_type": "markdown",
   "metadata": {
    "slideshow": {
     "slide_type": "subslide"
    }
   },
   "source": [
    "# Aside: Which method"
   ]
  },
  {
   "cell_type": "code",
   "execution_count": 15,
   "metadata": {
    "slideshow": {
     "slide_type": "fragment"
    }
   },
   "outputs": [
    {
     "data": {
      "text/html": [
       "sum(a::<b>AbstractArray</b>) in Base at <a href=\"https://github.com/JuliaLang/julia/tree/c6da87ff4bc7a855e217856757ad3413cf6d1f79/base/reducedim.jl#L652\" target=\"_blank\">reducedim.jl:652</a>"
      ],
      "text/plain": [
       "sum(a::AbstractArray) in Base at reducedim.jl:652"
      ]
     },
     "execution_count": 15,
     "metadata": {},
     "output_type": "execute_result"
    }
   ],
   "source": [
    "@which sum(data)"
   ]
  },
  {
   "cell_type": "code",
   "execution_count": 16,
   "metadata": {
    "slideshow": {
     "slide_type": "fragment"
    }
   },
   "outputs": [
    {
     "data": {
      "text/html": [
       "mapreduce(f, op, A::<b>AbstractArray</b>) in Base at <a href=\"https://github.com/JuliaLang/julia/tree/c6da87ff4bc7a855e217856757ad3413cf6d1f79/base/reducedim.jl#L307\" target=\"_blank\">reducedim.jl:307</a>"
      ],
      "text/plain": [
       "mapreduce(f, op, A::AbstractArray) in Base at reducedim.jl:307"
      ]
     },
     "execution_count": 16,
     "metadata": {},
     "output_type": "execute_result"
    }
   ],
   "source": [
    "@which mapreduce(identity, +, data)"
   ]
  },
  {
   "cell_type": "code",
   "execution_count": 17,
   "metadata": {
    "slideshow": {
     "slide_type": "fragment"
    }
   },
   "outputs": [
    {
     "data": {
      "text/html": [
       "_mapreduce(f, op, ::<b>IndexLinear</b>, A::<b>AbstractArray{T,N} where N</b>)<i> where T</i> in Base at <a href=\"https://github.com/JuliaLang/julia/tree/c6da87ff4bc7a855e217856757ad3413cf6d1f79/base/reduce.jl#L306\" target=\"_blank\">reduce.jl:306</a>"
      ],
      "text/plain": [
       "_mapreduce(f, op, ::IndexLinear, A::AbstractArray{T,N} where N) where T in Base at reduce.jl:306"
      ]
     },
     "execution_count": 17,
     "metadata": {},
     "output_type": "execute_result"
    }
   ],
   "source": [
    "@which Base._mapreduce(identity, Base.add_sum, IndexStyle(data), data)"
   ]
  },
  {
   "cell_type": "code",
   "execution_count": 18,
   "metadata": {
    "slideshow": {
     "slide_type": "subslide"
    }
   },
   "outputs": [
    {
     "data": {
      "text/html": [
       "mapreduce_impl(f, op, A::<b>AbstractArray</b>, ifirst::<b>Integer</b>, ilast::<b>Integer</b>) in Base at <a href=\"https://github.com/JuliaLang/julia/tree/c6da87ff4bc7a855e217856757ad3413cf6d1f79/base/reduce.jl#L178\" target=\"_blank\">reduce.jl:178</a>"
      ],
      "text/plain": [
       "mapreduce_impl(f, op, A::AbstractArray, ifirst::Integer, ilast::Integer) in Base at reduce.jl:178"
      ]
     },
     "execution_count": 18,
     "metadata": {},
     "output_type": "execute_result"
    }
   ],
   "source": [
    "inds = LinearIndices(data)\n",
    "@which Base.mapreduce_impl(identity, Base.add_sum, data, first(inds), last(inds))"
   ]
  },
  {
   "cell_type": "code",
   "execution_count": 19,
   "metadata": {
    "slideshow": {
     "slide_type": "fragment"
    }
   },
   "outputs": [
    {
     "name": "stdout",
     "output_type": "stream",
     "text": [
      "blksize = Base.pairwise_blocksize(identity, Base.add_sum) = 1024\n"
     ]
    },
    {
     "data": {
      "text/html": [
       "mapreduce_impl(f, op, A::<b>AbstractArray</b>, ifirst::<b>Integer</b>, ilast::<b>Integer</b>, blksize::<b>Int64</b>) in Base at <a href=\"https://github.com/JuliaLang/julia/tree/c6da87ff4bc7a855e217856757ad3413cf6d1f79/base/reduce.jl#L156\" target=\"_blank\">reduce.jl:156</a>"
      ],
      "text/plain": [
       "mapreduce_impl(f, op, A::AbstractArray, ifirst::Integer, ilast::Integer, blksize::Int64) in Base at reduce.jl:156"
      ]
     },
     "execution_count": 19,
     "metadata": {},
     "output_type": "execute_result"
    }
   ],
   "source": [
    "@show blksize = Base.pairwise_blocksize(identity, Base.add_sum)\n",
    "@which Base.mapreduce_impl(identity, Base.add_sum, data, first(inds), last(inds),blksize)"
   ]
  }
 ],
 "metadata": {
  "@webio": {
   "lastCommId": "7beca78f39c647e697889d9b384b2fa2",
   "lastKernelId": "9807fa1d-456e-45e9-af10-830aed184e7d"
  },
  "celltoolbar": "Slideshow",
  "kernelspec": {
   "display_name": "Julia 1.2.0",
   "language": "julia",
   "name": "julia-1.2"
  },
  "language_info": {
   "file_extension": ".jl",
   "mimetype": "application/julia",
   "name": "julia",
   "version": "1.2.0"
  }
 },
 "nbformat": 4,
 "nbformat_minor": 4
}
