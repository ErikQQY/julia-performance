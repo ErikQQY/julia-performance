{
 "cells": [
  {
   "cell_type": "markdown",
   "metadata": {
    "slideshow": {
     "slide_type": "slide"
    }
   },
   "source": [
    "# Understandable performance\n",
    "*Going fast, nowhere*"
   ]
  },
  {
   "cell_type": "code",
   "execution_count": 1,
   "metadata": {
    "slideshow": {
     "slide_type": "skip"
    }
   },
   "outputs": [
    {
     "name": "stdout",
     "output_type": "stream",
     "text": [
      "\u001b[32m\u001b[1mActivating\u001b[22m\u001b[39m environment at `~/projects/julia-performance/envs/lecture2-2/Project.toml`\n",
      "\u001b[32m\u001b[1m  Updating\u001b[22m\u001b[39m registry at `~/.julia/registries/General`\n",
      "\u001b[32m\u001b[1m  Updating\u001b[22m\u001b[39m git-repo `https://github.com/JuliaRegistries/General.git`\n",
      "\u001b[?25l\u001b[2K\u001b[?25h"
     ]
    }
   ],
   "source": [
    "using Pkg\n",
    "Pkg.activate(\"../envs/lecture2-2\")\n",
    "Pkg.instantiate()"
   ]
  },
  {
   "cell_type": "markdown",
   "metadata": {
    "slideshow": {
     "slide_type": "subslide"
    }
   },
   "source": [
    "## A note on benchmarking\n",
    "*Premature optimization is the root of all evil* & *If you don't measure you won't improve*\n",
    "\n",
    "### Tools\n",
    "1. BenchmarkTools.jl https://github.com/JuliaCI/BenchmarkTools.jl\n",
    "2. Profiler https://docs.julialang.org/en/latest/manual/profile/\n",
    "3. ProfileView.jl https://github.com/timholy/ProfileView.jl\n",
    "4. VTunes/Perf/OProfile https://docs.julialang.org/en/latest/manual/profile/#External-Profiling-1\n",
    "4. PProf https://github.com/vchuravy/PProf.jl"
   ]
  },
  {
   "cell_type": "markdown",
   "metadata": {
    "slideshow": {
     "slide_type": "subslide"
    }
   },
   "source": [
    "## BenchmarkTools.jl\n",
    "Solid package that tries to eliminate common pitfalls in performance measurment.\n",
    "- `@benchmark` macro that will repeatedly evaluate your code to gain enough samples\n",
    "- Caveat: You probably want to escape `$` your input data"
   ]
  },
  {
   "cell_type": "code",
   "execution_count": 2,
   "metadata": {
    "slideshow": {
     "slide_type": "skip"
    }
   },
   "outputs": [],
   "source": [
    "data = rand(2^10);"
   ]
  },
  {
   "cell_type": "code",
   "execution_count": 3,
   "metadata": {},
   "outputs": [
    {
     "data": {
      "text/plain": [
       "sum (generic function with 1 method)"
      ]
     },
     "execution_count": 3,
     "metadata": {},
     "output_type": "execute_result"
    }
   ],
   "source": [
    "function sum(X::Vector{Float64})\n",
    "    acc = 0::Int64\n",
    "    for x::Float64 in X\n",
    "        (acc += x)::Float64\n",
    "    end\n",
    "    acc::Union{Int64, Float64}\n",
    "end"
   ]
  },
  {
   "cell_type": "code",
   "execution_count": 4,
   "metadata": {
    "slideshow": {
     "slide_type": "fragment"
    }
   },
   "outputs": [
    {
     "data": {
      "text/plain": [
       "BenchmarkTools.Trial: \n",
       "  memory estimate:  0 bytes\n",
       "  allocs estimate:  0\n",
       "  --------------\n",
       "  minimum time:     1.372 μs (0.00% GC)\n",
       "  median time:      1.459 μs (0.00% GC)\n",
       "  mean time:        1.466 μs (0.00% GC)\n",
       "  maximum time:     3.489 μs (0.00% GC)\n",
       "  --------------\n",
       "  samples:          10000\n",
       "  evals/sample:     10"
      ]
     },
     "execution_count": 4,
     "metadata": {},
     "output_type": "execute_result"
    }
   ],
   "source": [
    "using BenchmarkTools\n",
    "@benchmark sum($data)"
   ]
  },
  {
   "cell_type": "markdown",
   "metadata": {
    "slideshow": {
     "slide_type": "subslide"
    }
   },
   "source": [
    "![Compiler](../imgs/compiler.png)"
   ]
  },
  {
   "cell_type": "markdown",
   "metadata": {
    "slideshow": {
     "slide_type": "subslide"
    }
   },
   "source": [
    "![Compiler Stages](../imgs/compiler-stages.png)"
   ]
  },
  {
   "cell_type": "markdown",
   "metadata": {
    "slideshow": {
     "slide_type": "subslide"
    }
   },
   "source": [
    "## Figuring out what is happening\n",
    "The stages of the compiler\n",
    "- `@code_lowered`\n",
    "- `@code_typed` & `@code_warntype`\n",
    "- `@code_llvm`\n",
    "- `@code_native`\n",
    "\n",
    "Where is a function defined\n",
    "`@which` & `@edit`"
   ]
  },
  {
   "cell_type": "code",
   "execution_count": 5,
   "metadata": {
    "slideshow": {
     "slide_type": "skip"
    }
   },
   "outputs": [
    {
     "data": {
      "text/plain": [
       "escape"
      ]
     },
     "execution_count": 5,
     "metadata": {},
     "output_type": "execute_result"
    }
   ],
   "source": [
    "##########################\n",
    "# Low-level benchmarking #\n",
    "##########################\n",
    "using LLVM\n",
    "using LLVM.Interop\n",
    "\n",
    " \"\"\"\n",
    "    clobber()\n",
    " Force the compiler to flush pending writes to global memory.\n",
    "Acts as an effective read/write barrier.\n",
    "\"\"\"\n",
    "@inline clobber() = @asmcall(\"\", \"~{memory}\", true) \n",
    "\n",
    "\"\"\"\n",
    "    escape(val)\n",
    " The `escape` function can be used to prevent a value or\n",
    "expression from being optimized away by the compiler. This function is\n",
    "intended to add little to no overhead.\n",
    "See: https://youtu.be/nXaxk27zwlk?t=2441\n",
    "\"\"\"\n",
    "@inline escape(val::T) where T = @asmcall(\"\", \"X,~{memory}\", true, Nothing, Tuple{T}, val)"
   ]
  },
  {
   "cell_type": "markdown",
   "metadata": {
    "slideshow": {
     "slide_type": "slide"
    }
   },
   "source": [
    "# A simple example: counting"
   ]
  },
  {
   "cell_type": "code",
   "execution_count": 6,
   "metadata": {
    "slideshow": {
     "slide_type": "fragment"
    }
   },
   "outputs": [
    {
     "data": {
      "text/plain": [
       "f (generic function with 1 method)"
      ]
     },
     "execution_count": 6,
     "metadata": {},
     "output_type": "execute_result"
    }
   ],
   "source": [
    "function f(N)\n",
    "    acc = 0\n",
    "    for i in 1:N\n",
    "        acc += 1\n",
    "    end\n",
    "    return acc\n",
    "end"
   ]
  },
  {
   "cell_type": "code",
   "execution_count": 7,
   "metadata": {
    "slideshow": {
     "slide_type": "fragment"
    }
   },
   "outputs": [
    {
     "data": {
      "text/plain": [
       "BenchmarkTools.Trial: \n",
       "  memory estimate:  0 bytes\n",
       "  allocs estimate:  0\n",
       "  --------------\n",
       "  minimum time:     1.692 ns (0.00% GC)\n",
       "  median time:      1.701 ns (0.00% GC)\n",
       "  mean time:        1.746 ns (0.00% GC)\n",
       "  maximum time:     11.439 ns (0.00% GC)\n",
       "  --------------\n",
       "  samples:          10000\n",
       "  evals/sample:     1000"
      ]
     },
     "execution_count": 7,
     "metadata": {},
     "output_type": "execute_result"
    }
   ],
   "source": [
    "N = 100_000_000\n",
    "result = @benchmark f($N)"
   ]
  },
  {
   "cell_type": "code",
   "execution_count": 8,
   "metadata": {
    "slideshow": {
     "slide_type": "skip"
    }
   },
   "outputs": [],
   "source": [
    "using Unitful"
   ]
  },
  {
   "cell_type": "code",
   "execution_count": 9,
   "metadata": {
    "slideshow": {
     "slide_type": "subslide"
    }
   },
   "outputs": [
    {
     "data": {
      "text/plain": [
       "(1.692 ns, 59.1016548463357 PHz)"
      ]
     },
     "execution_count": 9,
     "metadata": {},
     "output_type": "execute_result"
    }
   ],
   "source": [
    "t = time(minimum(result)) * u\"ns\" # in ns\n",
    "pFreq = N/t |> u\"PHz\"\n",
    "t, pFreq"
   ]
  },
  {
   "cell_type": "markdown",
   "metadata": {
    "slideshow": {
     "slide_type": "fragment"
    }
   },
   "source": [
    "So we are doing 100 million additions in 1.2ns.\n",
    "So our processor is operating at 70 PHz..."
   ]
  },
  {
   "cell_type": "markdown",
   "metadata": {
    "slideshow": {
     "slide_type": "fragment"
    }
   },
   "source": [
    "We wish...\n",
    "\n",
    "What is going on?"
   ]
  },
  {
   "cell_type": "code",
   "execution_count": 10,
   "metadata": {
    "slideshow": {
     "slide_type": "slide"
    }
   },
   "outputs": [
    {
     "data": {
      "text/plain": [
       "BenchmarkTools.Trial: \n",
       "  memory estimate:  0 bytes\n",
       "  allocs estimate:  0\n",
       "  --------------\n",
       "  minimum time:     1.692 ns (0.00% GC)\n",
       "  median time:      1.701 ns (0.00% GC)\n",
       "  mean time:        1.713 ns (0.00% GC)\n",
       "  maximum time:     12.478 ns (0.00% GC)\n",
       "  --------------\n",
       "  samples:          10000\n",
       "  evals/sample:     1000"
      ]
     },
     "execution_count": 10,
     "metadata": {},
     "output_type": "execute_result"
    }
   ],
   "source": [
    "@benchmark f($(10*N))"
   ]
  },
  {
   "cell_type": "code",
   "execution_count": 11,
   "metadata": {
    "slideshow": {
     "slide_type": "subslide"
    }
   },
   "outputs": [
    {
     "data": {
      "text/plain": [
       "CodeInfo(\n",
       "\u001b[37m1 ─\u001b[39m       acc = 0\n",
       "\u001b[37m│  \u001b[39m %2  = 1:N\n",
       "\u001b[37m│  \u001b[39m       @_4 = Base.iterate(%2)\n",
       "\u001b[37m│  \u001b[39m %4  = @_4 === nothing\n",
       "\u001b[37m│  \u001b[39m %5  = Base.not_int(%4)\n",
       "\u001b[37m└──\u001b[39m       goto #4 if not %5\n",
       "\u001b[37m2 ┄\u001b[39m %7  = @_4\n",
       "\u001b[37m│  \u001b[39m       i = Core.getfield(%7, 1)\n",
       "\u001b[37m│  \u001b[39m %9  = Core.getfield(%7, 2)\n",
       "\u001b[37m│  \u001b[39m       acc = acc + 1\n",
       "\u001b[37m│  \u001b[39m       @_4 = Base.iterate(%2, %9)\n",
       "\u001b[37m│  \u001b[39m %12 = @_4 === nothing\n",
       "\u001b[37m│  \u001b[39m %13 = Base.not_int(%12)\n",
       "\u001b[37m└──\u001b[39m       goto #4 if not %13\n",
       "\u001b[37m3 ─\u001b[39m       goto #2\n",
       "\u001b[37m4 ┄\u001b[39m       return acc\n",
       ")"
      ]
     },
     "execution_count": 11,
     "metadata": {},
     "output_type": "execute_result"
    }
   ],
   "source": [
    "@code_lowered f(N)"
   ]
  },
  {
   "cell_type": "code",
   "execution_count": 12,
   "metadata": {
    "slideshow": {
     "slide_type": "subslide"
    }
   },
   "outputs": [
    {
     "data": {
      "text/plain": [
       "CodeInfo(\n",
       "\u001b[37m1 ─\u001b[39m       (acc = 0)\u001b[37m::Core.Compiler.Const(0, false)\u001b[39m\n",
       "\u001b[37m│  \u001b[39m %2  = (1:N)\u001b[36m::Core.Compiler.PartialStruct(UnitRange{Int64}, Any[Core.Compiler.Const(1, false), Int64])\u001b[39m\n",
       "\u001b[37m│  \u001b[39m       (@_4 = Base.iterate(%2))\u001b[37m::Union{Nothing, Tuple{Int64,Int64}}\u001b[39m\n",
       "\u001b[37m│  \u001b[39m %4  = (@_4 === nothing)\u001b[36m::Bool\u001b[39m\n",
       "\u001b[37m│  \u001b[39m %5  = Base.not_int(%4)\u001b[36m::Bool\u001b[39m\n",
       "\u001b[37m└──\u001b[39m       goto #4 if not %5\n",
       "\u001b[37m2 ┄\u001b[39m %7  = @_4::Tuple{Int64,Int64}\u001b[36m::Tuple{Int64,Int64}\u001b[39m\n",
       "\u001b[37m│  \u001b[39m       (i = Core.getfield(%7, 1))\u001b[37m::Int64\u001b[39m\n",
       "\u001b[37m│  \u001b[39m %9  = Core.getfield(%7, 2)\u001b[36m::Int64\u001b[39m\n",
       "\u001b[37m│  \u001b[39m       (acc = acc + 1)\u001b[37m::Int64\u001b[39m\n",
       "\u001b[37m│  \u001b[39m       (@_4 = Base.iterate(%2, %9))\u001b[37m::Union{Nothing, Tuple{Int64,Int64}}\u001b[39m\n",
       "\u001b[37m│  \u001b[39m %12 = (@_4 === nothing)\u001b[36m::Bool\u001b[39m\n",
       "\u001b[37m│  \u001b[39m %13 = Base.not_int(%12)\u001b[36m::Bool\u001b[39m\n",
       "\u001b[37m└──\u001b[39m       goto #4 if not %13\n",
       "\u001b[37m3 ─\u001b[39m       goto #2\n",
       "\u001b[37m4 ┄\u001b[39m       return acc\n",
       ") => Int64"
      ]
     },
     "execution_count": 12,
     "metadata": {},
     "output_type": "execute_result"
    }
   ],
   "source": [
    "@code_typed optimize=false f(N)"
   ]
  },
  {
   "cell_type": "code",
   "execution_count": 13,
   "metadata": {
    "slideshow": {
     "slide_type": "subslide"
    }
   },
   "outputs": [
    {
     "data": {
      "text/plain": [
       "CodeInfo(\n",
       "\u001b[37m1 ──\u001b[39m %1  = Base.sle_int(1, N)\u001b[36m::Bool\u001b[39m\n",
       "\u001b[37m│   \u001b[39m %2  = Base.ifelse(%1, N, 0)\u001b[36m::Int64\u001b[39m\n",
       "\u001b[37m│   \u001b[39m %3  = Base.slt_int(%2, 1)\u001b[36m::Bool\u001b[39m\n",
       "\u001b[37m└───\u001b[39m       goto #3 if not %3\n",
       "\u001b[37m2 ──\u001b[39m       goto #4\n",
       "\u001b[37m3 ──\u001b[39m       goto #4\n",
       "\u001b[37m4 ┄─\u001b[39m %7  = φ (#2 => true, #3 => false)\u001b[36m::Bool\u001b[39m\n",
       "\u001b[37m│   \u001b[39m %8  = φ (#3 => 1)\u001b[36m::Int64\u001b[39m\n",
       "\u001b[37m│   \u001b[39m %9  = Base.not_int(%7)\u001b[36m::Bool\u001b[39m\n",
       "\u001b[37m└───\u001b[39m       goto #10 if not %9\n",
       "\u001b[37m5 ┄─\u001b[39m %11 = φ (#4 => 0, #9 => %13)\u001b[36m::Int64\u001b[39m\n",
       "\u001b[37m│   \u001b[39m %12 = φ (#4 => %8, #9 => %19)\u001b[36m::Int64\u001b[39m\n",
       "\u001b[37m│   \u001b[39m %13 = Base.add_int(%11, 1)\u001b[36m::Int64\u001b[39m\n",
       "\u001b[37m│   \u001b[39m %14 = (%12 === %2)\u001b[36m::Bool\u001b[39m\n",
       "\u001b[37m└───\u001b[39m       goto #7 if not %14\n",
       "\u001b[37m6 ──\u001b[39m       goto #8\n",
       "\u001b[37m7 ──\u001b[39m %17 = Base.add_int(%12, 1)\u001b[36m::Int64\u001b[39m\n",
       "\u001b[37m└───\u001b[39m       goto #8\n",
       "\u001b[37m8 ┄─\u001b[39m %19 = φ (#7 => %17)\u001b[36m::Int64\u001b[39m\n",
       "\u001b[37m│   \u001b[39m %20 = φ (#6 => true, #7 => false)\u001b[36m::Bool\u001b[39m\n",
       "\u001b[37m│   \u001b[39m %21 = Base.not_int(%20)\u001b[36m::Bool\u001b[39m\n",
       "\u001b[37m└───\u001b[39m       goto #10 if not %21\n",
       "\u001b[37m9 ──\u001b[39m       goto #5\n",
       "\u001b[37m10 ┄\u001b[39m %24 = φ (#8 => %13, #4 => 0)\u001b[36m::Int64\u001b[39m\n",
       "\u001b[37m└───\u001b[39m       return %24\n",
       ") => Int64"
      ]
     },
     "execution_count": 13,
     "metadata": {},
     "output_type": "execute_result"
    }
   ],
   "source": [
    "@code_typed optimize=true f(N)"
   ]
  },
  {
   "cell_type": "code",
   "execution_count": 14,
   "metadata": {
    "slideshow": {
     "slide_type": "subslide"
    }
   },
   "outputs": [
    {
     "name": "stdout",
     "output_type": "stream",
     "text": [
      "\n",
      ";  @ In[6]:2 within `f'\n",
      "define i64 @julia_f_17205(i64) {\n",
      "top:\n",
      "  %1 = call %jl_value_t*** @julia.ptls_states()\n",
      "  %2 = bitcast %jl_value_t*** %1 to %jl_value_t addrspace(10)**\n",
      "  %3 = getelementptr inbounds %jl_value_t addrspace(10)*, %jl_value_t addrspace(10)** %2, i64 4\n",
      "  %4 = bitcast %jl_value_t addrspace(10)** %3 to i64**\n",
      "  %5 = load i64*, i64** %4\n",
      ";  @ In[6]:3 within `f'\n",
      "; ┌ @ range.jl:5 within `Colon'\n",
      "; │┌ @ range.jl:275 within `Type'\n",
      "; ││┌ @ range.jl:280 within `unitrange_last'\n",
      "; │││┌ @ operators.jl:341 within `>='\n",
      "; ││││┌ @ int.jl:424 within `<='\n",
      "       %6 = icmp sle i64 1, %0\n",
      "; │││└└\n",
      "     %7 = zext i1 %6 to i8\n",
      "     %8 = trunc i8 %7 to i1\n",
      "     %9 = xor i1 %8, true\n",
      "     %10 = select i1 %9, i64 0, i64 %0\n",
      "; └└└\n",
      "; ┌ @ range.jl:591 within `iterate'\n",
      "; │┌ @ range.jl:475 within `isempty'\n",
      "; ││┌ @ operators.jl:294 within `>'\n",
      "; │││┌ @ int.jl:49 within `<'\n",
      "      %11 = icmp slt i64 %10, 1\n",
      "; │└└└\n",
      "   %12 = zext i1 %11 to i8\n",
      "   %13 = trunc i8 %12 to i1\n",
      "   %14 = xor i1 %13, true\n",
      "   br i1 %14, label %L6, label %L5\n",
      "\n",
      "L5:                                               ; preds = %top\n",
      "   br label %L7\n",
      "\n",
      "L6:                                               ; preds = %top\n",
      "   br label %L7\n",
      "\n",
      "L7:                                               ; preds = %L6, %L5\n",
      "   %value_phi = phi i8 [ 1, %L5 ], [ 0, %L6 ]\n",
      "   %value_phi1 = phi i64 [ 1, %L6 ], [ undef, %L5 ]\n",
      "; └\n",
      "  %15 = xor i8 %value_phi, 1\n",
      "  %16 = trunc i8 %15 to i1\n",
      "  %17 = xor i1 %16, true\n",
      "  br i1 %17, label %L7.L24_crit_edge, label %L7.L11_crit_edge\n",
      "\n",
      "L7.L24_crit_edge:                                 ; preds = %L7\n",
      "  br label %L24\n",
      "\n",
      "L7.L11_crit_edge:                                 ; preds = %L7\n",
      "  br label %L11\n",
      "\n",
      "L11:                                              ; preds = %L7.L11_crit_edge, %L23\n",
      "  %value_phi2 = phi i64 [ 0, %L7.L11_crit_edge ], [ %18, %L23 ]\n",
      "  %value_phi3 = phi i64 [ %value_phi1, %L7.L11_crit_edge ], [ %value_phi4, %L23 ]\n",
      ";  @ In[6]:4 within `f'\n",
      "; ┌ @ int.jl:53 within `+'\n",
      "   %18 = add i64 %value_phi2, 1\n",
      "; └\n",
      "; ┌ @ range.jl:595 within `iterate'\n",
      "; │┌ @ promotion.jl:403 within `=='\n",
      "    %19 = icmp eq i64 %value_phi3, %10\n",
      "    %20 = zext i1 %19 to i8\n",
      "; │└\n",
      "   %21 = trunc i8 %20 to i1\n",
      "   %22 = xor i1 %21, true\n",
      "   br i1 %22, label %L17, label %L16\n",
      "\n",
      "L16:                                              ; preds = %L11\n",
      "   br label %L19\n",
      "\n",
      "L17:                                              ; preds = %L11\n",
      "; │ @ range.jl:596 within `iterate'\n",
      "; │┌ @ int.jl:53 within `+'\n",
      "    %23 = add i64 %value_phi3, 1\n",
      "; │└\n",
      "; │ @ range.jl:597 within `iterate'\n",
      "   br label %L19\n",
      "\n",
      "L19:                                              ; preds = %L17, %L16\n",
      "   %value_phi4 = phi i64 [ %23, %L17 ], [ undef, %L16 ]\n",
      "   %value_phi5 = phi i8 [ 1, %L16 ], [ 0, %L17 ]\n",
      "; └\n",
      "  %24 = xor i8 %value_phi5, 1\n",
      "  %25 = trunc i8 %24 to i1\n",
      "  %26 = xor i1 %25, true\n",
      "  br i1 %26, label %L19.L24_crit_edge, label %L23\n",
      "\n",
      "L19.L24_crit_edge:                                ; preds = %L19\n",
      "  br label %L24\n",
      "\n",
      "L23:                                              ; preds = %L19\n",
      "  br label %L11\n",
      "\n",
      "L24:                                              ; preds = %L7.L24_crit_edge, %L19.L24_crit_edge\n",
      "  %value_phi6 = phi i64 [ %18, %L19.L24_crit_edge ], [ 0, %L7.L24_crit_edge ]\n",
      ";  @ In[6]:6 within `f'\n",
      "  ret i64 %value_phi6\n",
      "}\n"
     ]
    }
   ],
   "source": [
    "@code_llvm optimize=false f(10)"
   ]
  },
  {
   "cell_type": "code",
   "execution_count": 15,
   "metadata": {
    "slideshow": {
     "slide_type": "subslide"
    }
   },
   "outputs": [
    {
     "name": "stdout",
     "output_type": "stream",
     "text": [
      "\n",
      ";  @ In[6]:2 within `f'\n",
      "define i64 @julia_f_17206(i64) {\n",
      "top:\n",
      ";  @ In[6]:3 within `f'\n",
      "; ┌ @ range.jl:5 within `Colon'\n",
      "; │┌ @ range.jl:275 within `Type'\n",
      "; ││┌ @ range.jl:280 within `unitrange_last'\n",
      "; │││┌ @ operators.jl:341 within `>='\n",
      "; ││││┌ @ int.jl:424 within `<='\n",
      "       %1 = icmp sgt i64 %0, 0\n",
      "; └└└└└\n",
      "  %spec.select = select i1 %1, i64 %0, i64 0\n",
      ";  @ In[6]:6 within `f'\n",
      "  ret i64 %spec.select\n",
      "}\n"
     ]
    }
   ],
   "source": [
    "@code_llvm optimize=true f(10)"
   ]
  },
  {
   "cell_type": "code",
   "execution_count": 16,
   "metadata": {
    "slideshow": {
     "slide_type": "subslide"
    }
   },
   "outputs": [
    {
     "name": "stdout",
     "output_type": "stream",
     "text": [
      "\t.text\n",
      "; ┌ @ In[6]:2 within `f'\n",
      "\tmovq\t%rdi, %rax\n",
      "\tsarq\t$63, %rax\n",
      "\tandnq\t%rdi, %rax, %rax\n",
      "; │ @ In[6]:6 within `f'\n",
      "\tretq\n",
      "\tnopl\t(%rax)\n",
      "; └\n"
     ]
    }
   ],
   "source": [
    "@code_native f(10)"
   ]
  },
  {
   "cell_type": "markdown",
   "metadata": {
    "slideshow": {
     "slide_type": "subslide"
    }
   },
   "source": [
    "# Conclusion\n",
    "\n",
    "LLVM realised that our loop.\n",
    "\n",
    "```julia\n",
    "for i in 1:N\n",
    "  acc += 1\n",
    "end\n",
    "```\n",
    "\n",
    "Just ended up being $acc = 1 * N$"
   ]
  },
  {
   "cell_type": "markdown",
   "metadata": {
    "slideshow": {
     "slide_type": "subslide"
    }
   },
   "source": [
    "# Exercise\n",
    "\n",
    "What happens with:\n",
    "\n",
    "```julia\n",
    "function h(N)\n",
    "    acc = 0.0\n",
    "    for i in 1:N\n",
    "        acc += 1.0\n",
    "    end\n",
    "    acc\n",
    "end\n",
    "```\n",
    "\n",
    "and\n",
    "\n",
    "```julia\n",
    "function g(N)\n",
    "    acc = 0\n",
    "    for i in 1:N\n",
    "        acc += 1.0\n",
    "    end\n",
    "    acc\n",
    "end\n",
    "```\n",
    "    "
   ]
  },
  {
   "cell_type": "code",
   "execution_count": 17,
   "metadata": {
    "slideshow": {
     "slide_type": "skip"
    }
   },
   "outputs": [
    {
     "data": {
      "text/plain": [
       "h (generic function with 1 method)"
      ]
     },
     "execution_count": 17,
     "metadata": {},
     "output_type": "execute_result"
    }
   ],
   "source": [
    "function h(N)\n",
    "    acc = 0.0\n",
    "    for i in 1:N\n",
    "        acc += 1.0\n",
    "    end\n",
    "    acc\n",
    "end"
   ]
  },
  {
   "cell_type": "code",
   "execution_count": 18,
   "metadata": {
    "slideshow": {
     "slide_type": "subslide"
    }
   },
   "outputs": [
    {
     "name": "stdout",
     "output_type": "stream",
     "text": [
      "\t.text\n",
      "; ┌ @ In[17]:2 within `h'\n",
      "\tvxorpd\t%xmm0, %xmm0, %xmm0\n",
      "; │ @ In[17]:3 within `h'\n",
      "; │┌ @ range.jl:5 within `Colon'\n",
      "; ││┌ @ range.jl:275 within `Type'\n",
      "; │││┌ @ range.jl:280 within `unitrange_last'\n",
      "; ││││┌ @ operators.jl:341 within `>='\n",
      "; │││││┌ @ int.jl:424 within `<='\n",
      "\ttestq\t%rdi, %rdi\n",
      "; │└└└└└\n",
      "\tjle\tL42\n",
      "\tmovabsq\t$139788113587504, %rax  # imm = 0x7F22F4DAAD30\n",
      "\tvmovsd\t(%rax), %xmm1           # xmm1 = mem[0],zero\n",
      "\tnopw\t(%rax,%rax)\n",
      "; │ @ In[17]:4 within `h'\n",
      "; │┌ @ float.jl:395 within `+'\n",
      "L32:\n",
      "\tvaddsd\t%xmm1, %xmm0, %xmm0\n",
      "; │└\n",
      "; │┌ @ range.jl:595 within `iterate'\n",
      "; ││┌ @ promotion.jl:403 within `=='\n",
      "\taddq\t$-1, %rdi\n",
      "; │└└\n",
      "\tjne\tL32\n",
      "; │ @ In[17]:6 within `h'\n",
      "L42:\n",
      "\tretq\n",
      "\tnopl\t(%rax,%rax)\n",
      "; └\n"
     ]
    }
   ],
   "source": [
    "@code_native h(10)"
   ]
  },
  {
   "cell_type": "code",
   "execution_count": 19,
   "metadata": {
    "slideshow": {
     "slide_type": "skip"
    }
   },
   "outputs": [
    {
     "data": {
      "text/plain": [
       "g (generic function with 1 method)"
      ]
     },
     "execution_count": 19,
     "metadata": {},
     "output_type": "execute_result"
    }
   ],
   "source": [
    "function g(::Type{T}, N) where T\n",
    "    acc = zero(T)\n",
    "    for i in 1:N\n",
    "        acc += one(T)\n",
    "    end\n",
    "    acc\n",
    "end"
   ]
  },
  {
   "cell_type": "code",
   "execution_count": 20,
   "metadata": {
    "slideshow": {
     "slide_type": "slide"
    }
   },
   "outputs": [
    {
     "name": "stdout",
     "output_type": "stream",
     "text": [
      "Variables\n",
      "  #self#\u001b[36m::Core.Compiler.Const(g, false)\u001b[39m\n",
      "  #unused#\u001b[36m::Core.Compiler.Const(Int64, false)\u001b[39m\n",
      "  N\u001b[36m::Int64\u001b[39m\n",
      "  acc\u001b[36m::Int64\u001b[39m\n",
      "  @_5\u001b[33m\u001b[1m::Union{Nothing, Tuple{Int64,Int64}}\u001b[22m\u001b[39m\n",
      "  i\u001b[36m::Int64\u001b[39m\n",
      "\n",
      "Body\u001b[36m::Int64\u001b[39m\n",
      "\u001b[37m1 ─\u001b[39m       (acc = Main.zero($(Expr(:static_parameter, 1))))\n",
      "\u001b[37m│  \u001b[39m %2  = (1:N)\u001b[36m::Core.Compiler.PartialStruct(UnitRange{Int64}, Any[Core.Compiler.Const(1, false), Int64])\u001b[39m\n",
      "\u001b[37m│  \u001b[39m       (@_5 = Base.iterate(%2))\n",
      "\u001b[37m│  \u001b[39m %4  = (@_5 === nothing)\u001b[36m::Bool\u001b[39m\n",
      "\u001b[37m│  \u001b[39m %5  = Base.not_int(%4)\u001b[36m::Bool\u001b[39m\n",
      "\u001b[37m└──\u001b[39m       goto #4 if not %5\n",
      "\u001b[37m2 ┄\u001b[39m %7  = @_5::Tuple{Int64,Int64}\u001b[36m::Tuple{Int64,Int64}\u001b[39m\n",
      "\u001b[37m│  \u001b[39m       (i = Core.getfield(%7, 1))\n",
      "\u001b[37m│  \u001b[39m %9  = Core.getfield(%7, 2)\u001b[36m::Int64\u001b[39m\n",
      "\u001b[37m│  \u001b[39m %10 = acc\u001b[36m::Int64\u001b[39m\n",
      "\u001b[37m│  \u001b[39m %11 = Main.one($(Expr(:static_parameter, 1)))\u001b[36m::Core.Compiler.Const(1, false)\u001b[39m\n",
      "\u001b[37m│  \u001b[39m       (acc = %10 + %11)\n",
      "\u001b[37m│  \u001b[39m       (@_5 = Base.iterate(%2, %9))\n",
      "\u001b[37m│  \u001b[39m %14 = (@_5 === nothing)\u001b[36m::Bool\u001b[39m\n",
      "\u001b[37m│  \u001b[39m %15 = Base.not_int(%14)\u001b[36m::Bool\u001b[39m\n",
      "\u001b[37m└──\u001b[39m       goto #4 if not %15\n",
      "\u001b[37m3 ─\u001b[39m       goto #2\n",
      "\u001b[37m4 ┄\u001b[39m       return acc\n"
     ]
    }
   ],
   "source": [
    "@code_warntype g(Int, 10)"
   ]
  },
  {
   "cell_type": "code",
   "execution_count": 21,
   "metadata": {
    "slideshow": {
     "slide_type": "subslide"
    }
   },
   "outputs": [
    {
     "data": {
      "text/plain": [
       "k (generic function with 1 method)"
      ]
     },
     "execution_count": 21,
     "metadata": {},
     "output_type": "execute_result"
    }
   ],
   "source": [
    "function k(::Type{T}, N) where T\n",
    "    acc = zero(T)\n",
    "    for i in 1:N\n",
    "        acc += one(T)\n",
    "        clobber()\n",
    "    end\n",
    "    return acc\n",
    "end"
   ]
  },
  {
   "cell_type": "code",
   "execution_count": 22,
   "metadata": {
    "slideshow": {
     "slide_type": "subslide"
    }
   },
   "outputs": [
    {
     "name": "stdout",
     "output_type": "stream",
     "text": [
      "\t.text\n",
      "; ┌ @ In[21]:2 within `k'\n",
      "\tvxorpd\t%xmm0, %xmm0, %xmm0\n",
      "; │ @ In[21]:3 within `k'\n",
      "; │┌ @ range.jl:5 within `Colon'\n",
      "; ││┌ @ range.jl:275 within `Type'\n",
      "; │││┌ @ range.jl:280 within `unitrange_last'\n",
      "; ││││┌ @ operators.jl:341 within `>='\n",
      "; │││││┌ @ int.jl:424 within `<='\n",
      "\ttestq\t%rsi, %rsi\n",
      "; │└└└└└\n",
      "\tjle\tL42\n",
      "\tmovabsq\t$139788113599624, %rax  # imm = 0x7F22F4DADC88\n",
      "\tvmovsd\t(%rax), %xmm1           # xmm1 = mem[0],zero\n",
      "\tnopw\t(%rax,%rax)\n",
      "; │ @ In[21]:4 within `k'\n",
      "; │┌ @ float.jl:395 within `+'\n",
      "L32:\n",
      "\tvaddsd\t%xmm1, %xmm0, %xmm0\n",
      "; │└\n",
      "; │ @ In[21]:5 within `k'\n",
      "; │┌ @ range.jl:595 within `iterate'\n",
      "; ││┌ @ base.jl:52 within `=='\n",
      "\taddq\t$-1, %rsi\n",
      "; │└└\n",
      "\tjne\tL32\n",
      "; │ @ In[21]:7 within `k'\n",
      "L42:\n",
      "\tretq\n",
      "\tnopl\t(%rax,%rax)\n",
      "; └\n"
     ]
    }
   ],
   "source": [
    "@code_native k(Float64, 10)"
   ]
  },
  {
   "cell_type": "code",
   "execution_count": 23,
   "metadata": {
    "slideshow": {
     "slide_type": "subslide"
    }
   },
   "outputs": [
    {
     "name": "stdout",
     "output_type": "stream",
     "text": [
      "\t.text\n",
      "; ┌ @ In[21]:3 within `k'\n",
      "; │┌ @ range.jl:5 within `Colon'\n",
      "; ││┌ @ range.jl:275 within `Type'\n",
      "; │││┌ @ range.jl:280 within `unitrange_last'\n",
      "; ││││┌ @ operators.jl:341 within `>='\n",
      "; │││││┌ @ In[21]:2 within `<='\n",
      "\ttestq\t%rsi, %rsi\n",
      "; │└└└└└\n",
      "\tjle\tL26\n",
      "\tmovq\t%rsi, %rax\n",
      "\tnopl\t(%rax,%rax)\n",
      "; │ @ In[21]:5 within `k'\n",
      "; │┌ @ range.jl:595 within `iterate'\n",
      "; ││┌ @ base.jl:52 within `=='\n",
      "L16:\n",
      "\taddq\t$-1, %rax\n",
      "; │└└\n",
      "\tjne\tL16\n",
      "; │ @ In[21]:7 within `k'\n",
      "\tmovq\t%rsi, %rax\n",
      "\tretq\n",
      "L26:\n",
      "\txorl\t%esi, %esi\n",
      "; │ @ In[21]:7 within `k'\n",
      "\tmovq\t%rsi, %rax\n",
      "\tretq\n",
      "; └\n"
     ]
    }
   ],
   "source": [
    "@code_native k(Int64, 10)"
   ]
  },
  {
   "cell_type": "code",
   "execution_count": 24,
   "metadata": {
    "slideshow": {
     "slide_type": "subslide"
    }
   },
   "outputs": [
    {
     "data": {
      "text/plain": [
       "m (generic function with 1 method)"
      ]
     },
     "execution_count": 24,
     "metadata": {},
     "output_type": "execute_result"
    }
   ],
   "source": [
    "function m(::Type{T}, N) where T\n",
    "    acc = zero(T)\n",
    "    for i in 1:N\n",
    "        acc += one(T)\n",
    "        escape(acc)\n",
    "    end\n",
    "    return acc\n",
    "end"
   ]
  },
  {
   "cell_type": "code",
   "execution_count": 25,
   "metadata": {
    "slideshow": {
     "slide_type": "subslide"
    }
   },
   "outputs": [
    {
     "name": "stdout",
     "output_type": "stream",
     "text": [
      "\t.text\n",
      "; ┌ @ In[24]:3 within `m'\n",
      "; │┌ @ range.jl:5 within `Colon'\n",
      "; ││┌ @ range.jl:275 within `Type'\n",
      "; │││┌ @ range.jl:280 within `unitrange_last'\n",
      "; ││││┌ @ operators.jl:341 within `>='\n",
      "; │││││┌ @ In[24]:2 within `<='\n",
      "\ttestq\t%rsi, %rsi\n",
      "; │└└└└└\n",
      "\tjle\tL38\n",
      "\tmovq\t%rsi, %rax\n",
      "\tnegq\t%rax\n",
      "\tmovl\t$1, %ecx\n",
      "; │ @ In[24]:5 within `m'\n",
      "; │┌ @ range.jl:595 within `iterate'\n",
      "; ││┌ @ base.jl:52 within `=='\n",
      "L16:\n",
      "\tleaq\t(%rax,%rcx), %rdx\n",
      "\taddq\t$1, %rdx\n",
      "; ││└\n",
      "; ││ @ range.jl:596 within `iterate'\n",
      "; ││┌ @ int.jl:53 within `+'\n",
      "\taddq\t$1, %rcx\n",
      "; ││└\n",
      "; ││ @ range.jl:595 within `iterate'\n",
      "; ││┌ @ promotion.jl:403 within `=='\n",
      "\tcmpq\t$1, %rdx\n",
      "; │└└\n",
      "\tjne\tL16\n",
      "; │ @ In[24]:7 within `m'\n",
      "\tmovq\t%rsi, %rax\n",
      "\tretq\n",
      "L38:\n",
      "\txorl\t%esi, %esi\n",
      "; │ @ In[24]:7 within `m'\n",
      "\tmovq\t%rsi, %rax\n",
      "\tretq\n",
      "\tnopl\t(%rax)\n",
      "; └\n"
     ]
    }
   ],
   "source": [
    "@code_native m(Int64, 30)"
   ]
  },
  {
   "cell_type": "code",
   "execution_count": 26,
   "metadata": {
    "slideshow": {
     "slide_type": "subslide"
    }
   },
   "outputs": [
    {
     "data": {
      "text/plain": [
       "BenchmarkTools.Trial: \n",
       "  memory estimate:  0 bytes\n",
       "  allocs estimate:  0\n",
       "  --------------\n",
       "  minimum time:     30.495 ms (0.00% GC)\n",
       "  median time:      32.678 ms (0.00% GC)\n",
       "  mean time:        33.166 ms (0.00% GC)\n",
       "  maximum time:     56.087 ms (0.00% GC)\n",
       "  --------------\n",
       "  samples:          151\n",
       "  evals/sample:     1"
      ]
     },
     "execution_count": 26,
     "metadata": {},
     "output_type": "execute_result"
    }
   ],
   "source": [
    "result2 = @benchmark m($Int64, $N)"
   ]
  },
  {
   "cell_type": "code",
   "execution_count": 27,
   "metadata": {
    "slideshow": {
     "slide_type": "subslide"
    }
   },
   "outputs": [
    {
     "data": {
      "text/plain": [
       "BenchmarkTools.Trial: \n",
       "  memory estimate:  0 bytes\n",
       "  allocs estimate:  0\n",
       "  --------------\n",
       "  minimum time:     285.817 ms (0.00% GC)\n",
       "  median time:      294.762 ms (0.00% GC)\n",
       "  mean time:        297.591 ms (0.00% GC)\n",
       "  maximum time:     331.349 ms (0.00% GC)\n",
       "  --------------\n",
       "  samples:          17\n",
       "  evals/sample:     1"
      ]
     },
     "execution_count": 27,
     "metadata": {},
     "output_type": "execute_result"
    }
   ],
   "source": [
    "@benchmark m($Int64, $(N*10))"
   ]
  },
  {
   "cell_type": "code",
   "execution_count": 28,
   "metadata": {
    "slideshow": {
     "slide_type": "subslide"
    }
   },
   "outputs": [
    {
     "data": {
      "text/plain": [
       "3.279203735878765 GHz"
      ]
     },
     "execution_count": 28,
     "metadata": {},
     "output_type": "execute_result"
    }
   ],
   "source": [
    "t = time(minimum(result2)) * u\"ns\" # in ns\n",
    "pFreq = N/t |> u\"GHz\""
   ]
  },
  {
   "cell_type": "markdown",
   "metadata": {
    "slideshow": {
     "slide_type": "fragment"
    }
   },
   "source": [
    "Sanity restored: 3.8 GHz is much closer to the frequency of my actual processor \n",
    "\n",
    "Note: Benchmarking is hard, careful evalutaion of *what* you are trying to benchmark.\n",
    "\n",
    "- If we were just interesting in how fast `f(N)` was we would have been fine with our first measurement\n",
    "- But we were interested in the speed of addition as a proxy of perfromance\n",
    "- Integer math on a computer is associative, Floating-Point math is not."
   ]
  },
  {
   "cell_type": "code",
   "execution_count": 29,
   "metadata": {
    "slideshow": {
     "slide_type": "subslide"
    }
   },
   "outputs": [
    {
     "data": {
      "text/plain": [
       "BenchmarkTools.Trial: \n",
       "  memory estimate:  0 bytes\n",
       "  allocs estimate:  0\n",
       "  --------------\n",
       "  minimum time:     118.483 ms (0.00% GC)\n",
       "  median time:      121.931 ms (0.00% GC)\n",
       "  mean time:        123.227 ms (0.00% GC)\n",
       "  maximum time:     130.173 ms (0.00% GC)\n",
       "  --------------\n",
       "  samples:          41\n",
       "  evals/sample:     1"
      ]
     },
     "execution_count": 29,
     "metadata": {},
     "output_type": "execute_result"
    }
   ],
   "source": [
    "@benchmark h($N)"
   ]
  },
  {
   "cell_type": "code",
   "execution_count": 30,
   "metadata": {
    "slideshow": {
     "slide_type": "subslide"
    }
   },
   "outputs": [
    {
     "data": {
      "text/plain": [
       "l (generic function with 1 method)"
      ]
     },
     "execution_count": 30,
     "metadata": {},
     "output_type": "execute_result"
    }
   ],
   "source": [
    "function l(N)\n",
    "    acc = 0.0\n",
    "    @simd for i in 1:N\n",
    "        acc += 1.0\n",
    "    end\n",
    "    acc\n",
    "end"
   ]
  },
  {
   "cell_type": "code",
   "execution_count": 31,
   "metadata": {
    "scrolled": true,
    "slideshow": {
     "slide_type": "subslide"
    }
   },
   "outputs": [
    {
     "data": {
      "text/plain": [
       "BenchmarkTools.Trial: \n",
       "  memory estimate:  0 bytes\n",
       "  allocs estimate:  0\n",
       "  --------------\n",
       "  minimum time:     6.377 ms (0.00% GC)\n",
       "  median time:      6.773 ms (0.00% GC)\n",
       "  mean time:        6.750 ms (0.00% GC)\n",
       "  maximum time:     7.683 ms (0.00% GC)\n",
       "  --------------\n",
       "  samples:          741\n",
       "  evals/sample:     1"
      ]
     },
     "execution_count": 31,
     "metadata": {},
     "output_type": "execute_result"
    }
   ],
   "source": [
    "@benchmark l($N)"
   ]
  },
  {
   "cell_type": "markdown",
   "metadata": {
    "slideshow": {
     "slide_type": "subslide"
    }
   },
   "source": [
    "# Performance annotiations in Julia\n",
    "\n",
    "- https://docs.julialang.org/en/v1/manual/performance-tips/\n",
    "- Julia does bounds checking by default `ones(10)[11]` is an error\n",
    "- `@inbounds` Turns of bounds-checking locally\n",
    "- `@fastmath` Turns of strict IEEE749 locally -- be very careful this might not to what you want\n",
    "- `@simd` and `@simd ivdep` stronger gurantuees to encourage LLVM to use SIMD operations"
   ]
  },
  {
   "cell_type": "code",
   "execution_count": 32,
   "metadata": {
    "slideshow": {
     "slide_type": "subslide"
    }
   },
   "outputs": [
    {
     "data": {
      "text/latex": [
       "\\begin{verbatim}\n",
       "@simd\n",
       "\\end{verbatim}\n",
       "Annotate a \\texttt{for} loop to allow the compiler to take extra liberties to allow loop re-ordering\n",
       "\n",
       "\\begin{quote}\n",
       "\\textbf{warning}\n",
       "\n",
       "Warning\n",
       "\n",
       "This feature is experimental and could change or disappear in future versions of Julia. Incorrect use of the \\texttt{@simd} macro may cause unexpected results.\n",
       "\n",
       "\\end{quote}\n",
       "The object iterated over in a \\texttt{@simd for} loop should be a one-dimensional range. By using \\texttt{@simd}, you are asserting several properties of the loop:\n",
       "\n",
       "\\begin{itemize}\n",
       "\\item It is safe to execute iterations in arbitrary or overlapping order, with special consideration for reduction variables.\n",
       "\n",
       "\n",
       "\\item Floating-point operations on reduction variables can be reordered, possibly causing different results than without \\texttt{@simd}.\n",
       "\n",
       "\\end{itemize}\n",
       "In many cases, Julia is able to automatically vectorize inner for loops without the use of \\texttt{@simd}. Using \\texttt{@simd} gives the compiler a little extra leeway to make it possible in more situations. In either case, your inner loop should have the following properties to allow vectorization:\n",
       "\n",
       "\\begin{itemize}\n",
       "\\item The loop must be an innermost loop\n",
       "\n",
       "\n",
       "\\item The loop body must be straight-line code. Therefore, \\href{@ref}{\\texttt{@inbounds}} is   currently needed for all array accesses. The compiler can sometimes turn   short \\texttt{\\&\\&}, \\texttt{||}, and \\texttt{?:} expressions into straight-line code if it is safe   to evaluate all operands unconditionally. Consider using the \\href{@ref}{\\texttt{ifelse}}   function instead of \\texttt{?:} in the loop if it is safe to do so.\n",
       "\n",
       "\n",
       "\\item Accesses must have a stride pattern and cannot be \"gathers\" (random-index   reads) or \"scatters\" (random-index writes).\n",
       "\n",
       "\n",
       "\\item The stride should be unit stride.\n",
       "\n",
       "\\end{itemize}\n",
       "\\begin{quote}\n",
       "\\textbf{note}\n",
       "\n",
       "Note\n",
       "\n",
       "The \\texttt{@simd} does not assert by default that the loop is completely free of loop-carried memory dependencies, which is an assumption that can easily be violated in generic code. If you are writing non-generic code, you can use \\texttt{@simd ivdep for ... end} to also assert that:\n",
       "\n",
       "\\end{quote}\n",
       "\\begin{itemize}\n",
       "\\item There exists no loop-carried memory dependencies\n",
       "\n",
       "\n",
       "\\item No iteration ever waits on a previous iteration to make forward progress.\n",
       "\n",
       "\\end{itemize}\n"
      ],
      "text/markdown": [
       "```\n",
       "@simd\n",
       "```\n",
       "\n",
       "Annotate a `for` loop to allow the compiler to take extra liberties to allow loop re-ordering\n",
       "\n",
       "!!! warning\n",
       "    This feature is experimental and could change or disappear in future versions of Julia. Incorrect use of the `@simd` macro may cause unexpected results.\n",
       "\n",
       "\n",
       "The object iterated over in a `@simd for` loop should be a one-dimensional range. By using `@simd`, you are asserting several properties of the loop:\n",
       "\n",
       "  * It is safe to execute iterations in arbitrary or overlapping order, with special consideration for reduction variables.\n",
       "  * Floating-point operations on reduction variables can be reordered, possibly causing different results than without `@simd`.\n",
       "\n",
       "In many cases, Julia is able to automatically vectorize inner for loops without the use of `@simd`. Using `@simd` gives the compiler a little extra leeway to make it possible in more situations. In either case, your inner loop should have the following properties to allow vectorization:\n",
       "\n",
       "  * The loop must be an innermost loop\n",
       "  * The loop body must be straight-line code. Therefore, [`@inbounds`](@ref) is   currently needed for all array accesses. The compiler can sometimes turn   short `&&`, `||`, and `?:` expressions into straight-line code if it is safe   to evaluate all operands unconditionally. Consider using the [`ifelse`](@ref)   function instead of `?:` in the loop if it is safe to do so.\n",
       "  * Accesses must have a stride pattern and cannot be \"gathers\" (random-index   reads) or \"scatters\" (random-index writes).\n",
       "  * The stride should be unit stride.\n",
       "\n",
       "!!! note\n",
       "    The `@simd` does not assert by default that the loop is completely free of loop-carried memory dependencies, which is an assumption that can easily be violated in generic code. If you are writing non-generic code, you can use `@simd ivdep for ... end` to also assert that:\n",
       "\n",
       "\n",
       "  * There exists no loop-carried memory dependencies\n",
       "  * No iteration ever waits on a previous iteration to make forward progress.\n"
      ],
      "text/plain": [
       "\u001b[36m  @simd\u001b[39m\n",
       "\n",
       "  Annotate a \u001b[36mfor\u001b[39m loop to allow the compiler to take extra liberties to allow\n",
       "  loop re-ordering\n",
       "\n",
       "\u001b[33m\u001b[1m  │ \u001b[22m\u001b[39m\u001b[33m\u001b[1mWarning\u001b[22m\u001b[39m\n",
       "\u001b[33m\u001b[1m  │\u001b[22m\u001b[39m\n",
       "\u001b[33m\u001b[1m  │\u001b[22m\u001b[39m  This feature is experimental and could change or disappear in\n",
       "\u001b[33m\u001b[1m  │\u001b[22m\u001b[39m  future versions of Julia. Incorrect use of the \u001b[36m@simd\u001b[39m macro may\n",
       "\u001b[33m\u001b[1m  │\u001b[22m\u001b[39m  cause unexpected results.\n",
       "\n",
       "  The object iterated over in a \u001b[36m@simd for\u001b[39m loop should be a one-dimensional\n",
       "  range. By using \u001b[36m@simd\u001b[39m, you are asserting several properties of the loop:\n",
       "\n",
       "    •    It is safe to execute iterations in arbitrary or overlapping\n",
       "        order, with special consideration for reduction variables.\n",
       "\n",
       "    •    Floating-point operations on reduction variables can be reordered,\n",
       "        possibly causing different results than without \u001b[36m@simd\u001b[39m.\n",
       "\n",
       "  In many cases, Julia is able to automatically vectorize inner for loops\n",
       "  without the use of \u001b[36m@simd\u001b[39m. Using \u001b[36m@simd\u001b[39m gives the compiler a little extra\n",
       "  leeway to make it possible in more situations. In either case, your inner\n",
       "  loop should have the following properties to allow vectorization:\n",
       "\n",
       "    •    The loop must be an innermost loop\n",
       "\n",
       "    •    The loop body must be straight-line code. Therefore, \u001b[36m@inbounds\u001b[39m is\n",
       "        currently needed for all array accesses. The compiler can\n",
       "        sometimes turn short \u001b[36m&&\u001b[39m, \u001b[36m||\u001b[39m, and \u001b[36m?:\u001b[39m expressions into straight-line\n",
       "        code if it is safe to evaluate all operands unconditionally.\n",
       "        Consider using the \u001b[36mifelse\u001b[39m function instead of \u001b[36m?:\u001b[39m in the loop if it\n",
       "        is safe to do so.\n",
       "\n",
       "    •    Accesses must have a stride pattern and cannot be \"gathers\"\n",
       "        (random-index reads) or \"scatters\" (random-index writes).\n",
       "\n",
       "    •    The stride should be unit stride.\n",
       "\n",
       "\u001b[36m\u001b[1m  │ \u001b[22m\u001b[39m\u001b[36m\u001b[1mNote\u001b[22m\u001b[39m\n",
       "\u001b[36m\u001b[1m  │\u001b[22m\u001b[39m\n",
       "\u001b[36m\u001b[1m  │\u001b[22m\u001b[39m  The \u001b[36m@simd\u001b[39m does not assert by default that the loop is completely\n",
       "\u001b[36m\u001b[1m  │\u001b[22m\u001b[39m  free of loop-carried memory dependencies, which is an assumption\n",
       "\u001b[36m\u001b[1m  │\u001b[22m\u001b[39m  that can easily be violated in generic code. If you are writing\n",
       "\u001b[36m\u001b[1m  │\u001b[22m\u001b[39m  non-generic code, you can use \u001b[36m@simd ivdep for ... end\u001b[39m to also\n",
       "\u001b[36m\u001b[1m  │\u001b[22m\u001b[39m  assert that:\n",
       "\n",
       "    •    There exists no loop-carried memory dependencies\n",
       "\n",
       "    •    No iteration ever waits on a previous iteration to make forward\n",
       "        progress."
      ]
     },
     "execution_count": 32,
     "metadata": {},
     "output_type": "execute_result"
    }
   ],
   "source": [
    "?@simd"
   ]
  },
  {
   "cell_type": "code",
   "execution_count": 33,
   "metadata": {},
   "outputs": [
    {
     "name": "stdout",
     "output_type": "stream",
     "text": [
      "\n",
      ";  @ In[30]:2 within `l'\n",
      "define double @julia_l_17667(i64) {\n",
      "top:\n",
      ";  @ In[30]:3 within `l'\n",
      "; ┌ @ simdloop.jl:69 within `macro expansion'\n",
      "; │┌ @ range.jl:5 within `Colon'\n",
      "; ││┌ @ range.jl:275 within `Type'\n",
      "; │││┌ @ range.jl:280 within `unitrange_last'\n",
      "; ││││┌ @ operators.jl:341 within `>='\n",
      "; │││││┌ @ int.jl:424 within `<='\n",
      "        %1 = icmp sgt i64 %0, 0\n",
      "; ││││└└\n",
      "      %2 = select i1 %1, i64 %0, i64 0\n",
      "; │└└└\n",
      "; │ @ simdloop.jl:71 within `macro expansion'\n",
      "; │┌ @ simdloop.jl:51 within `simd_inner_length'\n",
      "; ││┌ @ range.jl:541 within `length'\n",
      "; │││┌ @ checked.jl:222 within `checked_sub'\n",
      "; ││││┌ @ checked.jl:194 within `sub_with_overflow'\n",
      "       %3 = add nsw i64 %2, -1\n",
      "; │││└└\n",
      "; │││┌ @ checked.jl:165 within `checked_add'\n",
      "; ││││┌ @ checked.jl:132 within `add_with_overflow'\n",
      "       %4 = call { i64, i1 } @llvm.sadd.with.overflow.i64(i64 %3, i64 1)\n",
      "       %5 = extractvalue { i64, i1 } %4, 1\n",
      "; ││││└\n",
      "; ││││ @ checked.jl:166 within `checked_add'\n",
      "      br i1 %5, label %L16, label %L21\n",
      "\n",
      "L16:                                              ; preds = %top\n",
      "      call void @julia_throw_overflowerr_binaryop_13443(%jl_value_t addrspace(10)* addrspacecast (%jl_value_t* inttoptr (i64 139788343592272 to %jl_value_t*) to %jl_value_t addrspace(10)*), i64 %3, i64 1)\n",
      "      call void @llvm.trap()\n",
      "      unreachable\n",
      "\n",
      "L21:                                              ; preds = %top\n",
      "; ││││ @ checked.jl:165 within `checked_add'\n",
      "; ││││┌ @ checked.jl:132 within `add_with_overflow'\n",
      "       %6 = extractvalue { i64, i1 } %4, 0\n",
      "; │└└└└\n",
      "; │ @ simdloop.jl:72 within `macro expansion'\n",
      "; │┌ @ int.jl:49 within `<'\n",
      "    %7 = icmp slt i64 %6, 1\n",
      "; │└\n",
      "   br i1 %7, label %L52, label %L28.lr.ph\n",
      "\n",
      "L28.lr.ph:                                        ; preds = %L21\n",
      "; │ @ simdloop.jl:75 within `macro expansion'\n",
      "   %min.iters.check = icmp ult i64 %2, 16\n",
      "   br i1 %min.iters.check, label %scalar.ph, label %vector.ph\n",
      "\n",
      "vector.ph:                                        ; preds = %L28.lr.ph\n",
      "   %n.vec = and i64 %2, 9223372036854775792\n",
      "   br label %vector.body\n",
      "\n",
      "vector.body:                                      ; preds = %vector.body, %vector.ph\n",
      "; │ @ simdloop.jl:78 within `macro expansion'\n",
      "; │┌ @ int.jl:53 within `+'\n",
      "    %index = phi i64 [ 0, %vector.ph ], [ %index.next, %vector.body ]\n",
      "    %vec.phi = phi <4 x double> [ zeroinitializer, %vector.ph ], [ %8, %vector.body ]\n",
      "    %vec.phi19 = phi <4 x double> [ zeroinitializer, %vector.ph ], [ %9, %vector.body ]\n",
      "    %vec.phi20 = phi <4 x double> [ zeroinitializer, %vector.ph ], [ %10, %vector.body ]\n",
      "    %vec.phi21 = phi <4 x double> [ zeroinitializer, %vector.ph ], [ %11, %vector.body ]\n",
      "; │└\n",
      "; │ @ simdloop.jl:77 within `macro expansion' @ In[30]:4\n",
      "; │┌ @ float.jl:395 within `+'\n",
      "    %8 = fadd fast <4 x double> %vec.phi, <double 1.000000e+00, double 1.000000e+00, double 1.000000e+00, double 1.000000e+00>\n",
      "    %9 = fadd fast <4 x double> %vec.phi19, <double 1.000000e+00, double 1.000000e+00, double 1.000000e+00, double 1.000000e+00>\n",
      "    %10 = fadd fast <4 x double> %vec.phi20, <double 1.000000e+00, double 1.000000e+00, double 1.000000e+00, double 1.000000e+00>\n",
      "    %11 = fadd fast <4 x double> %vec.phi21, <double 1.000000e+00, double 1.000000e+00, double 1.000000e+00, double 1.000000e+00>\n",
      "; │└\n",
      "; │ @ simdloop.jl:78 within `macro expansion'\n",
      "; │┌ @ int.jl:53 within `+'\n",
      "    %index.next = add i64 %index, 16\n",
      "    %12 = icmp eq i64 %index.next, %n.vec\n",
      "    br i1 %12, label %middle.block, label %vector.body\n",
      "\n",
      "middle.block:                                     ; preds = %vector.body\n",
      "; │└\n",
      "; │ @ simdloop.jl:77 within `macro expansion' @ In[30]:4\n",
      "; │┌ @ float.jl:395 within `+'\n",
      "    %bin.rdx = fadd fast <4 x double> %9, %8\n",
      "    %bin.rdx22 = fadd fast <4 x double> %10, %bin.rdx\n",
      "    %bin.rdx23 = fadd fast <4 x double> %11, %bin.rdx22\n",
      "    %rdx.shuf = shufflevector <4 x double> %bin.rdx23, <4 x double> undef, <4 x i32> <i32 2, i32 3, i32 undef, i32 undef>\n",
      "    %bin.rdx24 = fadd fast <4 x double> %bin.rdx23, %rdx.shuf\n",
      "    %rdx.shuf25 = shufflevector <4 x double> %bin.rdx24, <4 x double> undef, <4 x i32> <i32 1, i32 undef, i32 undef, i32 undef>\n",
      "    %bin.rdx26 = fadd fast <4 x double> %bin.rdx24, %rdx.shuf25\n",
      "    %13 = extractelement <4 x double> %bin.rdx26, i32 0\n",
      "    %cmp.n = icmp eq i64 %2, %n.vec\n",
      "; │└\n",
      "; │ @ simdloop.jl:75 within `macro expansion'\n",
      "   br i1 %cmp.n, label %L52, label %scalar.ph\n",
      "\n",
      "scalar.ph:                                        ; preds = %middle.block, %L28.lr.ph\n",
      "   %bc.resume.val = phi i64 [ %n.vec, %middle.block ], [ 0, %L28.lr.ph ]\n",
      "   %bc.merge.rdx = phi double [ %13, %middle.block ], [ 0.000000e+00, %L28.lr.ph ]\n",
      "   br label %L28\n",
      "\n",
      "L28:                                              ; preds = %scalar.ph, %L28\n",
      "   %value_phi215 = phi i64 [ %bc.resume.val, %scalar.ph ], [ %15, %L28 ]\n",
      "   %value_phi14 = phi double [ %bc.merge.rdx, %scalar.ph ], [ %14, %L28 ]\n",
      "; │ @ simdloop.jl:77 within `macro expansion' @ In[30]:4\n",
      "; │┌ @ float.jl:395 within `+'\n",
      "    %14 = fadd fast double %value_phi14, 1.000000e+00\n",
      "; │└\n",
      "; │ @ simdloop.jl:78 within `macro expansion'\n",
      "; │┌ @ int.jl:53 within `+'\n",
      "    %15 = add nuw nsw i64 %value_phi215, 1\n",
      "; │└\n",
      "; │ @ simdloop.jl:75 within `macro expansion'\n",
      "; │┌ @ int.jl:49 within `<'\n",
      "    %16 = icmp ult i64 %15, %6\n",
      "; │└\n",
      "   br i1 %16, label %L28, label %L52\n",
      "\n",
      "L52:                                              ; preds = %L28, %middle.block, %L21\n",
      "   %value_phi5 = phi double [ 0.000000e+00, %L21 ], [ %14, %L28 ], [ %13, %middle.block ]\n",
      "; └\n",
      ";  @ In[30]:6 within `l'\n",
      "  ret double %value_phi5\n",
      "}\n"
     ]
    }
   ],
   "source": [
    "@code_llvm l(10)"
   ]
  },
  {
   "cell_type": "markdown",
   "metadata": {
    "slideshow": {
     "slide_type": "slide"
    }
   },
   "source": [
    "# Let's revisit our example from earlier!\n",
    "\n",
    "Slightly more complicated function!\n",
    "\n",
    "- What is wrong with `mysum3(ones(10_000))`"
   ]
  },
  {
   "cell_type": "code",
   "execution_count": 34,
   "metadata": {
    "slideshow": {
     "slide_type": "fragment"
    }
   },
   "outputs": [
    {
     "data": {
      "text/plain": [
       "mysum3 (generic function with 1 method)"
      ]
     },
     "execution_count": 34,
     "metadata": {},
     "output_type": "execute_result"
    }
   ],
   "source": [
    "function mysum3(data::Vector{T}) where T<:Number\n",
    "  acc = zero(T)\n",
    "  @simd for x in data\n",
    "      acc += x\n",
    "  end\n",
    "  return acc\n",
    "end"
   ]
  },
  {
   "cell_type": "code",
   "execution_count": 35,
   "metadata": {
    "slideshow": {
     "slide_type": "subslide"
    }
   },
   "outputs": [
    {
     "name": "stdout",
     "output_type": "stream",
     "text": [
      "Variables\n",
      "  #self#\u001b[36m::Core.Compiler.Const(mysum3, false)\u001b[39m\n",
      "  data\u001b[36m::Array{Float64,1}\u001b[39m\n",
      "  acc\u001b[36m::Float64\u001b[39m\n",
      "  @_4\u001b[33m\u001b[1m::Union{Nothing, Tuple{Int64,Int64}}\u001b[22m\u001b[39m\n",
      "  r#421\u001b[36m::Array{Float64,1}\u001b[39m\n",
      "  i#422\u001b[36m::Int64\u001b[39m\n",
      "  n#423\u001b[36m::Int64\u001b[39m\n",
      "  i#424\u001b[36m::Int64\u001b[39m\n",
      "  x\u001b[36m::Float64\u001b[39m\n",
      "\n",
      "Body\u001b[36m::Float64\u001b[39m\n",
      "\u001b[37m1 ─\u001b[39m       (acc = Main.zero($(Expr(:static_parameter, 1))))\n",
      "\u001b[37m│  \u001b[39m       (r#421 = data)\n",
      "\u001b[37m│  \u001b[39m %3  = Base.simd_outer_range\u001b[36m::Core.Compiler.Const(Base.SimdLoop.simd_outer_range, false)\u001b[39m\n",
      "\u001b[37m│  \u001b[39m %4  = (%3)(r#421)\u001b[36m::Core.Compiler.Const(0:0, false)\u001b[39m\n",
      "\u001b[37m│  \u001b[39m       (@_4 = Base.iterate(%4))\n",
      "\u001b[37m│  \u001b[39m %6  = (@_4::Core.Compiler.Const((0, 0), false) === nothing)\u001b[36m::Core.Compiler.Const(false, false)\u001b[39m\n",
      "\u001b[37m│  \u001b[39m %7  = Base.not_int(%6)\u001b[36m::Core.Compiler.Const(true, false)\u001b[39m\n",
      "\u001b[37m└──\u001b[39m       goto #8 if not %7\n",
      "\u001b[37m2 ─\u001b[39m %9  = @_4::Core.Compiler.Const((0, 0), false)\u001b[36m::Core.Compiler.Const((0, 0), false)\u001b[39m\n",
      "\u001b[37m│  \u001b[39m       (i#422 = Core.getfield(%9, 1))\n",
      "\u001b[37m│  \u001b[39m %11 = Core.getfield(%9, 2)\u001b[36m::Core.Compiler.Const(0, false)\u001b[39m\n",
      "\u001b[37m│  \u001b[39m %12 = Base.simd_inner_length\u001b[36m::Core.Compiler.Const(Base.SimdLoop.simd_inner_length, false)\u001b[39m\n",
      "\u001b[37m│  \u001b[39m %13 = r#421\u001b[36m::Array{Float64,1}\u001b[39m\n",
      "\u001b[37m│  \u001b[39m       (n#423 = (%12)(%13, i#422::Core.Compiler.Const(0, false)))\n",
      "\u001b[37m│  \u001b[39m %15 = Main.zero(n#423)\u001b[36m::Core.Compiler.Const(0, false)\u001b[39m\n",
      "\u001b[37m│  \u001b[39m %16 = (%15 < n#423)\u001b[36m::Bool\u001b[39m\n",
      "\u001b[37m└──\u001b[39m       goto #6 if not %16\n",
      "\u001b[37m3 ─\u001b[39m       (i#424 = Main.zero(n#423))\n",
      "\u001b[37m4 ┄\u001b[39m %19 = (i#424 < n#423)\u001b[36m::Bool\u001b[39m\n",
      "\u001b[37m└──\u001b[39m       goto #6 if not %19\n",
      "\u001b[37m5 ─\u001b[39m %21 = Base.simd_index\u001b[36m::Core.Compiler.Const(Base.SimdLoop.simd_index, false)\u001b[39m\n",
      "\u001b[37m│  \u001b[39m %22 = r#421\u001b[36m::Array{Float64,1}\u001b[39m\n",
      "\u001b[37m│  \u001b[39m %23 = i#422::Core.Compiler.Const(0, false)\u001b[36m::Core.Compiler.Const(0, false)\u001b[39m\n",
      "\u001b[37m│  \u001b[39m       (x = (%21)(%22, %23, i#424))\n",
      "\u001b[37m│  \u001b[39m       (acc = acc + x)\n",
      "\u001b[37m│  \u001b[39m       (i#424 = i#424 + 1)\n",
      "\u001b[37m│  \u001b[39m       $(Expr(:loopinfo, Symbol(\"julia.simdloop\"), nothing))\n",
      "\u001b[37m└──\u001b[39m       goto #4\n",
      "\u001b[37m6 ┄\u001b[39m       (@_4 = Base.iterate(%4, %11))\n",
      "\u001b[37m│  \u001b[39m %30 = (@_4::Core.Compiler.Const(nothing, false) === nothing)\u001b[36m::Core.Compiler.Const(true, false)\u001b[39m\n",
      "\u001b[37m│  \u001b[39m %31 = Base.not_int(%30)\u001b[36m::Core.Compiler.Const(false, false)\u001b[39m\n",
      "\u001b[37m└──\u001b[39m       goto #8 if not %31\n",
      "\u001b[37m7 ─\u001b[39m       Core.Compiler.Const(:(goto %9), false)\n",
      "\u001b[37m8 ┄\u001b[39m       Main.nothing\n",
      "\u001b[37m└──\u001b[39m       return acc\n"
     ]
    }
   ],
   "source": [
    "@code_warntype mysum3(zeros(3))"
   ]
  },
  {
   "cell_type": "markdown",
   "metadata": {
    "slideshow": {
     "slide_type": "subslide"
    }
   },
   "source": [
    "# Task\n",
    "\n",
    "- Write, a fast and generic `sum` implementation."
   ]
  },
  {
   "cell_type": "markdown",
   "metadata": {
    "slideshow": {
     "slide_type": "slide"
    }
   },
   "source": [
    "## Using the profiler\n",
    "\n",
    "1. `using Profile`\n",
    "2. `@profile mysum()`\n",
    "3. `Profile.clear()` -- reset the profile\n",
    "4. `Proile.print()` simple display of profile data\n",
    "5. Use ProfileView.jl or PProf.jl to analyse your data better\n"
   ]
  }
 ],
 "metadata": {
  "@webio": {
   "lastCommId": "a43a5c23a2d240ee83cbd1619cbd8601",
   "lastKernelId": "7ef9e708-b713-41aa-8cac-3a6db72b2810"
  },
  "celltoolbar": "Slideshow",
  "kernelspec": {
   "display_name": "Julia 1.2.0",
   "language": "julia",
   "name": "julia-1.2"
  },
  "language_info": {
   "file_extension": ".jl",
   "mimetype": "application/julia",
   "name": "julia",
   "version": "1.2.0"
  },
  "rise": {
   "scroll": true,
   "theme": "Serif"
  }
 },
 "nbformat": 4,
 "nbformat_minor": 4
}
