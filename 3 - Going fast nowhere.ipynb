{
 "cells": [
  {
   "cell_type": "markdown",
   "metadata": {
    "slideshow": {
     "slide_type": "slide"
    }
   },
   "source": [
    "# Understandable performance\n",
    "*Going fast, nowhere*"
   ]
  },
  {
   "cell_type": "code",
   "execution_count": 13,
   "metadata": {
    "slideshow": {
     "slide_type": "skip"
    }
   },
   "outputs": [
    {
     "name": "stderr",
     "output_type": "stream",
     "text": [
      "\u001b[32m\u001b[1m  Activating\u001b[22m\u001b[39m new project at `/tmp/jl_skn2MW`\n",
      "\u001b[32m\u001b[1m   Resolving\u001b[22m\u001b[39m package versions...\n",
      "\u001b[32m\u001b[1m   Installed\u001b[22m\u001b[39m Unitful ─ v1.10.1\n",
      "\u001b[32m\u001b[1m    Updating\u001b[22m\u001b[39m `/tmp/jl_skn2MW/Project.toml`\n",
      " \u001b[90m [6e4b80f9] \u001b[39m\u001b[92m+ BenchmarkTools v1.2.2\u001b[39m\n",
      " \u001b[90m [929cbde3] \u001b[39m\u001b[92m+ LLVM v4.7.1\u001b[39m\n",
      " \u001b[90m [1986cc42] \u001b[39m\u001b[92m+ Unitful v1.10.1\u001b[39m\n",
      "\u001b[32m\u001b[1m    Updating\u001b[22m\u001b[39m `/tmp/jl_skn2MW/Manifest.toml`\n",
      " \u001b[90m [6e4b80f9] \u001b[39m\u001b[92m+ BenchmarkTools v1.2.2\u001b[39m\n",
      " \u001b[90m [fa961155] \u001b[39m\u001b[92m+ CEnum v0.4.1\u001b[39m\n",
      " \u001b[90m [187b0558] \u001b[39m\u001b[92m+ ConstructionBase v1.3.0\u001b[39m\n",
      " \u001b[90m [692b3bcd] \u001b[39m\u001b[92m+ JLLWrappers v1.4.0\u001b[39m\n",
      " \u001b[90m [682c06a0] \u001b[39m\u001b[92m+ JSON v0.21.2\u001b[39m\n",
      " \u001b[90m [929cbde3] \u001b[39m\u001b[92m+ LLVM v4.7.1\u001b[39m\n",
      " \u001b[90m [69de0a69] \u001b[39m\u001b[92m+ Parsers v2.2.0\u001b[39m\n",
      " \u001b[90m [21216c6a] \u001b[39m\u001b[92m+ Preferences v1.2.3\u001b[39m\n",
      " \u001b[90m [1986cc42] \u001b[39m\u001b[92m+ Unitful v1.10.1\u001b[39m\n",
      " \u001b[90m [dad2f222] \u001b[39m\u001b[92m+ LLVMExtra_jll v0.0.13+1\u001b[39m\n",
      " \u001b[90m [0dad84c5] \u001b[39m\u001b[92m+ ArgTools\u001b[39m\n",
      " \u001b[90m [56f22d72] \u001b[39m\u001b[92m+ Artifacts\u001b[39m\n",
      " \u001b[90m [2a0f44e3] \u001b[39m\u001b[92m+ Base64\u001b[39m\n",
      " \u001b[90m [ade2ca70] \u001b[39m\u001b[92m+ Dates\u001b[39m\n",
      " \u001b[90m [f43a241f] \u001b[39m\u001b[92m+ Downloads\u001b[39m\n",
      " \u001b[90m [b77e0a4c] \u001b[39m\u001b[92m+ InteractiveUtils\u001b[39m\n",
      " \u001b[90m [b27032c2] \u001b[39m\u001b[92m+ LibCURL\u001b[39m\n",
      " \u001b[90m [76f85450] \u001b[39m\u001b[92m+ LibGit2\u001b[39m\n",
      " \u001b[90m [8f399da3] \u001b[39m\u001b[92m+ Libdl\u001b[39m\n",
      " \u001b[90m [37e2e46d] \u001b[39m\u001b[92m+ LinearAlgebra\u001b[39m\n",
      " \u001b[90m [56ddb016] \u001b[39m\u001b[92m+ Logging\u001b[39m\n",
      " \u001b[90m [d6f4376e] \u001b[39m\u001b[92m+ Markdown\u001b[39m\n",
      " \u001b[90m [a63ad114] \u001b[39m\u001b[92m+ Mmap\u001b[39m\n",
      " \u001b[90m [ca575930] \u001b[39m\u001b[92m+ NetworkOptions\u001b[39m\n",
      " \u001b[90m [44cfe95a] \u001b[39m\u001b[92m+ Pkg\u001b[39m\n",
      " \u001b[90m [de0858da] \u001b[39m\u001b[92m+ Printf\u001b[39m\n",
      " \u001b[90m [9abbd945] \u001b[39m\u001b[92m+ Profile\u001b[39m\n",
      " \u001b[90m [3fa0cd96] \u001b[39m\u001b[92m+ REPL\u001b[39m\n",
      " \u001b[90m [9a3f8284] \u001b[39m\u001b[92m+ Random\u001b[39m\n",
      " \u001b[90m [ea8e919c] \u001b[39m\u001b[92m+ SHA\u001b[39m\n",
      " \u001b[90m [9e88b42a] \u001b[39m\u001b[92m+ Serialization\u001b[39m\n",
      " \u001b[90m [6462fe0b] \u001b[39m\u001b[92m+ Sockets\u001b[39m\n",
      " \u001b[90m [2f01184e] \u001b[39m\u001b[92m+ SparseArrays\u001b[39m\n",
      " \u001b[90m [10745b16] \u001b[39m\u001b[92m+ Statistics\u001b[39m\n",
      " \u001b[90m [fa267f1f] \u001b[39m\u001b[92m+ TOML\u001b[39m\n",
      " \u001b[90m [a4e569a6] \u001b[39m\u001b[92m+ Tar\u001b[39m\n",
      " \u001b[90m [cf7118a7] \u001b[39m\u001b[92m+ UUIDs\u001b[39m\n",
      " \u001b[90m [4ec0a83e] \u001b[39m\u001b[92m+ Unicode\u001b[39m\n",
      " \u001b[90m [e66e0078] \u001b[39m\u001b[92m+ CompilerSupportLibraries_jll\u001b[39m\n",
      " \u001b[90m [deac9b47] \u001b[39m\u001b[92m+ LibCURL_jll\u001b[39m\n",
      " \u001b[90m [29816b5a] \u001b[39m\u001b[92m+ LibSSH2_jll\u001b[39m\n",
      " \u001b[90m [c8ffd9c3] \u001b[39m\u001b[92m+ MbedTLS_jll\u001b[39m\n",
      " \u001b[90m [14a3606d] \u001b[39m\u001b[92m+ MozillaCACerts_jll\u001b[39m\n",
      " \u001b[90m [4536629a] \u001b[39m\u001b[92m+ OpenBLAS_jll\u001b[39m\n",
      " \u001b[90m [83775a58] \u001b[39m\u001b[92m+ Zlib_jll\u001b[39m\n",
      " \u001b[90m [8e850b90] \u001b[39m\u001b[92m+ libblastrampoline_jll\u001b[39m\n",
      " \u001b[90m [8e850ede] \u001b[39m\u001b[92m+ nghttp2_jll\u001b[39m\n",
      " \u001b[90m [3f19e933] \u001b[39m\u001b[92m+ p7zip_jll\u001b[39m\n",
      "\u001b[32m\u001b[1mPrecompiling\u001b[22m\u001b[39m project...\n",
      "\u001b[32m  ✓ \u001b[39mUnitful\n",
      "  1 dependency successfully precompiled in 15 seconds (15 already precompiled)\n"
     ]
    }
   ],
   "source": [
    "using Pkg\n",
    "Pkg.activate(;temp=true)\n",
    "Pkg.add([\"BenchmarkTools\", \"LLVM\", \"Unitful\"])"
   ]
  },
  {
   "cell_type": "markdown",
   "metadata": {
    "slideshow": {
     "slide_type": "subslide"
    }
   },
   "source": [
    "## A note on benchmarking\n",
    "*Premature optimization is the root of all evil* & *If you don't measure you won't improve*\n",
    "\n",
    "### Tools\n",
    "1. BenchmarkTools.jl https://github.com/JuliaCI/BenchmarkTools.jl\n",
    "2. Profiler https://docs.julialang.org/en/latest/manual/profile/\n",
    "3. ProfileView.jl https://github.com/timholy/ProfileView.jl\n",
    "4. PProf https://github.com/vchuravy/PProf.jl\n",
    "\n",
    "\n",
    "### Other\n",
    "1. VTunes/Perf/OProfile https://docs.julialang.org/en/latest/manual/profile/#External-Profiling-1\n",
    "2. LIKWID \n",
    "3. LinuxPerf\n",
    "4. MCAnalyzer"
   ]
  },
  {
   "cell_type": "markdown",
   "metadata": {
    "slideshow": {
     "slide_type": "subslide"
    }
   },
   "source": [
    "## BenchmarkTools.jl\n",
    "Solid package that tries to eliminate common pitfalls in performance measurment.\n",
    "- `@benchmark` macro that will repeatedly evaluate your code to gain enough samples\n",
    "- Caveat: You probably want to escape `$` your input data"
   ]
  },
  {
   "cell_type": "code",
   "execution_count": 5,
   "metadata": {
    "slideshow": {
     "slide_type": "skip"
    }
   },
   "outputs": [],
   "source": [
    "data = rand(2^10);"
   ]
  },
  {
   "cell_type": "code",
   "execution_count": 6,
   "metadata": {},
   "outputs": [
    {
     "data": {
      "text/plain": [
       "sum (generic function with 1 method)"
      ]
     },
     "execution_count": 6,
     "metadata": {},
     "output_type": "execute_result"
    }
   ],
   "source": [
    "function sum(X::Vector{Float64})\n",
    "    acc = 0::Int64\n",
    "    for x in X\n",
    "        (acc += x)::Float64\n",
    "    end\n",
    "    acc::Union{Int64, Float64}\n",
    "end"
   ]
  },
  {
   "cell_type": "code",
   "execution_count": 7,
   "metadata": {
    "slideshow": {
     "slide_type": "fragment"
    }
   },
   "outputs": [
    {
     "data": {
      "text/plain": [
       "BenchmarkTools.Trial: 10000 samples with 123 evaluations.\n",
       " Range \u001b[90m(\u001b[39m\u001b[36m\u001b[1mmin\u001b[22m\u001b[39m … \u001b[35mmax\u001b[39m\u001b[90m):  \u001b[39m\u001b[36m\u001b[1m745.691 ns\u001b[22m\u001b[39m … \u001b[35m1.104 μs\u001b[39m  \u001b[90m┊\u001b[39m GC \u001b[90m(\u001b[39mmin … max\u001b[90m): \u001b[39m0.00% … 0.00%\n",
       " Time  \u001b[90m(\u001b[39m\u001b[34m\u001b[1mmedian\u001b[22m\u001b[39m\u001b[90m):     \u001b[39m\u001b[34m\u001b[1m746.504 ns             \u001b[22m\u001b[39m\u001b[90m┊\u001b[39m GC \u001b[90m(\u001b[39mmedian\u001b[90m):    \u001b[39m0.00%\n",
       " Time  \u001b[90m(\u001b[39m\u001b[32m\u001b[1mmean\u001b[22m\u001b[39m ± \u001b[32mσ\u001b[39m\u001b[90m):   \u001b[39m\u001b[32m\u001b[1m748.123 ns\u001b[22m\u001b[39m ± \u001b[32m8.416 ns\u001b[39m  \u001b[90m┊\u001b[39m GC \u001b[90m(\u001b[39mmean ± σ\u001b[90m):  \u001b[39m0.00% ± 0.00%\n",
       "\n",
       "  \u001b[39m▇\u001b[34m█\u001b[39m\u001b[39m▆\u001b[39m \u001b[32m \u001b[39m\u001b[39m \u001b[39m \u001b[39m \u001b[39m▁\u001b[39m▁\u001b[39m \u001b[39m \u001b[39m \u001b[39m \u001b[39m \u001b[39m \u001b[39m \u001b[39m \u001b[39m \u001b[39m \u001b[39m \u001b[39m \u001b[39m \u001b[39m \u001b[39m \u001b[39m \u001b[39m \u001b[39m \u001b[39m \u001b[39m \u001b[39m \u001b[39m \u001b[39m \u001b[39m \u001b[39m \u001b[39m \u001b[39m \u001b[39m \u001b[39m \u001b[39m \u001b[39m \u001b[39m \u001b[39m \u001b[39m \u001b[39m \u001b[39m \u001b[39m \u001b[39m \u001b[39m \u001b[39m \u001b[39m \u001b[39m \u001b[39m \u001b[39m \u001b[39m \u001b[39m \u001b[39m \u001b[39m \u001b[39m \u001b[39m \u001b[39m▁\n",
       "  \u001b[39m█\u001b[34m█\u001b[39m\u001b[39m█\u001b[39m█\u001b[32m▆\u001b[39m\u001b[39m▇\u001b[39m▆\u001b[39m▇\u001b[39m█\u001b[39m█\u001b[39m█\u001b[39m▇\u001b[39m▇\u001b[39m▆\u001b[39m▇\u001b[39m▇\u001b[39m█\u001b[39m█\u001b[39m▆\u001b[39m▆\u001b[39m▆\u001b[39m▅\u001b[39m▆\u001b[39m▆\u001b[39m▅\u001b[39m▅\u001b[39m▆\u001b[39m▅\u001b[39m▆\u001b[39m▅\u001b[39m▆\u001b[39m▇\u001b[39m▆\u001b[39m▆\u001b[39m▆\u001b[39m▆\u001b[39m▅\u001b[39m▅\u001b[39m▅\u001b[39m▄\u001b[39m▅\u001b[39m▅\u001b[39m▃\u001b[39m▅\u001b[39m▄\u001b[39m▃\u001b[39m▄\u001b[39m▅\u001b[39m▄\u001b[39m▄\u001b[39m▆\u001b[39m▄\u001b[39m▄\u001b[39m▅\u001b[39m▃\u001b[39m▄\u001b[39m▃\u001b[39m▄\u001b[39m▄\u001b[39m \u001b[39m█\n",
       "  746 ns\u001b[90m       \u001b[39m\u001b[90mHistogram: \u001b[39m\u001b[90m\u001b[1mlog(\u001b[22m\u001b[39m\u001b[90mfrequency\u001b[39m\u001b[90m\u001b[1m)\u001b[22m\u001b[39m\u001b[90m by time\u001b[39m       781 ns \u001b[0m\u001b[1m<\u001b[22m\n",
       "\n",
       " Memory estimate\u001b[90m: \u001b[39m\u001b[33m0 bytes\u001b[39m, allocs estimate\u001b[90m: \u001b[39m\u001b[33m0\u001b[39m."
      ]
     },
     "execution_count": 7,
     "metadata": {},
     "output_type": "execute_result"
    }
   ],
   "source": [
    "using BenchmarkTools\n",
    "@benchmark sum($data)"
   ]
  },
  {
   "cell_type": "markdown",
   "metadata": {
    "slideshow": {
     "slide_type": "subslide"
    }
   },
   "source": [
    "## Figuring out what is happening\n",
    "The stages of the compiler\n",
    "- `@code_lowered`\n",
    "- `@code_typed` & `@code_warntype`\n",
    "- `@code_llvm`\n",
    "- `@code_native`\n",
    "\n",
    "Where is a function defined\n",
    "`@which` & `@edit`"
   ]
  },
  {
   "cell_type": "code",
   "execution_count": 8,
   "metadata": {},
   "outputs": [
    {
     "data": {
      "text/plain": [
       "CodeInfo(\n",
       "\u001b[90m1 ─\u001b[39m       acc = Core.typeassert(0, Main.Int64)\n",
       "\u001b[90m│  \u001b[39m %2  = X\n",
       "\u001b[90m│  \u001b[39m       @_3 = Base.iterate(%2)\n",
       "\u001b[90m│  \u001b[39m %4  = @_3 === nothing\n",
       "\u001b[90m│  \u001b[39m %5  = Base.not_int(%4)\n",
       "\u001b[90m└──\u001b[39m       goto #4 if not %5\n",
       "\u001b[90m2 ┄\u001b[39m %7  = @_3\n",
       "\u001b[90m│  \u001b[39m       x = Core.getfield(%7, 1)\n",
       "\u001b[90m│  \u001b[39m %9  = Core.getfield(%7, 2)\n",
       "\u001b[90m│  \u001b[39m %10 = acc + x\n",
       "\u001b[90m│  \u001b[39m       acc = %10\n",
       "\u001b[90m│  \u001b[39m       Core.typeassert(%10, Main.Float64)\n",
       "\u001b[90m│  \u001b[39m       @_3 = Base.iterate(%2, %9)\n",
       "\u001b[90m│  \u001b[39m %14 = @_3 === nothing\n",
       "\u001b[90m│  \u001b[39m %15 = Base.not_int(%14)\n",
       "\u001b[90m└──\u001b[39m       goto #4 if not %15\n",
       "\u001b[90m3 ─\u001b[39m       goto #2\n",
       "\u001b[90m4 ┄\u001b[39m %18 = acc\n",
       "\u001b[90m│  \u001b[39m %19 = Core.apply_type(Main.Union, Main.Int64, Main.Float64)\n",
       "\u001b[90m│  \u001b[39m %20 = Core.typeassert(%18, %19)\n",
       "\u001b[90m└──\u001b[39m       return %20\n",
       ")"
      ]
     },
     "execution_count": 8,
     "metadata": {},
     "output_type": "execute_result"
    }
   ],
   "source": [
    "@code_lowered sum(data)"
   ]
  },
  {
   "cell_type": "markdown",
   "metadata": {
    "slideshow": {
     "slide_type": "slide"
    }
   },
   "source": [
    "# A simple example: counting"
   ]
  },
  {
   "cell_type": "code",
   "execution_count": 11,
   "metadata": {
    "slideshow": {
     "slide_type": "fragment"
    }
   },
   "outputs": [
    {
     "data": {
      "text/plain": [
       "f (generic function with 1 method)"
      ]
     },
     "execution_count": 11,
     "metadata": {},
     "output_type": "execute_result"
    }
   ],
   "source": [
    "function f(N)\n",
    "    acc = 0\n",
    "    for i in 1:N\n",
    "        acc += 1\n",
    "    end\n",
    "    return acc\n",
    "end"
   ]
  },
  {
   "cell_type": "code",
   "execution_count": 12,
   "metadata": {
    "slideshow": {
     "slide_type": "fragment"
    }
   },
   "outputs": [
    {
     "data": {
      "text/plain": [
       "BenchmarkTools.Trial: 10000 samples with 1000 evaluations.\n",
       " Range \u001b[90m(\u001b[39m\u001b[36m\u001b[1mmin\u001b[22m\u001b[39m … \u001b[35mmax\u001b[39m\u001b[90m):  \u001b[39m\u001b[36m\u001b[1m1.249 ns\u001b[22m\u001b[39m … \u001b[35m26.100 ns\u001b[39m  \u001b[90m┊\u001b[39m GC \u001b[90m(\u001b[39mmin … max\u001b[90m): \u001b[39m0.00% … 0.00%\n",
       " Time  \u001b[90m(\u001b[39m\u001b[34m\u001b[1mmedian\u001b[22m\u001b[39m\u001b[90m):     \u001b[39m\u001b[34m\u001b[1m1.260 ns              \u001b[22m\u001b[39m\u001b[90m┊\u001b[39m GC \u001b[90m(\u001b[39mmedian\u001b[90m):    \u001b[39m0.00%\n",
       " Time  \u001b[90m(\u001b[39m\u001b[32m\u001b[1mmean\u001b[22m\u001b[39m ± \u001b[32mσ\u001b[39m\u001b[90m):   \u001b[39m\u001b[32m\u001b[1m1.261 ns\u001b[22m\u001b[39m ± \u001b[32m 0.275 ns\u001b[39m  \u001b[90m┊\u001b[39m GC \u001b[90m(\u001b[39mmean ± σ\u001b[90m):  \u001b[39m0.00% ± 0.00%\n",
       "\n",
       "  \u001b[39m▃\u001b[39m \u001b[39m \u001b[39m \u001b[39m \u001b[39m▇\u001b[39m \u001b[39m \u001b[39m \u001b[39m \u001b[39m▃\u001b[39m \u001b[39m \u001b[39m \u001b[39m \u001b[39m \u001b[39m \u001b[39m \u001b[39m \u001b[39m \u001b[39m \u001b[39m \u001b[39m \u001b[39m \u001b[39m \u001b[39m \u001b[39m \u001b[39m \u001b[39m \u001b[39m \u001b[39m \u001b[39m \u001b[39m \u001b[39m \u001b[39m \u001b[39m \u001b[39m \u001b[39m \u001b[39m \u001b[39m \u001b[39m \u001b[39m \u001b[39m \u001b[39m \u001b[39m \u001b[39m \u001b[39m \u001b[39m \u001b[39m \u001b[39m \u001b[39m \u001b[39m \u001b[39m \u001b[39m \u001b[39m \u001b[39m \u001b[39m \u001b[39m█\u001b[34m \u001b[39m\u001b[39m▁\n",
       "  \u001b[39m█\u001b[39m▁\u001b[39m▁\u001b[39m▁\u001b[39m▁\u001b[39m█\u001b[39m▁\u001b[39m▁\u001b[39m▁\u001b[39m▁\u001b[39m█\u001b[39m▁\u001b[39m▁\u001b[39m▁\u001b[39m▁\u001b[39m▁\u001b[39m▁\u001b[39m▁\u001b[39m▁\u001b[39m▁\u001b[39m▁\u001b[39m▁\u001b[39m▁\u001b[39m▁\u001b[39m▁\u001b[39m▁\u001b[39m▁\u001b[39m▁\u001b[39m▁\u001b[39m▁\u001b[39m▁\u001b[39m▁\u001b[39m▁\u001b[39m▁\u001b[39m▁\u001b[39m▁\u001b[39m▁\u001b[39m▁\u001b[39m▁\u001b[39m▁\u001b[39m▁\u001b[39m▁\u001b[39m▁\u001b[39m▁\u001b[39m▁\u001b[39m▁\u001b[39m▁\u001b[39m▁\u001b[39m▁\u001b[39m▁\u001b[39m▁\u001b[39m▁\u001b[39m▁\u001b[39m▁\u001b[39m▁\u001b[39m▁\u001b[39m▁\u001b[39m█\u001b[34m \u001b[39m\u001b[39m█\n",
       "  1.25 ns\u001b[90m      \u001b[39m\u001b[90mHistogram: \u001b[39m\u001b[90m\u001b[1mlog(\u001b[22m\u001b[39m\u001b[90mfrequency\u001b[39m\u001b[90m\u001b[1m)\u001b[22m\u001b[39m\u001b[90m by time\u001b[39m     1.26 ns \u001b[0m\u001b[1m<\u001b[22m\n",
       "\n",
       " Memory estimate\u001b[90m: \u001b[39m\u001b[33m0 bytes\u001b[39m, allocs estimate\u001b[90m: \u001b[39m\u001b[33m0\u001b[39m."
      ]
     },
     "execution_count": 12,
     "metadata": {},
     "output_type": "execute_result"
    }
   ],
   "source": [
    "N = 100_000_000\n",
    "result = @benchmark f($N)"
   ]
  },
  {
   "cell_type": "code",
   "execution_count": 15,
   "metadata": {
    "slideshow": {
     "slide_type": "skip"
    }
   },
   "outputs": [],
   "source": [
    "using Unitful"
   ]
  },
  {
   "cell_type": "code",
   "execution_count": 16,
   "metadata": {
    "slideshow": {
     "slide_type": "subslide"
    }
   },
   "outputs": [
    {
     "data": {
      "text/plain": [
       "(1.249 ns, 80.06405124099278 PHz)"
      ]
     },
     "execution_count": 16,
     "metadata": {},
     "output_type": "execute_result"
    }
   ],
   "source": [
    "t = time(minimum(result)) * u\"ns\" # in ns\n",
    "pFreq = N/t |> u\"PHz\"\n",
    "t, pFreq"
   ]
  },
  {
   "cell_type": "markdown",
   "metadata": {
    "slideshow": {
     "slide_type": "fragment"
    }
   },
   "source": [
    "So we are doing 100 million additions in 1.2ns.\n",
    "So our processor is operating at 80 PHz..."
   ]
  },
  {
   "cell_type": "markdown",
   "metadata": {
    "slideshow": {
     "slide_type": "fragment"
    }
   },
   "source": [
    "We wish...\n",
    "\n",
    "What is going on?\n",
    "\n",
    "Let's do a basic check, 10x bigger input"
   ]
  },
  {
   "cell_type": "code",
   "execution_count": 17,
   "metadata": {
    "scrolled": true,
    "slideshow": {
     "slide_type": "slide"
    }
   },
   "outputs": [
    {
     "data": {
      "text/plain": [
       "BenchmarkTools.Trial: 10000 samples with 1000 evaluations.\n",
       " Range \u001b[90m(\u001b[39m\u001b[36m\u001b[1mmin\u001b[22m\u001b[39m … \u001b[35mmax\u001b[39m\u001b[90m):  \u001b[39m\u001b[36m\u001b[1m1.249 ns\u001b[22m\u001b[39m … \u001b[35m5.190 ns\u001b[39m  \u001b[90m┊\u001b[39m GC \u001b[90m(\u001b[39mmin … max\u001b[90m): \u001b[39m0.00% … 0.00%\n",
       " Time  \u001b[90m(\u001b[39m\u001b[34m\u001b[1mmedian\u001b[22m\u001b[39m\u001b[90m):     \u001b[39m\u001b[34m\u001b[1m1.260 ns             \u001b[22m\u001b[39m\u001b[90m┊\u001b[39m GC \u001b[90m(\u001b[39mmedian\u001b[90m):    \u001b[39m0.00%\n",
       " Time  \u001b[90m(\u001b[39m\u001b[32m\u001b[1mmean\u001b[22m\u001b[39m ± \u001b[32mσ\u001b[39m\u001b[90m):   \u001b[39m\u001b[32m\u001b[1m1.260 ns\u001b[22m\u001b[39m ± \u001b[32m0.067 ns\u001b[39m  \u001b[90m┊\u001b[39m GC \u001b[90m(\u001b[39mmean ± σ\u001b[90m):  \u001b[39m0.00% ± 0.00%\n",
       "\n",
       "  \u001b[39m▂\u001b[39m \u001b[39m \u001b[39m \u001b[39m \u001b[34m█\u001b[39m\u001b[39m \u001b[39m \u001b[39m \u001b[39m \u001b[39m \u001b[39m \u001b[39m \u001b[39m \u001b[39m \u001b[39m \u001b[39m \u001b[39m \u001b[39m \u001b[39m \u001b[39m \u001b[39m \u001b[39m \u001b[39m \u001b[39m \u001b[39m \u001b[39m \u001b[39m \u001b[39m \u001b[39m \u001b[39m \u001b[39m \u001b[39m \u001b[39m \u001b[39m \u001b[39m \u001b[39m \u001b[39m \u001b[39m \u001b[39m \u001b[39m \u001b[39m \u001b[39m \u001b[39m \u001b[39m \u001b[39m \u001b[39m \u001b[39m \u001b[39m \u001b[39m \u001b[39m \u001b[39m \u001b[39m \u001b[39m \u001b[39m \u001b[39m \u001b[39m \u001b[39m \u001b[39m \n",
       "  \u001b[39m█\u001b[39m▁\u001b[39m▁\u001b[39m▁\u001b[39m▁\u001b[34m█\u001b[39m\u001b[39m▁\u001b[39m▁\u001b[39m▁\u001b[39m▁\u001b[39m▁\u001b[39m▁\u001b[39m▁\u001b[39m▁\u001b[39m▂\u001b[39m▁\u001b[39m▁\u001b[39m▁\u001b[39m▁\u001b[39m▁\u001b[39m▁\u001b[39m▁\u001b[39m▁\u001b[39m▁\u001b[39m▁\u001b[39m▁\u001b[39m▁\u001b[39m▁\u001b[39m▂\u001b[39m▁\u001b[39m▁\u001b[39m▁\u001b[39m▁\u001b[39m▂\u001b[39m▁\u001b[39m▁\u001b[39m▁\u001b[39m▁\u001b[39m▂\u001b[39m▁\u001b[39m▁\u001b[39m▁\u001b[39m▂\u001b[39m▁\u001b[39m▁\u001b[39m▁\u001b[39m▁\u001b[39m▂\u001b[39m▁\u001b[39m▁\u001b[39m▁\u001b[39m▁\u001b[39m▂\u001b[39m▁\u001b[39m▁\u001b[39m▁\u001b[39m▂\u001b[39m \u001b[39m▂\n",
       "  1.25 ns\u001b[90m        Histogram: frequency by time\u001b[39m       1.37 ns \u001b[0m\u001b[1m<\u001b[22m\n",
       "\n",
       " Memory estimate\u001b[90m: \u001b[39m\u001b[33m0 bytes\u001b[39m, allocs estimate\u001b[90m: \u001b[39m\u001b[33m0\u001b[39m."
      ]
     },
     "execution_count": 17,
     "metadata": {},
     "output_type": "execute_result"
    }
   ],
   "source": [
    "@benchmark f($(10*N))"
   ]
  },
  {
   "cell_type": "markdown",
   "metadata": {
    "slideshow": {
     "slide_type": "slide"
    }
   },
   "source": [
    "Let's explore what code we are **actually** running. \n",
    "\n",
    "Using Julia's reflection macros we can see all of the stages of code-generation."
   ]
  },
  {
   "cell_type": "code",
   "execution_count": 18,
   "metadata": {
    "slideshow": {
     "slide_type": "subslide"
    }
   },
   "outputs": [
    {
     "data": {
      "text/plain": [
       "CodeInfo(\n",
       "\u001b[90m1 ─\u001b[39m       acc = 0\n",
       "\u001b[90m│  \u001b[39m %2  = 1:N\n",
       "\u001b[90m│  \u001b[39m       @_3 = Base.iterate(%2)\n",
       "\u001b[90m│  \u001b[39m %4  = @_3 === nothing\n",
       "\u001b[90m│  \u001b[39m %5  = Base.not_int(%4)\n",
       "\u001b[90m└──\u001b[39m       goto #4 if not %5\n",
       "\u001b[90m2 ┄\u001b[39m %7  = @_3\n",
       "\u001b[90m│  \u001b[39m       i = Core.getfield(%7, 1)\n",
       "\u001b[90m│  \u001b[39m %9  = Core.getfield(%7, 2)\n",
       "\u001b[90m│  \u001b[39m       acc = acc + 1\n",
       "\u001b[90m│  \u001b[39m       @_3 = Base.iterate(%2, %9)\n",
       "\u001b[90m│  \u001b[39m %12 = @_3 === nothing\n",
       "\u001b[90m│  \u001b[39m %13 = Base.not_int(%12)\n",
       "\u001b[90m└──\u001b[39m       goto #4 if not %13\n",
       "\u001b[90m3 ─\u001b[39m       goto #2\n",
       "\u001b[90m4 ┄\u001b[39m       return acc\n",
       ")"
      ]
     },
     "execution_count": 18,
     "metadata": {},
     "output_type": "execute_result"
    }
   ],
   "source": [
    "@code_lowered f(N)"
   ]
  },
  {
   "cell_type": "code",
   "execution_count": 19,
   "metadata": {
    "slideshow": {
     "slide_type": "subslide"
    }
   },
   "outputs": [
    {
     "data": {
      "text/plain": [
       "CodeInfo(\n",
       "\u001b[90m1 ─\u001b[39m       (acc = 0)\u001b[90m::Core.Const(0)\u001b[39m\n",
       "\u001b[90m│  \u001b[39m %2  = (1:N)\u001b[36m::Core.PartialStruct(UnitRange{Int64}, Any[Core.Const(1), Int64])\u001b[39m\n",
       "\u001b[90m│  \u001b[39m       (@_3 = Base.iterate(%2))\u001b[90m::Union{Nothing, Tuple{Int64, Int64}}\u001b[39m\n",
       "\u001b[90m│  \u001b[39m %4  = (@_3 === nothing)\u001b[36m::Bool\u001b[39m\n",
       "\u001b[90m│  \u001b[39m %5  = Base.not_int(%4)\u001b[36m::Bool\u001b[39m\n",
       "\u001b[90m└──\u001b[39m       goto #4 if not %5\n",
       "\u001b[90m2 ┄\u001b[39m %7  = @_3\u001b[36m::Tuple{Int64, Int64}\u001b[39m\n",
       "\u001b[90m│  \u001b[39m       (i = Core.getfield(%7, 1))\u001b[90m::Int64\u001b[39m\n",
       "\u001b[90m│  \u001b[39m %9  = Core.getfield(%7, 2)\u001b[36m::Int64\u001b[39m\n",
       "\u001b[90m│  \u001b[39m       (acc = acc + 1)\u001b[90m::Int64\u001b[39m\n",
       "\u001b[90m│  \u001b[39m       (@_3 = Base.iterate(%2, %9))\u001b[90m::Union{Nothing, Tuple{Int64, Int64}}\u001b[39m\n",
       "\u001b[90m│  \u001b[39m %12 = (@_3 === nothing)\u001b[36m::Bool\u001b[39m\n",
       "\u001b[90m│  \u001b[39m %13 = Base.not_int(%12)\u001b[36m::Bool\u001b[39m\n",
       "\u001b[90m└──\u001b[39m       goto #4 if not %13\n",
       "\u001b[90m3 ─\u001b[39m       goto #2\n",
       "\u001b[90m4 ┄\u001b[39m       return acc\n",
       ") => Int64"
      ]
     },
     "execution_count": 19,
     "metadata": {},
     "output_type": "execute_result"
    }
   ],
   "source": [
    "@code_typed optimize=false f(N)"
   ]
  },
  {
   "cell_type": "code",
   "execution_count": 20,
   "metadata": {
    "slideshow": {
     "slide_type": "subslide"
    }
   },
   "outputs": [
    {
     "data": {
      "text/plain": [
       "CodeInfo(\n",
       "\u001b[90m1 ──\u001b[39m %1  = Base.sle_int(1, N)\u001b[36m::Bool\u001b[39m\n",
       "\u001b[90m│   \u001b[39m %2  = Base.ifelse(%1, N, 0)\u001b[36m::Int64\u001b[39m\n",
       "\u001b[90m│   \u001b[39m %3  = Base.slt_int(%2, 1)\u001b[36m::Bool\u001b[39m\n",
       "\u001b[90m└───\u001b[39m       goto #3 if not %3\n",
       "\u001b[90m2 ──\u001b[39m       Base.nothing\u001b[90m::Nothing\u001b[39m\n",
       "\u001b[90m└───\u001b[39m       goto #4\n",
       "\u001b[90m3 ──\u001b[39m       goto #4\n",
       "\u001b[90m4 ┄─\u001b[39m %8  = φ (#2 => true, #3 => false)\u001b[36m::Bool\u001b[39m\n",
       "\u001b[90m│   \u001b[39m %9  = φ (#3 => 1)\u001b[36m::Int64\u001b[39m\n",
       "\u001b[90m│   \u001b[39m %10 = Base.not_int(%8)\u001b[36m::Bool\u001b[39m\n",
       "\u001b[90m└───\u001b[39m       goto #10 if not %10\n",
       "\u001b[90m5 ┄─\u001b[39m %12 = φ (#4 => %9, #9 => %21)\u001b[36m::Int64\u001b[39m\n",
       "\u001b[90m│   \u001b[39m %13 = φ (#4 => 0, #9 => %14)\u001b[36m::Int64\u001b[39m\n",
       "\u001b[90m│   \u001b[39m %14 = Base.add_int(%13, 1)\u001b[36m::Int64\u001b[39m\n",
       "\u001b[90m│   \u001b[39m %15 = (%12 === %2)\u001b[36m::Bool\u001b[39m\n",
       "\u001b[90m└───\u001b[39m       goto #7 if not %15\n",
       "\u001b[90m6 ──\u001b[39m       Base.nothing\u001b[90m::Nothing\u001b[39m\n",
       "\u001b[90m└───\u001b[39m       goto #8\n",
       "\u001b[90m7 ──\u001b[39m %19 = Base.add_int(%12, 1)\u001b[36m::Int64\u001b[39m\n",
       "\u001b[90m└───\u001b[39m       goto #8\n",
       "\u001b[90m8 ┄─\u001b[39m %21 = φ (#7 => %19)\u001b[36m::Int64\u001b[39m\n",
       "\u001b[90m│   \u001b[39m %22 = φ (#6 => true, #7 => false)\u001b[36m::Bool\u001b[39m\n",
       "\u001b[90m│   \u001b[39m %23 = Base.not_int(%22)\u001b[36m::Bool\u001b[39m\n",
       "\u001b[90m└───\u001b[39m       goto #10 if not %23\n",
       "\u001b[90m9 ──\u001b[39m       goto #5\n",
       "\u001b[90m10 ┄\u001b[39m %26 = φ (#8 => %14, #4 => 0)\u001b[36m::Int64\u001b[39m\n",
       "\u001b[90m└───\u001b[39m       return %26\n",
       ") => Int64"
      ]
     },
     "execution_count": 20,
     "metadata": {},
     "output_type": "execute_result"
    }
   ],
   "source": [
    "@code_typed optimize=true f(N)"
   ]
  },
  {
   "cell_type": "code",
   "execution_count": 21,
   "metadata": {
    "slideshow": {
     "slide_type": "subslide"
    }
   },
   "outputs": [
    {
     "name": "stdout",
     "output_type": "stream",
     "text": [
      "\u001b[90m;  @ In[11]:1 within `f`\u001b[39m\n",
      "\u001b[95mdefine\u001b[39m \u001b[36mi64\u001b[39m \u001b[93m@julia_f_3683\u001b[39m\u001b[33m(\u001b[39m\u001b[36mi64\u001b[39m \u001b[95msignext\u001b[39m \u001b[0m%0\u001b[33m)\u001b[39m \u001b[0m#0 \u001b[33m{\u001b[39m\n",
      "\u001b[91mtop:\u001b[39m\n",
      "  \u001b[0m%1 \u001b[0m= \u001b[96m\u001b[1mcall\u001b[22m\u001b[39m \u001b[33m{\u001b[39m\u001b[33m}\u001b[39m\u001b[0m*** \u001b[93m@julia.get_pgcstack\u001b[39m\u001b[33m(\u001b[39m\u001b[33m)\u001b[39m\n",
      "  \u001b[0m%2 \u001b[0m= \u001b[96m\u001b[1mbitcast\u001b[22m\u001b[39m \u001b[33m{\u001b[39m\u001b[33m}\u001b[39m\u001b[0m*** \u001b[0m%1 \u001b[95mto\u001b[39m \u001b[33m{\u001b[39m\u001b[33m}\u001b[39m\u001b[0m**\n",
      "  \u001b[0m%current_task \u001b[0m= \u001b[96m\u001b[1mgetelementptr\u001b[22m\u001b[39m \u001b[95minbounds\u001b[39m \u001b[33m{\u001b[39m\u001b[33m}\u001b[39m\u001b[0m*\u001b[0m, \u001b[33m{\u001b[39m\u001b[33m}\u001b[39m\u001b[0m** \u001b[0m%2\u001b[0m, \u001b[36mi64\u001b[39m \u001b[33m2305843009213693940\u001b[39m\n",
      "  \u001b[0m%3 \u001b[0m= \u001b[96m\u001b[1mbitcast\u001b[22m\u001b[39m \u001b[33m{\u001b[39m\u001b[33m}\u001b[39m\u001b[0m** \u001b[0m%current_task \u001b[95mto\u001b[39m \u001b[36mi64\u001b[39m\u001b[0m*\n",
      "  \u001b[0m%world_age \u001b[0m= \u001b[96m\u001b[1mgetelementptr\u001b[22m\u001b[39m \u001b[95minbounds\u001b[39m \u001b[36mi64\u001b[39m\u001b[0m, \u001b[36mi64\u001b[39m\u001b[0m* \u001b[0m%3\u001b[0m, \u001b[36mi64\u001b[39m \u001b[33m13\u001b[39m\n",
      "\u001b[90m;  @ In[11]:3 within `f`\u001b[39m\n",
      "\u001b[90m; ┌ @ range.jl:5 within `Colon`\u001b[39m\n",
      "\u001b[90m; │┌ @ range.jl:354 within `UnitRange`\u001b[39m\n",
      "\u001b[90m; ││┌ @ range.jl:359 within `unitrange_last`\u001b[39m\n",
      "\u001b[90m; │││┌ @ operators.jl:425 within `>=`\u001b[39m\n",
      "\u001b[90m; ││││┌ @ int.jl:477 within `<=`\u001b[39m\n",
      "       \u001b[0m%4 \u001b[0m= \u001b[96m\u001b[1micmp\u001b[22m\u001b[39m \u001b[96m\u001b[1msle\u001b[22m\u001b[39m \u001b[36mi64\u001b[39m \u001b[33m1\u001b[39m\u001b[0m, \u001b[0m%0\n",
      "\u001b[90m; │││└└\u001b[39m\n",
      "     \u001b[0m%5 \u001b[0m= \u001b[96m\u001b[1mzext\u001b[22m\u001b[39m \u001b[36mi1\u001b[39m \u001b[0m%4 \u001b[95mto\u001b[39m \u001b[36mi8\u001b[39m\n",
      "     \u001b[0m%6 \u001b[0m= \u001b[96m\u001b[1mtrunc\u001b[22m\u001b[39m \u001b[36mi8\u001b[39m \u001b[0m%5 \u001b[95mto\u001b[39m \u001b[36mi1\u001b[39m\n",
      "     \u001b[0m%7 \u001b[0m= \u001b[96m\u001b[1mxor\u001b[22m\u001b[39m \u001b[36mi1\u001b[39m \u001b[0m%6\u001b[0m, \u001b[95mtrue\u001b[39m\n",
      "     \u001b[0m%8 \u001b[0m= \u001b[96m\u001b[1mselect\u001b[22m\u001b[39m \u001b[36mi1\u001b[39m \u001b[0m%7\u001b[0m, \u001b[36mi64\u001b[39m \u001b[33m0\u001b[39m\u001b[0m, \u001b[36mi64\u001b[39m \u001b[0m%0\n",
      "\u001b[90m; └└└\u001b[39m\n",
      "\u001b[90m; ┌ @ range.jl:833 within `iterate`\u001b[39m\n",
      "\u001b[90m; │┌ @ range.jl:609 within `isempty`\u001b[39m\n",
      "\u001b[90m; ││┌ @ operators.jl:378 within `>`\u001b[39m\n",
      "\u001b[90m; │││┌ @ int.jl:83 within `<`\u001b[39m\n",
      "      \u001b[0m%9 \u001b[0m= \u001b[96m\u001b[1micmp\u001b[22m\u001b[39m \u001b[96m\u001b[1mslt\u001b[22m\u001b[39m \u001b[36mi64\u001b[39m \u001b[0m%8\u001b[0m, \u001b[33m1\u001b[39m\n",
      "\u001b[90m; │└└└\u001b[39m\n",
      "   \u001b[0m%10 \u001b[0m= \u001b[96m\u001b[1mzext\u001b[22m\u001b[39m \u001b[36mi1\u001b[39m \u001b[0m%9 \u001b[95mto\u001b[39m \u001b[36mi8\u001b[39m\n",
      "   \u001b[0m%11 \u001b[0m= \u001b[96m\u001b[1mtrunc\u001b[22m\u001b[39m \u001b[36mi8\u001b[39m \u001b[0m%10 \u001b[95mto\u001b[39m \u001b[36mi1\u001b[39m\n",
      "   \u001b[0m%12 \u001b[0m= \u001b[96m\u001b[1mxor\u001b[22m\u001b[39m \u001b[36mi1\u001b[39m \u001b[0m%11\u001b[0m, \u001b[95mtrue\u001b[39m\n",
      "   \u001b[96m\u001b[1mbr\u001b[22m\u001b[39m \u001b[36mi1\u001b[39m \u001b[0m%12\u001b[0m, \u001b[36mlabel\u001b[39m \u001b[91m%L7\u001b[39m\u001b[0m, \u001b[36mlabel\u001b[39m \u001b[91m%L5\u001b[39m\n",
      "\n",
      "\u001b[91mL5:\u001b[39m                                               \u001b[90m; preds = %top\u001b[39m\n",
      "   \u001b[96m\u001b[1mbr\u001b[22m\u001b[39m \u001b[36mlabel\u001b[39m \u001b[91m%L8\u001b[39m\n",
      "\n",
      "\u001b[91mL7:\u001b[39m                                               \u001b[90m; preds = %top\u001b[39m\n",
      "   \u001b[96m\u001b[1mbr\u001b[22m\u001b[39m \u001b[36mlabel\u001b[39m \u001b[91m%L8\u001b[39m\n",
      "\n",
      "\u001b[91mL8:\u001b[39m                                               \u001b[90m; preds = %L7, %L5\u001b[39m\n",
      "   \u001b[0m%value_phi \u001b[0m= \u001b[96m\u001b[1mphi\u001b[22m\u001b[39m \u001b[36mi8\u001b[39m \u001b[33m[\u001b[39m \u001b[33m1\u001b[39m\u001b[0m, \u001b[91m%L5\u001b[39m \u001b[33m]\u001b[39m\u001b[0m, \u001b[33m[\u001b[39m \u001b[33m0\u001b[39m\u001b[0m, \u001b[91m%L7\u001b[39m \u001b[33m]\u001b[39m\n",
      "   \u001b[0m%value_phi1 \u001b[0m= \u001b[96m\u001b[1mphi\u001b[22m\u001b[39m \u001b[36mi64\u001b[39m \u001b[33m[\u001b[39m \u001b[33m1\u001b[39m\u001b[0m, \u001b[91m%L7\u001b[39m \u001b[33m]\u001b[39m\u001b[0m, \u001b[33m[\u001b[39m \u001b[95mundef\u001b[39m\u001b[0m, \u001b[91m%L5\u001b[39m \u001b[33m]\u001b[39m\n",
      "\u001b[90m; └\u001b[39m\n",
      "  \u001b[0m%13 \u001b[0m= \u001b[96m\u001b[1mxor\u001b[22m\u001b[39m \u001b[36mi8\u001b[39m \u001b[0m%value_phi\u001b[0m, \u001b[33m1\u001b[39m\n",
      "  \u001b[0m%14 \u001b[0m= \u001b[96m\u001b[1mtrunc\u001b[22m\u001b[39m \u001b[36mi8\u001b[39m \u001b[0m%13 \u001b[95mto\u001b[39m \u001b[36mi1\u001b[39m\n",
      "  \u001b[0m%15 \u001b[0m= \u001b[96m\u001b[1mxor\u001b[22m\u001b[39m \u001b[36mi1\u001b[39m \u001b[0m%14\u001b[0m, \u001b[95mtrue\u001b[39m\n",
      "  \u001b[96m\u001b[1mbr\u001b[22m\u001b[39m \u001b[36mi1\u001b[39m \u001b[0m%15\u001b[0m, \u001b[36mlabel\u001b[39m \u001b[91m%L8.L26_crit_edge\u001b[39m\u001b[0m, \u001b[36mlabel\u001b[39m \u001b[91m%L8.L12_crit_edge\u001b[39m\n",
      "\n",
      "\u001b[91mL8.L26_crit_edge:\u001b[39m                                 \u001b[90m; preds = %L8\u001b[39m\n",
      "\u001b[90m;  @ In[11]:4 within `f`\u001b[39m\n",
      "\u001b[90m; ┌ @ range.jl:837 within `iterate`\u001b[39m\n",
      "   \u001b[96m\u001b[1mbr\u001b[22m\u001b[39m \u001b[36mlabel\u001b[39m \u001b[91m%L26\u001b[39m\n",
      "\n",
      "\u001b[91mL8.L12_crit_edge:\u001b[39m                                 \u001b[90m; preds = %L8\u001b[39m\n",
      "\u001b[90m; └\u001b[39m\n",
      "\u001b[90m;  @ In[11]:3 within `f`\u001b[39m\n",
      "\u001b[90m; ┌ @ range.jl:833 within `iterate`\u001b[39m\n",
      "   \u001b[96m\u001b[1mbr\u001b[22m\u001b[39m \u001b[36mlabel\u001b[39m \u001b[91m%L12\u001b[39m\n",
      "\n",
      "\u001b[91mL12:\u001b[39m                                              \u001b[90m; preds = %L25, %L8.L12_crit_edge\u001b[39m\n",
      "   \u001b[0m%value_phi2 \u001b[0m= \u001b[96m\u001b[1mphi\u001b[22m\u001b[39m \u001b[36mi64\u001b[39m \u001b[33m[\u001b[39m \u001b[0m%value_phi1\u001b[0m, \u001b[91m%L8.L12_crit_edge\u001b[39m \u001b[33m]\u001b[39m\u001b[0m, \u001b[33m[\u001b[39m \u001b[0m%value_phi4\u001b[0m, \u001b[91m%L25\u001b[39m \u001b[33m]\u001b[39m\n",
      "   \u001b[0m%value_phi3 \u001b[0m= \u001b[96m\u001b[1mphi\u001b[22m\u001b[39m \u001b[36mi64\u001b[39m \u001b[33m[\u001b[39m \u001b[33m0\u001b[39m\u001b[0m, \u001b[91m%L8.L12_crit_edge\u001b[39m \u001b[33m]\u001b[39m\u001b[0m, \u001b[33m[\u001b[39m \u001b[0m%16\u001b[0m, \u001b[91m%L25\u001b[39m \u001b[33m]\u001b[39m\n",
      "\u001b[90m; └\u001b[39m\n",
      "\u001b[90m;  @ In[11]:4 within `f`\u001b[39m\n",
      "\u001b[90m; ┌ @ int.jl:87 within `+`\u001b[39m\n",
      "   \u001b[0m%16 \u001b[0m= \u001b[96m\u001b[1madd\u001b[22m\u001b[39m \u001b[36mi64\u001b[39m \u001b[0m%value_phi3\u001b[0m, \u001b[33m1\u001b[39m\n",
      "\u001b[90m; └\u001b[39m\n",
      "\u001b[90m; ┌ @ range.jl:837 within `iterate`\u001b[39m\n",
      "\u001b[90m; │┌ @ promotion.jl:468 within `==`\u001b[39m\n",
      "    \u001b[0m%17 \u001b[0m= \u001b[96m\u001b[1micmp\u001b[22m\u001b[39m \u001b[96m\u001b[1meq\u001b[22m\u001b[39m \u001b[36mi64\u001b[39m \u001b[0m%value_phi2\u001b[0m, \u001b[0m%8\n",
      "    \u001b[0m%18 \u001b[0m= \u001b[96m\u001b[1mzext\u001b[22m\u001b[39m \u001b[36mi1\u001b[39m \u001b[0m%17 \u001b[95mto\u001b[39m \u001b[36mi8\u001b[39m\n",
      "\u001b[90m; │└\u001b[39m\n",
      "   \u001b[0m%19 \u001b[0m= \u001b[96m\u001b[1mtrunc\u001b[22m\u001b[39m \u001b[36mi8\u001b[39m \u001b[0m%18 \u001b[95mto\u001b[39m \u001b[36mi1\u001b[39m\n",
      "   \u001b[0m%20 \u001b[0m= \u001b[96m\u001b[1mxor\u001b[22m\u001b[39m \u001b[36mi1\u001b[39m \u001b[0m%19\u001b[0m, \u001b[95mtrue\u001b[39m\n",
      "   \u001b[96m\u001b[1mbr\u001b[22m\u001b[39m \u001b[36mi1\u001b[39m \u001b[0m%20\u001b[0m, \u001b[36mlabel\u001b[39m \u001b[91m%L19\u001b[39m\u001b[0m, \u001b[36mlabel\u001b[39m \u001b[91m%L17\u001b[39m\n",
      "\n",
      "\u001b[91mL17:\u001b[39m                                              \u001b[90m; preds = %L12\u001b[39m\n",
      "   \u001b[96m\u001b[1mbr\u001b[22m\u001b[39m \u001b[36mlabel\u001b[39m \u001b[91m%L21\u001b[39m\n",
      "\n",
      "\u001b[91mL19:\u001b[39m                                              \u001b[90m; preds = %L12\u001b[39m\n",
      "\u001b[90m; └\u001b[39m\n",
      "\u001b[90m; ┌ @ range.jl:838 within `iterate`\u001b[39m\n",
      "\u001b[90m; │┌ @ int.jl:87 within `+`\u001b[39m\n",
      "    \u001b[0m%21 \u001b[0m= \u001b[96m\u001b[1madd\u001b[22m\u001b[39m \u001b[36mi64\u001b[39m \u001b[0m%value_phi2\u001b[0m, \u001b[33m1\u001b[39m\n",
      "\u001b[90m; └└\u001b[39m\n",
      "\u001b[90m; ┌ @ range.jl:837 within `iterate`\u001b[39m\n",
      "   \u001b[96m\u001b[1mbr\u001b[22m\u001b[39m \u001b[36mlabel\u001b[39m \u001b[91m%L21\u001b[39m\n",
      "\n",
      "\u001b[91mL21:\u001b[39m                                              \u001b[90m; preds = %L19, %L17\u001b[39m\n",
      "   \u001b[0m%value_phi4 \u001b[0m= \u001b[96m\u001b[1mphi\u001b[22m\u001b[39m \u001b[36mi64\u001b[39m \u001b[33m[\u001b[39m \u001b[0m%21\u001b[0m, \u001b[91m%L19\u001b[39m \u001b[33m]\u001b[39m\u001b[0m, \u001b[33m[\u001b[39m \u001b[95mundef\u001b[39m\u001b[0m, \u001b[91m%L17\u001b[39m \u001b[33m]\u001b[39m\n",
      "   \u001b[0m%value_phi5 \u001b[0m= \u001b[96m\u001b[1mphi\u001b[22m\u001b[39m \u001b[36mi8\u001b[39m \u001b[33m[\u001b[39m \u001b[33m1\u001b[39m\u001b[0m, \u001b[91m%L17\u001b[39m \u001b[33m]\u001b[39m\u001b[0m, \u001b[33m[\u001b[39m \u001b[33m0\u001b[39m\u001b[0m, \u001b[91m%L19\u001b[39m \u001b[33m]\u001b[39m\n",
      "\u001b[90m; └\u001b[39m\n",
      "  \u001b[0m%22 \u001b[0m= \u001b[96m\u001b[1mxor\u001b[22m\u001b[39m \u001b[36mi8\u001b[39m \u001b[0m%value_phi5\u001b[0m, \u001b[33m1\u001b[39m\n",
      "  \u001b[0m%23 \u001b[0m= \u001b[96m\u001b[1mtrunc\u001b[22m\u001b[39m \u001b[36mi8\u001b[39m \u001b[0m%22 \u001b[95mto\u001b[39m \u001b[36mi1\u001b[39m\n",
      "  \u001b[0m%24 \u001b[0m= \u001b[96m\u001b[1mxor\u001b[22m\u001b[39m \u001b[36mi1\u001b[39m \u001b[0m%23\u001b[0m, \u001b[95mtrue\u001b[39m\n",
      "  \u001b[96m\u001b[1mbr\u001b[22m\u001b[39m \u001b[36mi1\u001b[39m \u001b[0m%24\u001b[0m, \u001b[36mlabel\u001b[39m \u001b[91m%L21.L26_crit_edge\u001b[39m\u001b[0m, \u001b[36mlabel\u001b[39m \u001b[91m%L25\u001b[39m\n",
      "\n",
      "\u001b[91mL21.L26_crit_edge:\u001b[39m                                \u001b[90m; preds = %L21\u001b[39m\n",
      "\u001b[90m; ┌ @ range.jl:837 within `iterate`\u001b[39m\n",
      "   \u001b[96m\u001b[1mbr\u001b[22m\u001b[39m \u001b[36mlabel\u001b[39m \u001b[91m%L26\u001b[39m\n",
      "\n",
      "\u001b[91mL25:\u001b[39m                                              \u001b[90m; preds = %L21\u001b[39m\n",
      "\u001b[90m; └\u001b[39m\n",
      "\u001b[90m;  @ In[11]:3 within `f`\u001b[39m\n",
      "\u001b[90m; ┌ @ range.jl:833 within `iterate`\u001b[39m\n",
      "   \u001b[96m\u001b[1mbr\u001b[22m\u001b[39m \u001b[36mlabel\u001b[39m \u001b[91m%L12\u001b[39m\n",
      "\n",
      "\u001b[91mL26:\u001b[39m                                              \u001b[90m; preds = %L21.L26_crit_edge, %L8.L26_crit_edge\u001b[39m\n",
      "   \u001b[0m%value_phi6 \u001b[0m= \u001b[96m\u001b[1mphi\u001b[22m\u001b[39m \u001b[36mi64\u001b[39m \u001b[33m[\u001b[39m \u001b[0m%16\u001b[0m, \u001b[91m%L21.L26_crit_edge\u001b[39m \u001b[33m]\u001b[39m\u001b[0m, \u001b[33m[\u001b[39m \u001b[33m0\u001b[39m\u001b[0m, \u001b[91m%L8.L26_crit_edge\u001b[39m \u001b[33m]\u001b[39m\n",
      "\u001b[90m; └\u001b[39m\n",
      "\u001b[90m;  @ In[11]:6 within `f`\u001b[39m\n",
      "  \u001b[96m\u001b[1mret\u001b[22m\u001b[39m \u001b[36mi64\u001b[39m \u001b[0m%value_phi6\n",
      "\u001b[33m}\u001b[39m\n"
     ]
    }
   ],
   "source": [
    "@code_llvm optimize=false f(10)"
   ]
  },
  {
   "cell_type": "code",
   "execution_count": 22,
   "metadata": {
    "slideshow": {
     "slide_type": "subslide"
    }
   },
   "outputs": [
    {
     "name": "stdout",
     "output_type": "stream",
     "text": [
      "\u001b[90m;  @ In[11]:1 within `f`\u001b[39m\n",
      "\u001b[95mdefine\u001b[39m \u001b[36mi64\u001b[39m \u001b[93m@julia_f_3706\u001b[39m\u001b[33m(\u001b[39m\u001b[36mi64\u001b[39m \u001b[95msignext\u001b[39m \u001b[0m%0\u001b[33m)\u001b[39m \u001b[0m#0 \u001b[33m{\u001b[39m\n",
      "\u001b[91mtop:\u001b[39m\n",
      "\u001b[90m;  @ In[11]:3 within `f`\u001b[39m\n",
      "\u001b[90m; ┌ @ range.jl:5 within `Colon`\u001b[39m\n",
      "\u001b[90m; │┌ @ range.jl:354 within `UnitRange`\u001b[39m\n",
      "\u001b[90m; ││┌ @ range.jl:359 within `unitrange_last`\u001b[39m\n",
      "     \u001b[0m%.inv \u001b[0m= \u001b[96m\u001b[1micmp\u001b[22m\u001b[39m \u001b[96m\u001b[1msgt\u001b[22m\u001b[39m \u001b[36mi64\u001b[39m \u001b[0m%0\u001b[0m, \u001b[33m0\u001b[39m\n",
      "\u001b[90m; └└└\u001b[39m\n",
      "  \u001b[0m%spec.select \u001b[0m= \u001b[96m\u001b[1mselect\u001b[22m\u001b[39m \u001b[36mi1\u001b[39m \u001b[0m%.inv\u001b[0m, \u001b[36mi64\u001b[39m \u001b[0m%0\u001b[0m, \u001b[36mi64\u001b[39m \u001b[33m0\u001b[39m\n",
      "\u001b[90m;  @ In[11]:6 within `f`\u001b[39m\n",
      "  \u001b[96m\u001b[1mret\u001b[22m\u001b[39m \u001b[36mi64\u001b[39m \u001b[0m%spec.select\n",
      "\u001b[33m}\u001b[39m\n"
     ]
    }
   ],
   "source": [
    "@code_llvm optimize=true f(10)"
   ]
  },
  {
   "cell_type": "code",
   "execution_count": 23,
   "metadata": {
    "slideshow": {
     "slide_type": "subslide"
    }
   },
   "outputs": [
    {
     "name": "stdout",
     "output_type": "stream",
     "text": [
      "\t\u001b[0m.text\n",
      "\u001b[90m; ┌ @ In[11]:3 within `f`\u001b[39m\n",
      "\t\u001b[96m\u001b[1mmovq\u001b[22m\u001b[39m\t\u001b[0m%rdi\u001b[0m, \u001b[0m%rax\n",
      "\t\u001b[96m\u001b[1msarq\u001b[22m\u001b[39m\t\u001b[33m$63\u001b[39m\u001b[0m, \u001b[0m%rax\n",
      "\t\u001b[96m\u001b[1mandnq\u001b[22m\u001b[39m\t\u001b[0m%rdi\u001b[0m, \u001b[0m%rax\u001b[0m, \u001b[0m%rax\n",
      "\u001b[90m; │ @ In[11]:6 within `f`\u001b[39m\n",
      "\t\u001b[96m\u001b[1mretq\u001b[22m\u001b[39m\n",
      "\t\u001b[96m\u001b[1mnopl\u001b[22m\u001b[39m\t\u001b[33m(\u001b[39m\u001b[0m%rax\u001b[33m)\u001b[39m\n",
      "\u001b[90m; └\u001b[39m\n"
     ]
    }
   ],
   "source": [
    "@code_native f(10)"
   ]
  },
  {
   "cell_type": "markdown",
   "metadata": {
    "slideshow": {
     "slide_type": "subslide"
    }
   },
   "source": [
    "# Conclusion\n",
    "\n",
    "LLVM realised that our loop.\n",
    "\n",
    "```julia\n",
    "for i in 1:N\n",
    "  acc += 1\n",
    "end\n",
    "```\n",
    "\n",
    "Just ended up being $acc = 1 * N$"
   ]
  },
  {
   "cell_type": "markdown",
   "metadata": {
    "slideshow": {
     "slide_type": "subslide"
    }
   },
   "source": [
    "# Exercise\n",
    "\n",
    "What happens with:\n",
    "\n",
    "```julia\n",
    "function g(N)\n",
    "    acc = 0\n",
    "    for i in 1:N\n",
    "        acc += 1.0\n",
    "    end\n",
    "    acc\n",
    "end\n",
    "```\n",
    "\n",
    "and\n",
    "    \n",
    "```julia\n",
    "function h(N)\n",
    "    acc = 0.0\n",
    "    for i in 1:N\n",
    "        acc += 1.0\n",
    "    end\n",
    "    acc\n",
    "end\n",
    "```\n",
    "\n",
    "Take some time to study the different stages of the compilation pipeline.\n",
    "    "
   ]
  },
  {
   "cell_type": "code",
   "execution_count": 24,
   "metadata": {},
   "outputs": [
    {
     "data": {
      "text/plain": [
       "g (generic function with 1 method)"
      ]
     },
     "execution_count": 24,
     "metadata": {},
     "output_type": "execute_result"
    }
   ],
   "source": [
    "function g(N)\n",
    "    acc = 0\n",
    "    for i in 1:N\n",
    "        acc += 1.0\n",
    "    end\n",
    "    acc\n",
    "end"
   ]
  },
  {
   "cell_type": "code",
   "execution_count": null,
   "metadata": {},
   "outputs": [],
   "source": []
  },
  {
   "cell_type": "code",
   "execution_count": 26,
   "metadata": {
    "slideshow": {
     "slide_type": "skip"
    }
   },
   "outputs": [
    {
     "data": {
      "text/plain": [
       "h (generic function with 1 method)"
      ]
     },
     "execution_count": 26,
     "metadata": {},
     "output_type": "execute_result"
    }
   ],
   "source": [
    "function h(N)\n",
    "    acc = 0.0\n",
    "    for i in 1:N\n",
    "        acc += 1.0\n",
    "    end\n",
    "    acc\n",
    "end"
   ]
  },
  {
   "cell_type": "code",
   "execution_count": null,
   "metadata": {
    "slideshow": {
     "slide_type": "-"
    }
   },
   "outputs": [],
   "source": []
  },
  {
   "cell_type": "code",
   "execution_count": 28,
   "metadata": {
    "slideshow": {
     "slide_type": "skip"
    }
   },
   "outputs": [
    {
     "data": {
      "text/plain": [
       "g (generic function with 2 methods)"
      ]
     },
     "execution_count": 28,
     "metadata": {},
     "output_type": "execute_result"
    }
   ],
   "source": [
    "function g(::Type{T}, N) where T<:Number\n",
    "    acc = zero(T)\n",
    "    for i in 1:N\n",
    "        acc += one(T)\n",
    "    end\n",
    "    acc\n",
    "end"
   ]
  },
  {
   "cell_type": "code",
   "execution_count": null,
   "metadata": {
    "scrolled": true,
    "slideshow": {
     "slide_type": "-"
    }
   },
   "outputs": [],
   "source": []
  },
  {
   "cell_type": "markdown",
   "metadata": {
    "slideshow": {
     "slide_type": "subslide"
    }
   },
   "source": [
    "# Can we actually measure the speed of our original code?"
   ]
  },
  {
   "cell_type": "code",
   "execution_count": 10,
   "metadata": {
    "slideshow": {
     "slide_type": "skip"
    }
   },
   "outputs": [
    {
     "name": "stderr",
     "output_type": "stream",
     "text": [
      "┌ Info: Precompiling LLVM [929cbde3-209d-540e-8aea-75f648917ca0]\n",
      "└ @ Base loading.jl:1423\n"
     ]
    },
    {
     "data": {
      "text/plain": [
       "escape"
      ]
     },
     "execution_count": 10,
     "metadata": {},
     "output_type": "execute_result"
    }
   ],
   "source": [
    "##########################\n",
    "# Low-level benchmarking #\n",
    "##########################\n",
    "using LLVM\n",
    "using LLVM.Interop\n",
    "\n",
    " \"\"\"\n",
    "    clobber()\n",
    "\n",
    "Force the compiler to flush pending writes to global memory.\n",
    "Acts as an effective read/write barrier.\n",
    "\"\"\"\n",
    "@inline clobber() = @asmcall(\"\", \"~{memory}\", true) \n",
    "\n",
    "\"\"\"\n",
    "    escape(val)\n",
    "\n",
    "The `escape` function can be used to prevent a value or\n",
    "expression from being optimized away by the compiler. This function is\n",
    "intended to add little to no overhead.\n",
    "See: https://youtu.be/nXaxk27zwlk?t=2441\n",
    "\"\"\"\n",
    "@inline escape(val::T) where T = @asmcall(\"\", \"X,~{memory}\", true, Nothing, Tuple{T}, val)"
   ]
  },
  {
   "cell_type": "code",
   "execution_count": 44,
   "metadata": {
    "slideshow": {
     "slide_type": "subslide"
    }
   },
   "outputs": [
    {
     "data": {
      "text/plain": [
       "k (generic function with 1 method)"
      ]
     },
     "execution_count": 44,
     "metadata": {},
     "output_type": "execute_result"
    }
   ],
   "source": [
    "function k(::Type{T}, N) where T\n",
    "    acc = zero(T)\n",
    "    for i in 1:N\n",
    "        acc += one(T)\n",
    "        clobber()\n",
    "    end\n",
    "    return acc\n",
    "end"
   ]
  },
  {
   "cell_type": "code",
   "execution_count": 52,
   "metadata": {
    "slideshow": {
     "slide_type": "subslide"
    }
   },
   "outputs": [
    {
     "name": "stdout",
     "output_type": "stream",
     "text": [
      "\u001b[95mdefine\u001b[39m \u001b[36mi64\u001b[39m \u001b[93m@julia_k_4629\u001b[39m\u001b[33m(\u001b[39m\u001b[36mi64\u001b[39m \u001b[95msignext\u001b[39m \u001b[0m%0\u001b[33m)\u001b[39m \u001b[0m#0 \u001b[33m{\u001b[39m\n",
      "\u001b[91mtop:\u001b[39m\n",
      "  \u001b[0m%.inv \u001b[0m= \u001b[96m\u001b[1micmp\u001b[22m\u001b[39m \u001b[96m\u001b[1msgt\u001b[22m\u001b[39m \u001b[36mi64\u001b[39m \u001b[0m%0\u001b[0m, \u001b[33m0\u001b[39m\n",
      "  \u001b[0m%1 \u001b[0m= \u001b[96m\u001b[1mselect\u001b[22m\u001b[39m \u001b[36mi1\u001b[39m \u001b[0m%.inv\u001b[0m, \u001b[36mi64\u001b[39m \u001b[0m%0\u001b[0m, \u001b[36mi64\u001b[39m \u001b[33m0\u001b[39m\n",
      "  \u001b[96m\u001b[1mbr\u001b[22m\u001b[39m \u001b[36mi1\u001b[39m \u001b[0m%.inv\u001b[0m, \u001b[36mlabel\u001b[39m \u001b[91m%L12\u001b[39m\u001b[0m, \u001b[36mlabel\u001b[39m \u001b[91m%L29\u001b[39m\n",
      "\n",
      "\u001b[91mL12:\u001b[39m                                              \u001b[90m; preds = %L12, %top\u001b[39m\n",
      "  \u001b[0m%value_phi2 \u001b[0m= \u001b[96m\u001b[1mphi\u001b[22m\u001b[39m \u001b[36mi64\u001b[39m \u001b[33m[\u001b[39m \u001b[0m%2\u001b[0m, \u001b[91m%L12\u001b[39m \u001b[33m]\u001b[39m\u001b[0m, \u001b[33m[\u001b[39m \u001b[33m1\u001b[39m\u001b[0m, \u001b[91m%top\u001b[39m \u001b[33m]\u001b[39m\n",
      "  \u001b[96m\u001b[1mcall\u001b[22m\u001b[39m \u001b[36mvoid\u001b[39m \u001b[95masm\u001b[39m \u001b[95msideeffect\u001b[39m \u001b[0m\"\"\u001b[0m, \u001b[0m\"~{memory}\"\u001b[33m(\u001b[39m\u001b[33m)\u001b[39m \u001b[0m#2\n",
      "  \u001b[0m%.not \u001b[0m= \u001b[96m\u001b[1micmp\u001b[22m\u001b[39m \u001b[96m\u001b[1meq\u001b[22m\u001b[39m \u001b[36mi64\u001b[39m \u001b[0m%value_phi2\u001b[0m, \u001b[0m%1\n",
      "  \u001b[0m%2 \u001b[0m= \u001b[96m\u001b[1madd\u001b[22m\u001b[39m \u001b[95mnuw\u001b[39m \u001b[36mi64\u001b[39m \u001b[0m%value_phi2\u001b[0m, \u001b[33m1\u001b[39m\n",
      "  \u001b[96m\u001b[1mbr\u001b[22m\u001b[39m \u001b[36mi1\u001b[39m \u001b[0m%.not\u001b[0m, \u001b[36mlabel\u001b[39m \u001b[91m%L29\u001b[39m\u001b[0m, \u001b[36mlabel\u001b[39m \u001b[91m%L12\u001b[39m\n",
      "\n",
      "\u001b[91mL29:\u001b[39m                                              \u001b[90m; preds = %L12, %top\u001b[39m\n",
      "  \u001b[0m%value_phi6 \u001b[0m= \u001b[96m\u001b[1mphi\u001b[22m\u001b[39m \u001b[36mi64\u001b[39m \u001b[33m[\u001b[39m \u001b[33m0\u001b[39m\u001b[0m, \u001b[91m%top\u001b[39m \u001b[33m]\u001b[39m\u001b[0m, \u001b[33m[\u001b[39m \u001b[0m%1\u001b[0m, \u001b[91m%L12\u001b[39m \u001b[33m]\u001b[39m\n",
      "  \u001b[96m\u001b[1mret\u001b[22m\u001b[39m \u001b[36mi64\u001b[39m \u001b[0m%value_phi6\n",
      "\u001b[33m}\u001b[39m\n"
     ]
    }
   ],
   "source": [
    "@code_llvm debuginfo=:none k(Int64, 10)"
   ]
  },
  {
   "cell_type": "code",
   "execution_count": 53,
   "metadata": {
    "slideshow": {
     "slide_type": "subslide"
    }
   },
   "outputs": [
    {
     "name": "stdout",
     "output_type": "stream",
     "text": [
      "\t\u001b[0m.text\n",
      "\t\u001b[96m\u001b[1mtestq\u001b[22m\u001b[39m\t\u001b[0m%rdi\u001b[0m, \u001b[0m%rdi\n",
      "\t\u001b[96m\u001b[1mjle\u001b[22m\u001b[39m\t\u001b[91mL38\u001b[39m\n",
      "\t\u001b[96m\u001b[1mmovq\u001b[22m\u001b[39m\t\u001b[0m%rdi\u001b[0m, \u001b[0m%rax\n",
      "\t\u001b[96m\u001b[1msarq\u001b[22m\u001b[39m\t\u001b[33m$63\u001b[39m\u001b[0m, \u001b[0m%rax\n",
      "\t\u001b[96m\u001b[1mandnq\u001b[22m\u001b[39m\t\u001b[0m%rdi\u001b[0m, \u001b[0m%rax\u001b[0m, \u001b[0m%rax\n",
      "\t\u001b[96m\u001b[1mmovq\u001b[22m\u001b[39m\t\u001b[0m%rax\u001b[0m, \u001b[0m%rcx\n",
      "\t\u001b[96m\u001b[1mnopw\u001b[22m\u001b[39m\t\u001b[0m%cs\u001b[0m:\u001b[33m(\u001b[39m\u001b[0m%rax\u001b[0m,\u001b[0m%rax\u001b[33m)\u001b[39m\n",
      "\u001b[91mL32:\u001b[39m\n",
      "\t\u001b[96m\u001b[1mdecq\u001b[22m\u001b[39m\t\u001b[0m%rcx\n",
      "\t\u001b[96m\u001b[1mjne\u001b[22m\u001b[39m\t\u001b[91mL32\u001b[39m\n",
      "\t\u001b[96m\u001b[1mretq\u001b[22m\u001b[39m\n",
      "\u001b[91mL38:\u001b[39m\n",
      "\t\u001b[96m\u001b[1mxorl\u001b[22m\u001b[39m\t\u001b[0m%eax\u001b[0m, \u001b[0m%eax\n",
      "\t\u001b[96m\u001b[1mretq\u001b[22m\u001b[39m\n",
      "\t\u001b[96m\u001b[1mnopl\u001b[22m\u001b[39m\t\u001b[33m(\u001b[39m\u001b[0m%rax\u001b[33m)\u001b[39m\n"
     ]
    }
   ],
   "source": [
    "@code_native debuginfo=:none  k(Int64, 10)"
   ]
  },
  {
   "cell_type": "code",
   "execution_count": 49,
   "metadata": {
    "slideshow": {
     "slide_type": "subslide"
    }
   },
   "outputs": [
    {
     "data": {
      "text/plain": [
       "m (generic function with 1 method)"
      ]
     },
     "execution_count": 49,
     "metadata": {},
     "output_type": "execute_result"
    }
   ],
   "source": [
    "function m(::Type{T}, N) where T\n",
    "    acc = zero(T)\n",
    "    for i in 1:N\n",
    "        acc += one(T)\n",
    "        escape(acc)\n",
    "    end\n",
    "    return acc\n",
    "end"
   ]
  },
  {
   "cell_type": "code",
   "execution_count": 54,
   "metadata": {
    "slideshow": {
     "slide_type": "subslide"
    }
   },
   "outputs": [
    {
     "name": "stdout",
     "output_type": "stream",
     "text": [
      "\u001b[95mdefine\u001b[39m \u001b[36mi64\u001b[39m \u001b[93m@julia_m_4634\u001b[39m\u001b[33m(\u001b[39m\u001b[36mi64\u001b[39m \u001b[95msignext\u001b[39m \u001b[0m%0\u001b[33m)\u001b[39m \u001b[0m#0 \u001b[33m{\u001b[39m\n",
      "\u001b[91mtop:\u001b[39m\n",
      "  \u001b[0m%.inv \u001b[0m= \u001b[96m\u001b[1micmp\u001b[22m\u001b[39m \u001b[96m\u001b[1msgt\u001b[22m\u001b[39m \u001b[36mi64\u001b[39m \u001b[0m%0\u001b[0m, \u001b[33m0\u001b[39m\n",
      "  \u001b[0m%1 \u001b[0m= \u001b[96m\u001b[1mselect\u001b[22m\u001b[39m \u001b[36mi1\u001b[39m \u001b[0m%.inv\u001b[0m, \u001b[36mi64\u001b[39m \u001b[0m%0\u001b[0m, \u001b[36mi64\u001b[39m \u001b[33m0\u001b[39m\n",
      "  \u001b[96m\u001b[1mbr\u001b[22m\u001b[39m \u001b[36mi1\u001b[39m \u001b[0m%.inv\u001b[0m, \u001b[36mlabel\u001b[39m \u001b[91m%L12\u001b[39m\u001b[0m, \u001b[36mlabel\u001b[39m \u001b[91m%L29\u001b[39m\n",
      "\n",
      "\u001b[91mL12:\u001b[39m                                              \u001b[90m; preds = %L12, %top\u001b[39m\n",
      "  \u001b[0m%value_phi2 \u001b[0m= \u001b[96m\u001b[1mphi\u001b[22m\u001b[39m \u001b[36mi64\u001b[39m \u001b[33m[\u001b[39m \u001b[0m%3\u001b[0m, \u001b[91m%L12\u001b[39m \u001b[33m]\u001b[39m\u001b[0m, \u001b[33m[\u001b[39m \u001b[33m1\u001b[39m\u001b[0m, \u001b[91m%top\u001b[39m \u001b[33m]\u001b[39m\n",
      "  \u001b[0m%value_phi3 \u001b[0m= \u001b[96m\u001b[1mphi\u001b[22m\u001b[39m \u001b[36mi64\u001b[39m \u001b[33m[\u001b[39m \u001b[0m%2\u001b[0m, \u001b[91m%L12\u001b[39m \u001b[33m]\u001b[39m\u001b[0m, \u001b[33m[\u001b[39m \u001b[33m0\u001b[39m\u001b[0m, \u001b[91m%top\u001b[39m \u001b[33m]\u001b[39m\n",
      "  \u001b[0m%2 \u001b[0m= \u001b[96m\u001b[1madd\u001b[22m\u001b[39m \u001b[95mnuw\u001b[39m \u001b[95mnsw\u001b[39m \u001b[36mi64\u001b[39m \u001b[0m%value_phi3\u001b[0m, \u001b[33m1\u001b[39m\n",
      "  \u001b[96m\u001b[1mcall\u001b[22m\u001b[39m \u001b[36mvoid\u001b[39m \u001b[95masm\u001b[39m \u001b[95msideeffect\u001b[39m \u001b[0m\"\"\u001b[0m, \u001b[0m\"X,~{memory}\"\u001b[33m(\u001b[39m\u001b[36mi64\u001b[39m \u001b[0m%2\u001b[33m)\u001b[39m \u001b[0m#2\n",
      "  \u001b[0m%.not \u001b[0m= \u001b[96m\u001b[1micmp\u001b[22m\u001b[39m \u001b[96m\u001b[1meq\u001b[22m\u001b[39m \u001b[36mi64\u001b[39m \u001b[0m%value_phi2\u001b[0m, \u001b[0m%1\n",
      "  \u001b[0m%3 \u001b[0m= \u001b[96m\u001b[1madd\u001b[22m\u001b[39m \u001b[95mnuw\u001b[39m \u001b[36mi64\u001b[39m \u001b[0m%value_phi2\u001b[0m, \u001b[33m1\u001b[39m\n",
      "  \u001b[96m\u001b[1mbr\u001b[22m\u001b[39m \u001b[36mi1\u001b[39m \u001b[0m%.not\u001b[0m, \u001b[36mlabel\u001b[39m \u001b[91m%L29\u001b[39m\u001b[0m, \u001b[36mlabel\u001b[39m \u001b[91m%L12\u001b[39m\n",
      "\n",
      "\u001b[91mL29:\u001b[39m                                              \u001b[90m; preds = %L12, %top\u001b[39m\n",
      "  \u001b[0m%value_phi6 \u001b[0m= \u001b[96m\u001b[1mphi\u001b[22m\u001b[39m \u001b[36mi64\u001b[39m \u001b[33m[\u001b[39m \u001b[33m0\u001b[39m\u001b[0m, \u001b[91m%top\u001b[39m \u001b[33m]\u001b[39m\u001b[0m, \u001b[33m[\u001b[39m \u001b[0m%2\u001b[0m, \u001b[91m%L12\u001b[39m \u001b[33m]\u001b[39m\n",
      "  \u001b[96m\u001b[1mret\u001b[22m\u001b[39m \u001b[36mi64\u001b[39m \u001b[0m%value_phi6\n",
      "\u001b[33m}\u001b[39m\n"
     ]
    }
   ],
   "source": [
    "@code_llvm debuginfo=:none m(Int64, 30)"
   ]
  },
  {
   "cell_type": "code",
   "execution_count": 36,
   "metadata": {
    "slideshow": {
     "slide_type": "subslide"
    }
   },
   "outputs": [
    {
     "data": {
      "text/plain": [
       "BenchmarkTools.Trial: 199 samples with 1 evaluation.\n",
       " Range \u001b[90m(\u001b[39m\u001b[36m\u001b[1mmin\u001b[22m\u001b[39m … \u001b[35mmax\u001b[39m\u001b[90m):  \u001b[39m\u001b[36m\u001b[1m24.708 ms\u001b[22m\u001b[39m … \u001b[35m46.069 ms\u001b[39m  \u001b[90m┊\u001b[39m GC \u001b[90m(\u001b[39mmin … max\u001b[90m): \u001b[39m0.00% … 0.00%\n",
       " Time  \u001b[90m(\u001b[39m\u001b[34m\u001b[1mmedian\u001b[22m\u001b[39m\u001b[90m):     \u001b[39m\u001b[34m\u001b[1m25.011 ms              \u001b[22m\u001b[39m\u001b[90m┊\u001b[39m GC \u001b[90m(\u001b[39mmedian\u001b[90m):    \u001b[39m0.00%\n",
       " Time  \u001b[90m(\u001b[39m\u001b[32m\u001b[1mmean\u001b[22m\u001b[39m ± \u001b[32mσ\u001b[39m\u001b[90m):   \u001b[39m\u001b[32m\u001b[1m25.232 ms\u001b[22m\u001b[39m ± \u001b[32m 1.643 ms\u001b[39m  \u001b[90m┊\u001b[39m GC \u001b[90m(\u001b[39mmean ± σ\u001b[90m):  \u001b[39m0.00% ± 0.00%\n",
       "\n",
       "  \u001b[39m▃\u001b[39m \u001b[39m█\u001b[34m▄\u001b[39m\u001b[39m▃\u001b[32m \u001b[39m\u001b[39m \u001b[39m \u001b[39m \u001b[39m \u001b[39m \u001b[39m \u001b[39m \u001b[39m \u001b[39m \u001b[39m \u001b[39m \u001b[39m \u001b[39m \u001b[39m \u001b[39m \u001b[39m \u001b[39m \u001b[39m \u001b[39m \u001b[39m \u001b[39m \u001b[39m \u001b[39m \u001b[39m \u001b[39m \u001b[39m \u001b[39m \u001b[39m \u001b[39m \u001b[39m \u001b[39m \u001b[39m \u001b[39m \u001b[39m \u001b[39m \u001b[39m \u001b[39m \u001b[39m \u001b[39m \u001b[39m \u001b[39m \u001b[39m \u001b[39m \u001b[39m \u001b[39m \u001b[39m \u001b[39m \u001b[39m \u001b[39m \u001b[39m \u001b[39m \u001b[39m \u001b[39m \u001b[39m \u001b[39m \n",
       "  \u001b[39m█\u001b[39m█\u001b[39m█\u001b[34m█\u001b[39m\u001b[39m█\u001b[32m▅\u001b[39m\u001b[39m▆\u001b[39m▄\u001b[39m▂\u001b[39m▁\u001b[39m▄\u001b[39m▃\u001b[39m▂\u001b[39m▁\u001b[39m▁\u001b[39m▁\u001b[39m▁\u001b[39m▁\u001b[39m▁\u001b[39m▁\u001b[39m▁\u001b[39m▂\u001b[39m▁\u001b[39m▁\u001b[39m▁\u001b[39m▁\u001b[39m▁\u001b[39m▁\u001b[39m▁\u001b[39m▁\u001b[39m▁\u001b[39m▁\u001b[39m▁\u001b[39m▁\u001b[39m▁\u001b[39m▁\u001b[39m▁\u001b[39m▁\u001b[39m▁\u001b[39m▁\u001b[39m▁\u001b[39m▁\u001b[39m▂\u001b[39m▁\u001b[39m▁\u001b[39m▁\u001b[39m▁\u001b[39m▁\u001b[39m▁\u001b[39m▁\u001b[39m▁\u001b[39m▁\u001b[39m▁\u001b[39m▁\u001b[39m▁\u001b[39m▁\u001b[39m▁\u001b[39m▁\u001b[39m▂\u001b[39m \u001b[39m▂\n",
       "  24.7 ms\u001b[90m         Histogram: frequency by time\u001b[39m        30.3 ms \u001b[0m\u001b[1m<\u001b[22m\n",
       "\n",
       " Memory estimate\u001b[90m: \u001b[39m\u001b[33m32 bytes\u001b[39m, allocs estimate\u001b[90m: \u001b[39m\u001b[33m2\u001b[39m."
      ]
     },
     "execution_count": 36,
     "metadata": {},
     "output_type": "execute_result"
    }
   ],
   "source": [
    "result2 = @benchmark m($Int64, $N)"
   ]
  },
  {
   "cell_type": "code",
   "execution_count": 37,
   "metadata": {
    "slideshow": {
     "slide_type": "subslide"
    }
   },
   "outputs": [
    {
     "data": {
      "text/plain": [
       "BenchmarkTools.Trial: 20 samples with 1 evaluation.\n",
       " Range \u001b[90m(\u001b[39m\u001b[36m\u001b[1mmin\u001b[22m\u001b[39m … \u001b[35mmax\u001b[39m\u001b[90m):  \u001b[39m\u001b[36m\u001b[1m248.565 ms\u001b[22m\u001b[39m … \u001b[35m261.804 ms\u001b[39m  \u001b[90m┊\u001b[39m GC \u001b[90m(\u001b[39mmin … max\u001b[90m): \u001b[39m0.00% … 0.00%\n",
       " Time  \u001b[90m(\u001b[39m\u001b[34m\u001b[1mmedian\u001b[22m\u001b[39m\u001b[90m):     \u001b[39m\u001b[34m\u001b[1m249.763 ms               \u001b[22m\u001b[39m\u001b[90m┊\u001b[39m GC \u001b[90m(\u001b[39mmedian\u001b[90m):    \u001b[39m0.00%\n",
       " Time  \u001b[90m(\u001b[39m\u001b[32m\u001b[1mmean\u001b[22m\u001b[39m ± \u001b[32mσ\u001b[39m\u001b[90m):   \u001b[39m\u001b[32m\u001b[1m251.196 ms\u001b[22m\u001b[39m ± \u001b[32m  3.736 ms\u001b[39m  \u001b[90m┊\u001b[39m GC \u001b[90m(\u001b[39mmean ± σ\u001b[90m):  \u001b[39m0.00% ± 0.00%\n",
       "\n",
       "  \u001b[39m█\u001b[39m \u001b[39m▁\u001b[39m \u001b[39m \u001b[34m▁\u001b[39m\u001b[39m▁\u001b[39m▁\u001b[39m \u001b[39m \u001b[39m \u001b[39m \u001b[32m \u001b[39m\u001b[39m \u001b[39m \u001b[39m \u001b[39m \u001b[39m \u001b[39m \u001b[39m \u001b[39m \u001b[39m \u001b[39m \u001b[39m \u001b[39m \u001b[39m \u001b[39m \u001b[39m \u001b[39m \u001b[39m \u001b[39m \u001b[39m \u001b[39m \u001b[39m \u001b[39m \u001b[39m \u001b[39m \u001b[39m \u001b[39m \u001b[39m \u001b[39m \u001b[39m \u001b[39m \u001b[39m \u001b[39m \u001b[39m \u001b[39m \u001b[39m \u001b[39m \u001b[39m \u001b[39m \u001b[39m \u001b[39m \u001b[39m \u001b[39m \u001b[39m \u001b[39m \u001b[39m \u001b[39m \u001b[39m \u001b[39m \u001b[39m \u001b[39m \n",
       "  \u001b[39m█\u001b[39m▆\u001b[39m█\u001b[39m▆\u001b[39m▆\u001b[34m█\u001b[39m\u001b[39m█\u001b[39m█\u001b[39m▁\u001b[39m▁\u001b[39m▁\u001b[39m▁\u001b[32m▁\u001b[39m\u001b[39m▁\u001b[39m▁\u001b[39m▁\u001b[39m▁\u001b[39m▁\u001b[39m▁\u001b[39m▁\u001b[39m▁\u001b[39m▁\u001b[39m▆\u001b[39m▁\u001b[39m▁\u001b[39m▁\u001b[39m▆\u001b[39m▆\u001b[39m▁\u001b[39m▁\u001b[39m▁\u001b[39m▁\u001b[39m▁\u001b[39m▁\u001b[39m▁\u001b[39m▁\u001b[39m▁\u001b[39m▁\u001b[39m▁\u001b[39m▁\u001b[39m▁\u001b[39m▁\u001b[39m▁\u001b[39m▁\u001b[39m▁\u001b[39m▁\u001b[39m▁\u001b[39m▁\u001b[39m▁\u001b[39m▁\u001b[39m▆\u001b[39m▁\u001b[39m▁\u001b[39m▁\u001b[39m▁\u001b[39m▁\u001b[39m▁\u001b[39m▁\u001b[39m▁\u001b[39m▁\u001b[39m▆\u001b[39m \u001b[39m▁\n",
       "  249 ms\u001b[90m           Histogram: frequency by time\u001b[39m          262 ms \u001b[0m\u001b[1m<\u001b[22m\n",
       "\n",
       " Memory estimate\u001b[90m: \u001b[39m\u001b[33m32 bytes\u001b[39m, allocs estimate\u001b[90m: \u001b[39m\u001b[33m2\u001b[39m."
      ]
     },
     "execution_count": 37,
     "metadata": {},
     "output_type": "execute_result"
    }
   ],
   "source": [
    "@benchmark m($Int64, $(N*10))"
   ]
  },
  {
   "cell_type": "code",
   "execution_count": 38,
   "metadata": {
    "slideshow": {
     "slide_type": "subslide"
    }
   },
   "outputs": [
    {
     "data": {
      "text/plain": [
       "4.047241671242073 GHz"
      ]
     },
     "execution_count": 38,
     "metadata": {},
     "output_type": "execute_result"
    }
   ],
   "source": [
    "t = time(minimum(result2)) * u\"ns\" # in ns\n",
    "pFreq = N/t |> u\"GHz\""
   ]
  },
  {
   "cell_type": "markdown",
   "metadata": {
    "slideshow": {
     "slide_type": "fragment"
    }
   },
   "source": [
    "Pfff, this makes sense, 4 GHz is much closer to the frequency of my actual processor \n",
    "\n",
    "Note: Benchmarking is hard, careful evalutaion of *what* you are trying to benchmark.\n",
    "\n",
    "- If we were just interesting in how fast `f(N)` was we would have been fine with our first measurement\n",
    "- But we were interested in the speed of addition as a proxy of perfromance\n",
    "- Integer math on a computer is associative, Floating-Point math is not."
   ]
  },
  {
   "cell_type": "markdown",
   "metadata": {
    "slideshow": {
     "slide_type": "slide"
    }
   },
   "source": [
    "## Coming back to `h`\n",
    "    \n",
    "```julia\n",
    "function h(N)\n",
    "    acc = 0.0\n",
    "    for i in 1:N\n",
    "        acc += 1.0\n",
    "    end\n",
    "    acc\n",
    "end\n",
    "```"
   ]
  },
  {
   "cell_type": "code",
   "execution_count": 55,
   "metadata": {
    "slideshow": {
     "slide_type": "subslide"
    }
   },
   "outputs": [
    {
     "data": {
      "text/plain": [
       "BenchmarkTools.Trial: 68 samples with 1 evaluation.\n",
       " Range \u001b[90m(\u001b[39m\u001b[36m\u001b[1mmin\u001b[22m\u001b[39m … \u001b[35mmax\u001b[39m\u001b[90m):  \u001b[39m\u001b[36m\u001b[1m74.130 ms\u001b[22m\u001b[39m … \u001b[35m74.243 ms\u001b[39m  \u001b[90m┊\u001b[39m GC \u001b[90m(\u001b[39mmin … max\u001b[90m): \u001b[39m0.00% … 0.00%\n",
       " Time  \u001b[90m(\u001b[39m\u001b[34m\u001b[1mmedian\u001b[22m\u001b[39m\u001b[90m):     \u001b[39m\u001b[34m\u001b[1m74.177 ms              \u001b[22m\u001b[39m\u001b[90m┊\u001b[39m GC \u001b[90m(\u001b[39mmedian\u001b[90m):    \u001b[39m0.00%\n",
       " Time  \u001b[90m(\u001b[39m\u001b[32m\u001b[1mmean\u001b[22m\u001b[39m ± \u001b[32mσ\u001b[39m\u001b[90m):   \u001b[39m\u001b[32m\u001b[1m74.179 ms\u001b[22m\u001b[39m ± \u001b[32m28.005 μs\u001b[39m  \u001b[90m┊\u001b[39m GC \u001b[90m(\u001b[39mmean ± σ\u001b[90m):  \u001b[39m0.00% ± 0.00%\n",
       "\n",
       "  \u001b[39m \u001b[39m \u001b[39m \u001b[39m \u001b[39m \u001b[39m \u001b[39m \u001b[39m \u001b[39m▃\u001b[39m \u001b[39m█\u001b[39m \u001b[39m \u001b[39m▃\u001b[39m▃\u001b[39m \u001b[39m▃\u001b[39m \u001b[39m█\u001b[39m \u001b[39m▃\u001b[39m \u001b[39m█\u001b[39m \u001b[39m▃\u001b[39m▃\u001b[34m \u001b[39m\u001b[39m \u001b[32m \u001b[39m\u001b[39m \u001b[39m▃\u001b[39m \u001b[39m \u001b[39m█\u001b[39m \u001b[39m \u001b[39m█\u001b[39m█\u001b[39m \u001b[39m▃\u001b[39m \u001b[39m▃\u001b[39m▃\u001b[39m \u001b[39m \u001b[39m▃\u001b[39m \u001b[39m \u001b[39m \u001b[39m \u001b[39m \u001b[39m \u001b[39m█\u001b[39m \u001b[39m \u001b[39m \u001b[39m \u001b[39m \u001b[39m \u001b[39m \u001b[39m \n",
       "  \u001b[39m▇\u001b[39m▇\u001b[39m▇\u001b[39m▇\u001b[39m▇\u001b[39m▇\u001b[39m▇\u001b[39m▁\u001b[39m█\u001b[39m▁\u001b[39m█\u001b[39m▁\u001b[39m▇\u001b[39m█\u001b[39m█\u001b[39m▇\u001b[39m█\u001b[39m▇\u001b[39m█\u001b[39m▁\u001b[39m█\u001b[39m▇\u001b[39m█\u001b[39m▁\u001b[39m█\u001b[39m█\u001b[34m▁\u001b[39m\u001b[39m▇\u001b[32m▁\u001b[39m\u001b[39m▇\u001b[39m█\u001b[39m▇\u001b[39m▇\u001b[39m█\u001b[39m▁\u001b[39m▁\u001b[39m█\u001b[39m█\u001b[39m▇\u001b[39m█\u001b[39m▇\u001b[39m█\u001b[39m█\u001b[39m▇\u001b[39m▁\u001b[39m█\u001b[39m▁\u001b[39m▇\u001b[39m▁\u001b[39m▁\u001b[39m▁\u001b[39m▇\u001b[39m█\u001b[39m▇\u001b[39m▁\u001b[39m▁\u001b[39m▁\u001b[39m▁\u001b[39m▇\u001b[39m \u001b[39m▁\n",
       "  74.1 ms\u001b[90m         Histogram: frequency by time\u001b[39m        74.2 ms \u001b[0m\u001b[1m<\u001b[22m\n",
       "\n",
       " Memory estimate\u001b[90m: \u001b[39m\u001b[33m0 bytes\u001b[39m, allocs estimate\u001b[90m: \u001b[39m\u001b[33m0\u001b[39m."
      ]
     },
     "execution_count": 55,
     "metadata": {},
     "output_type": "execute_result"
    }
   ],
   "source": [
    "@benchmark h($N)"
   ]
  },
  {
   "cell_type": "code",
   "execution_count": 56,
   "metadata": {
    "slideshow": {
     "slide_type": "subslide"
    }
   },
   "outputs": [
    {
     "data": {
      "text/plain": [
       "l (generic function with 1 method)"
      ]
     },
     "execution_count": 56,
     "metadata": {},
     "output_type": "execute_result"
    }
   ],
   "source": [
    "function l(N)\n",
    "    acc = 0.0\n",
    "    @simd for i in 1:N\n",
    "        acc += 1.0\n",
    "    end\n",
    "    acc\n",
    "end"
   ]
  },
  {
   "cell_type": "code",
   "execution_count": 57,
   "metadata": {
    "scrolled": true,
    "slideshow": {
     "slide_type": "subslide"
    }
   },
   "outputs": [
    {
     "data": {
      "text/plain": [
       "BenchmarkTools.Trial: 1069 samples with 1 evaluation.\n",
       " Range \u001b[90m(\u001b[39m\u001b[36m\u001b[1mmin\u001b[22m\u001b[39m … \u001b[35mmax\u001b[39m\u001b[90m):  \u001b[39m\u001b[36m\u001b[1m4.631 ms\u001b[22m\u001b[39m … \u001b[35m 5.352 ms\u001b[39m  \u001b[90m┊\u001b[39m GC \u001b[90m(\u001b[39mmin … max\u001b[90m): \u001b[39m0.00% … 0.00%\n",
       " Time  \u001b[90m(\u001b[39m\u001b[34m\u001b[1mmedian\u001b[22m\u001b[39m\u001b[90m):     \u001b[39m\u001b[34m\u001b[1m4.642 ms              \u001b[22m\u001b[39m\u001b[90m┊\u001b[39m GC \u001b[90m(\u001b[39mmedian\u001b[90m):    \u001b[39m0.00%\n",
       " Time  \u001b[90m(\u001b[39m\u001b[32m\u001b[1mmean\u001b[22m\u001b[39m ± \u001b[32mσ\u001b[39m\u001b[90m):   \u001b[39m\u001b[32m\u001b[1m4.674 ms\u001b[22m\u001b[39m ± \u001b[32m64.570 μs\u001b[39m  \u001b[90m┊\u001b[39m GC \u001b[90m(\u001b[39mmean ± σ\u001b[90m):  \u001b[39m0.00% ± 0.00%\n",
       "\n",
       "  \u001b[39m█\u001b[39m▇\u001b[39m▅\u001b[34m▄\u001b[39m\u001b[39m▃\u001b[39m▁\u001b[39m \u001b[39m \u001b[39m \u001b[39m \u001b[32m▁\u001b[39m\u001b[39m▂\u001b[39m▃\u001b[39m▂\u001b[39m▁\u001b[39m▁\u001b[39m \u001b[39m▁\u001b[39m \u001b[39m \u001b[39m \u001b[39m \u001b[39m \u001b[39m \u001b[39m \u001b[39m \u001b[39m▁\u001b[39m \u001b[39m▁\u001b[39m \u001b[39m \u001b[39m \u001b[39m \u001b[39m \u001b[39m \u001b[39m \u001b[39m \u001b[39m \u001b[39m \u001b[39m \u001b[39m \u001b[39m \u001b[39m \u001b[39m \u001b[39m \u001b[39m \u001b[39m \u001b[39m \u001b[39m \u001b[39m \u001b[39m \u001b[39m \u001b[39m \u001b[39m \u001b[39m \u001b[39m \u001b[39m \u001b[39m \u001b[39m \u001b[39m \n",
       "  \u001b[39m█\u001b[39m█\u001b[39m█\u001b[34m█\u001b[39m\u001b[39m█\u001b[39m█\u001b[39m█\u001b[39m▅\u001b[39m▇\u001b[39m█\u001b[32m█\u001b[39m\u001b[39m█\u001b[39m█\u001b[39m█\u001b[39m█\u001b[39m█\u001b[39m█\u001b[39m█\u001b[39m█\u001b[39m▇\u001b[39m█\u001b[39m█\u001b[39m█\u001b[39m█\u001b[39m▇\u001b[39m█\u001b[39m█\u001b[39m▆\u001b[39m█\u001b[39m█\u001b[39m█\u001b[39m▆\u001b[39m█\u001b[39m▇\u001b[39m▇\u001b[39m▆\u001b[39m▄\u001b[39m▅\u001b[39m▆\u001b[39m▅\u001b[39m▄\u001b[39m▅\u001b[39m▆\u001b[39m▁\u001b[39m▅\u001b[39m▅\u001b[39m▄\u001b[39m▁\u001b[39m▄\u001b[39m▅\u001b[39m▅\u001b[39m▆\u001b[39m▅\u001b[39m▆\u001b[39m▅\u001b[39m▅\u001b[39m▅\u001b[39m▅\u001b[39m \u001b[39m█\n",
       "  4.63 ms\u001b[90m      \u001b[39m\u001b[90mHistogram: \u001b[39m\u001b[90m\u001b[1mlog(\u001b[22m\u001b[39m\u001b[90mfrequency\u001b[39m\u001b[90m\u001b[1m)\u001b[22m\u001b[39m\u001b[90m by time\u001b[39m     4.87 ms \u001b[0m\u001b[1m<\u001b[22m\n",
       "\n",
       " Memory estimate\u001b[90m: \u001b[39m\u001b[33m0 bytes\u001b[39m, allocs estimate\u001b[90m: \u001b[39m\u001b[33m0\u001b[39m."
      ]
     },
     "execution_count": 57,
     "metadata": {},
     "output_type": "execute_result"
    }
   ],
   "source": [
    "@benchmark l($(N))"
   ]
  },
  {
   "cell_type": "markdown",
   "metadata": {
    "slideshow": {
     "slide_type": "subslide"
    }
   },
   "source": [
    "# Performance annotiations in Julia\n",
    "\n",
    "- https://docs.julialang.org/en/v1/manual/performance-tips/\n",
    "- Julia does bounds checking by default `ones(10)[11]` is an error\n",
    "- `@inbounds` Turns of bounds-checking locally\n",
    "- `@fastmath` Turns of strict IEEE749 locally -- be very careful this might not to what you want\n",
    "- `@simd` and `@simd ivdep` stronger gurantuees to encourage LLVM to use SIMD operations"
   ]
  },
  {
   "cell_type": "code",
   "execution_count": 39,
   "metadata": {
    "slideshow": {
     "slide_type": "subslide"
    }
   },
   "outputs": [
    {
     "data": {
      "text/latex": [
       "\\begin{verbatim}\n",
       "@simd\n",
       "\\end{verbatim}\n",
       "Annotate a \\texttt{for} loop to allow the compiler to take extra liberties to allow loop re-ordering\n",
       "\n",
       "\\begin{quote}\n",
       "\\textbf{warning}\n",
       "\n",
       "Warning\n",
       "\n",
       "This feature is experimental and could change or disappear in future versions of Julia. Incorrect use of the \\texttt{@simd} macro may cause unexpected results.\n",
       "\n",
       "\\end{quote}\n",
       "The object iterated over in a \\texttt{@simd for} loop should be a one-dimensional range. By using \\texttt{@simd}, you are asserting several properties of the loop:\n",
       "\n",
       "\\begin{itemize}\n",
       "\\item It is safe to execute iterations in arbitrary or overlapping order, with special consideration for reduction variables.\n",
       "\n",
       "\n",
       "\\item Floating-point operations on reduction variables can be reordered, possibly causing different results than without \\texttt{@simd}.\n",
       "\n",
       "\\end{itemize}\n",
       "In many cases, Julia is able to automatically vectorize inner for loops without the use of \\texttt{@simd}. Using \\texttt{@simd} gives the compiler a little extra leeway to make it possible in more situations. In either case, your inner loop should have the following properties to allow vectorization:\n",
       "\n",
       "\\begin{itemize}\n",
       "\\item The loop must be an innermost loop\n",
       "\n",
       "\n",
       "\\item The loop body must be straight-line code. Therefore, \\href{@ref}{\\texttt{@inbounds}} is   currently needed for all array accesses. The compiler can sometimes turn   short \\texttt{\\&\\&}, \\texttt{||}, and \\texttt{?:} expressions into straight-line code if it is safe   to evaluate all operands unconditionally. Consider using the \\href{@ref}{\\texttt{ifelse}}   function instead of \\texttt{?:} in the loop if it is safe to do so.\n",
       "\n",
       "\n",
       "\\item Accesses must have a stride pattern and cannot be \"gathers\" (random-index   reads) or \"scatters\" (random-index writes).\n",
       "\n",
       "\n",
       "\\item The stride should be unit stride.\n",
       "\n",
       "\\end{itemize}\n",
       "\\begin{quote}\n",
       "\\textbf{note}\n",
       "\n",
       "Note\n",
       "\n",
       "The \\texttt{@simd} does not assert by default that the loop is completely free of loop-carried memory dependencies, which is an assumption that can easily be violated in generic code. If you are writing non-generic code, you can use \\texttt{@simd ivdep for ... end} to also assert that:\n",
       "\n",
       "\\end{quote}\n",
       "\\begin{itemize}\n",
       "\\item There exists no loop-carried memory dependencies\n",
       "\n",
       "\n",
       "\\item No iteration ever waits on a previous iteration to make forward progress.\n",
       "\n",
       "\\end{itemize}\n"
      ],
      "text/markdown": [
       "```\n",
       "@simd\n",
       "```\n",
       "\n",
       "Annotate a `for` loop to allow the compiler to take extra liberties to allow loop re-ordering\n",
       "\n",
       "!!! warning\n",
       "    This feature is experimental and could change or disappear in future versions of Julia. Incorrect use of the `@simd` macro may cause unexpected results.\n",
       "\n",
       "\n",
       "The object iterated over in a `@simd for` loop should be a one-dimensional range. By using `@simd`, you are asserting several properties of the loop:\n",
       "\n",
       "  * It is safe to execute iterations in arbitrary or overlapping order, with special consideration for reduction variables.\n",
       "  * Floating-point operations on reduction variables can be reordered, possibly causing different results than without `@simd`.\n",
       "\n",
       "In many cases, Julia is able to automatically vectorize inner for loops without the use of `@simd`. Using `@simd` gives the compiler a little extra leeway to make it possible in more situations. In either case, your inner loop should have the following properties to allow vectorization:\n",
       "\n",
       "  * The loop must be an innermost loop\n",
       "  * The loop body must be straight-line code. Therefore, [`@inbounds`](@ref) is   currently needed for all array accesses. The compiler can sometimes turn   short `&&`, `||`, and `?:` expressions into straight-line code if it is safe   to evaluate all operands unconditionally. Consider using the [`ifelse`](@ref)   function instead of `?:` in the loop if it is safe to do so.\n",
       "  * Accesses must have a stride pattern and cannot be \"gathers\" (random-index   reads) or \"scatters\" (random-index writes).\n",
       "  * The stride should be unit stride.\n",
       "\n",
       "!!! note\n",
       "    The `@simd` does not assert by default that the loop is completely free of loop-carried memory dependencies, which is an assumption that can easily be violated in generic code. If you are writing non-generic code, you can use `@simd ivdep for ... end` to also assert that:\n",
       "\n",
       "\n",
       "  * There exists no loop-carried memory dependencies\n",
       "  * No iteration ever waits on a previous iteration to make forward progress.\n"
      ],
      "text/plain": [
       "\u001b[36m  @simd\u001b[39m\n",
       "\n",
       "  Annotate a \u001b[36mfor\u001b[39m loop to allow the compiler to take extra liberties to allow\n",
       "  loop re-ordering\n",
       "\n",
       "\u001b[33m\u001b[1m  │ \u001b[22m\u001b[39m\u001b[33m\u001b[1mWarning\u001b[22m\u001b[39m\n",
       "\u001b[33m\u001b[1m  │\u001b[22m\u001b[39m\n",
       "\u001b[33m\u001b[1m  │\u001b[22m\u001b[39m  This feature is experimental and could change or disappear in\n",
       "\u001b[33m\u001b[1m  │\u001b[22m\u001b[39m  future versions of Julia. Incorrect use of the \u001b[36m@simd\u001b[39m macro may\n",
       "\u001b[33m\u001b[1m  │\u001b[22m\u001b[39m  cause unexpected results.\n",
       "\n",
       "  The object iterated over in a \u001b[36m@simd for\u001b[39m loop should be a one-dimensional\n",
       "  range. By using \u001b[36m@simd\u001b[39m, you are asserting several properties of the loop:\n",
       "\n",
       "    •  It is safe to execute iterations in arbitrary or overlapping\n",
       "       order, with special consideration for reduction variables.\n",
       "\n",
       "    •  Floating-point operations on reduction variables can be reordered,\n",
       "       possibly causing different results than without \u001b[36m@simd\u001b[39m.\n",
       "\n",
       "  In many cases, Julia is able to automatically vectorize inner for loops\n",
       "  without the use of \u001b[36m@simd\u001b[39m. Using \u001b[36m@simd\u001b[39m gives the compiler a little extra\n",
       "  leeway to make it possible in more situations. In either case, your inner\n",
       "  loop should have the following properties to allow vectorization:\n",
       "\n",
       "    •  The loop must be an innermost loop\n",
       "\n",
       "    •  The loop body must be straight-line code. Therefore, \u001b[36m@inbounds\u001b[39m is\n",
       "       currently needed for all array accesses. The compiler can\n",
       "       sometimes turn short \u001b[36m&&\u001b[39m, \u001b[36m||\u001b[39m, and \u001b[36m?:\u001b[39m expressions into straight-line\n",
       "       code if it is safe to evaluate all operands unconditionally.\n",
       "       Consider using the \u001b[36mifelse\u001b[39m function instead of \u001b[36m?:\u001b[39m in the loop if it\n",
       "       is safe to do so.\n",
       "\n",
       "    •  Accesses must have a stride pattern and cannot be \"gathers\"\n",
       "       (random-index reads) or \"scatters\" (random-index writes).\n",
       "\n",
       "    •  The stride should be unit stride.\n",
       "\n",
       "\u001b[36m\u001b[1m  │ \u001b[22m\u001b[39m\u001b[36m\u001b[1mNote\u001b[22m\u001b[39m\n",
       "\u001b[36m\u001b[1m  │\u001b[22m\u001b[39m\n",
       "\u001b[36m\u001b[1m  │\u001b[22m\u001b[39m  The \u001b[36m@simd\u001b[39m does not assert by default that the loop is completely\n",
       "\u001b[36m\u001b[1m  │\u001b[22m\u001b[39m  free of loop-carried memory dependencies, which is an assumption\n",
       "\u001b[36m\u001b[1m  │\u001b[22m\u001b[39m  that can easily be violated in generic code. If you are writing\n",
       "\u001b[36m\u001b[1m  │\u001b[22m\u001b[39m  non-generic code, you can use \u001b[36m@simd ivdep for ... end\u001b[39m to also\n",
       "\u001b[36m\u001b[1m  │\u001b[22m\u001b[39m  assert that:\n",
       "\n",
       "    •  There exists no loop-carried memory dependencies\n",
       "\n",
       "    •  No iteration ever waits on a previous iteration to make forward\n",
       "       progress."
      ]
     },
     "execution_count": 39,
     "metadata": {},
     "output_type": "execute_result"
    }
   ],
   "source": [
    "?@simd"
   ]
  },
  {
   "cell_type": "code",
   "execution_count": 59,
   "metadata": {},
   "outputs": [
    {
     "name": "stdout",
     "output_type": "stream",
     "text": [
      "\u001b[95mdefine\u001b[39m \u001b[36mdouble\u001b[39m \u001b[93m@julia_l_4677\u001b[39m\u001b[33m(\u001b[39m\u001b[36mi64\u001b[39m \u001b[95msignext\u001b[39m \u001b[0m%0\u001b[33m)\u001b[39m \u001b[0m#0 \u001b[33m{\u001b[39m\n",
      "\u001b[91mtop:\u001b[39m\n",
      "  \u001b[0m%.inv \u001b[0m= \u001b[96m\u001b[1micmp\u001b[22m\u001b[39m \u001b[96m\u001b[1msgt\u001b[22m\u001b[39m \u001b[36mi64\u001b[39m \u001b[0m%0\u001b[0m, \u001b[33m0\u001b[39m\n",
      "  \u001b[0m%1 \u001b[0m= \u001b[96m\u001b[1mselect\u001b[22m\u001b[39m \u001b[36mi1\u001b[39m \u001b[0m%.inv\u001b[0m, \u001b[36mi64\u001b[39m \u001b[0m%0\u001b[0m, \u001b[36mi64\u001b[39m \u001b[33m0\u001b[39m\n",
      "  \u001b[96m\u001b[1mbr\u001b[22m\u001b[39m \u001b[36mi1\u001b[39m \u001b[0m%.inv\u001b[0m, \u001b[36mlabel\u001b[39m \u001b[91m%L14.preheader\u001b[39m\u001b[0m, \u001b[36mlabel\u001b[39m \u001b[91m%L38\u001b[39m\n",
      "\n",
      "\u001b[91mL14.preheader:\u001b[39m                                    \u001b[90m; preds = %top\u001b[39m\n",
      "  \u001b[0m%min.iters.check \u001b[0m= \u001b[96m\u001b[1micmp\u001b[22m\u001b[39m \u001b[96m\u001b[1mult\u001b[22m\u001b[39m \u001b[36mi64\u001b[39m \u001b[0m%1\u001b[0m, \u001b[33m16\u001b[39m\n",
      "  \u001b[96m\u001b[1mbr\u001b[22m\u001b[39m \u001b[36mi1\u001b[39m \u001b[0m%min.iters.check\u001b[0m, \u001b[36mlabel\u001b[39m \u001b[91m%L14\u001b[39m\u001b[0m, \u001b[36mlabel\u001b[39m \u001b[91m%vector.ph\u001b[39m\n",
      "\n",
      "\u001b[91mvector.ph:\u001b[39m                                        \u001b[90m; preds = %L14.preheader\u001b[39m\n",
      "  \u001b[0m%n.vec \u001b[0m= \u001b[96m\u001b[1mand\u001b[22m\u001b[39m \u001b[36mi64\u001b[39m \u001b[0m%1\u001b[0m, \u001b[33m9223372036854775792\u001b[39m\n",
      "  \u001b[96m\u001b[1mbr\u001b[22m\u001b[39m \u001b[36mlabel\u001b[39m \u001b[91m%vector.body\u001b[39m\n",
      "\n",
      "\u001b[91mvector.body:\u001b[39m                                      \u001b[90m; preds = %vector.body, %vector.ph\u001b[39m\n",
      "  \u001b[0m%index \u001b[0m= \u001b[96m\u001b[1mphi\u001b[22m\u001b[39m \u001b[36mi64\u001b[39m \u001b[33m[\u001b[39m \u001b[33m0\u001b[39m\u001b[0m, \u001b[91m%vector.ph\u001b[39m \u001b[33m]\u001b[39m\u001b[0m, \u001b[33m[\u001b[39m \u001b[0m%index.next\u001b[0m, \u001b[91m%vector.body\u001b[39m \u001b[33m]\u001b[39m\n",
      "  \u001b[0m%vec.phi \u001b[0m= \u001b[96m\u001b[1mphi\u001b[22m\u001b[39m \u001b[33m<\u001b[39m\u001b[33m4\u001b[39m \u001b[0mx \u001b[36mdouble\u001b[39m\u001b[33m>\u001b[39m \u001b[33m[\u001b[39m \u001b[95mzeroinitializer\u001b[39m\u001b[0m, \u001b[91m%vector.ph\u001b[39m \u001b[33m]\u001b[39m\u001b[0m, \u001b[33m[\u001b[39m \u001b[0m%2\u001b[0m, \u001b[91m%vector.body\u001b[39m \u001b[33m]\u001b[39m\n",
      "  \u001b[0m%vec.phi7 \u001b[0m= \u001b[96m\u001b[1mphi\u001b[22m\u001b[39m \u001b[33m<\u001b[39m\u001b[33m4\u001b[39m \u001b[0mx \u001b[36mdouble\u001b[39m\u001b[33m>\u001b[39m \u001b[33m[\u001b[39m \u001b[95mzeroinitializer\u001b[39m\u001b[0m, \u001b[91m%vector.ph\u001b[39m \u001b[33m]\u001b[39m\u001b[0m, \u001b[33m[\u001b[39m \u001b[0m%3\u001b[0m, \u001b[91m%vector.body\u001b[39m \u001b[33m]\u001b[39m\n",
      "  \u001b[0m%vec.phi8 \u001b[0m= \u001b[96m\u001b[1mphi\u001b[22m\u001b[39m \u001b[33m<\u001b[39m\u001b[33m4\u001b[39m \u001b[0mx \u001b[36mdouble\u001b[39m\u001b[33m>\u001b[39m \u001b[33m[\u001b[39m \u001b[95mzeroinitializer\u001b[39m\u001b[0m, \u001b[91m%vector.ph\u001b[39m \u001b[33m]\u001b[39m\u001b[0m, \u001b[33m[\u001b[39m \u001b[0m%4\u001b[0m, \u001b[91m%vector.body\u001b[39m \u001b[33m]\u001b[39m\n",
      "  \u001b[0m%vec.phi9 \u001b[0m= \u001b[96m\u001b[1mphi\u001b[22m\u001b[39m \u001b[33m<\u001b[39m\u001b[33m4\u001b[39m \u001b[0mx \u001b[36mdouble\u001b[39m\u001b[33m>\u001b[39m \u001b[33m[\u001b[39m \u001b[95mzeroinitializer\u001b[39m\u001b[0m, \u001b[91m%vector.ph\u001b[39m \u001b[33m]\u001b[39m\u001b[0m, \u001b[33m[\u001b[39m \u001b[0m%5\u001b[0m, \u001b[91m%vector.body\u001b[39m \u001b[33m]\u001b[39m\n",
      "  \u001b[0m%2 \u001b[0m= \u001b[96m\u001b[1mfadd\u001b[22m\u001b[39m \u001b[95mfast\u001b[39m \u001b[33m<\u001b[39m\u001b[33m4\u001b[39m \u001b[0mx \u001b[36mdouble\u001b[39m\u001b[33m>\u001b[39m \u001b[0m%vec.phi\u001b[0m, \u001b[33m<\u001b[39m\u001b[36mdouble\u001b[39m \u001b[33m1.000000e+00\u001b[39m\u001b[0m, \u001b[36mdouble\u001b[39m \u001b[33m1.000000e+00\u001b[39m\u001b[0m, \u001b[36mdouble\u001b[39m \u001b[33m1.000000e+00\u001b[39m\u001b[0m, \u001b[36mdouble\u001b[39m \u001b[33m1.000000e+00\u001b[39m\u001b[33m>\u001b[39m\n",
      "  \u001b[0m%3 \u001b[0m= \u001b[96m\u001b[1mfadd\u001b[22m\u001b[39m \u001b[95mfast\u001b[39m \u001b[33m<\u001b[39m\u001b[33m4\u001b[39m \u001b[0mx \u001b[36mdouble\u001b[39m\u001b[33m>\u001b[39m \u001b[0m%vec.phi7\u001b[0m, \u001b[33m<\u001b[39m\u001b[36mdouble\u001b[39m \u001b[33m1.000000e+00\u001b[39m\u001b[0m, \u001b[36mdouble\u001b[39m \u001b[33m1.000000e+00\u001b[39m\u001b[0m, \u001b[36mdouble\u001b[39m \u001b[33m1.000000e+00\u001b[39m\u001b[0m, \u001b[36mdouble\u001b[39m \u001b[33m1.000000e+00\u001b[39m\u001b[33m>\u001b[39m\n",
      "  \u001b[0m%4 \u001b[0m= \u001b[96m\u001b[1mfadd\u001b[22m\u001b[39m \u001b[95mfast\u001b[39m \u001b[33m<\u001b[39m\u001b[33m4\u001b[39m \u001b[0mx \u001b[36mdouble\u001b[39m\u001b[33m>\u001b[39m \u001b[0m%vec.phi8\u001b[0m, \u001b[33m<\u001b[39m\u001b[36mdouble\u001b[39m \u001b[33m1.000000e+00\u001b[39m\u001b[0m, \u001b[36mdouble\u001b[39m \u001b[33m1.000000e+00\u001b[39m\u001b[0m, \u001b[36mdouble\u001b[39m \u001b[33m1.000000e+00\u001b[39m\u001b[0m, \u001b[36mdouble\u001b[39m \u001b[33m1.000000e+00\u001b[39m\u001b[33m>\u001b[39m\n",
      "  \u001b[0m%5 \u001b[0m= \u001b[96m\u001b[1mfadd\u001b[22m\u001b[39m \u001b[95mfast\u001b[39m \u001b[33m<\u001b[39m\u001b[33m4\u001b[39m \u001b[0mx \u001b[36mdouble\u001b[39m\u001b[33m>\u001b[39m \u001b[0m%vec.phi9\u001b[0m, \u001b[33m<\u001b[39m\u001b[36mdouble\u001b[39m \u001b[33m1.000000e+00\u001b[39m\u001b[0m, \u001b[36mdouble\u001b[39m \u001b[33m1.000000e+00\u001b[39m\u001b[0m, \u001b[36mdouble\u001b[39m \u001b[33m1.000000e+00\u001b[39m\u001b[0m, \u001b[36mdouble\u001b[39m \u001b[33m1.000000e+00\u001b[39m\u001b[33m>\u001b[39m\n",
      "  \u001b[0m%index.next \u001b[0m= \u001b[96m\u001b[1madd\u001b[22m\u001b[39m \u001b[36mi64\u001b[39m \u001b[0m%index\u001b[0m, \u001b[33m16\u001b[39m\n",
      "  \u001b[0m%6 \u001b[0m= \u001b[96m\u001b[1micmp\u001b[22m\u001b[39m \u001b[96m\u001b[1meq\u001b[22m\u001b[39m \u001b[36mi64\u001b[39m \u001b[0m%index.next\u001b[0m, \u001b[0m%n.vec\n",
      "  \u001b[96m\u001b[1mbr\u001b[22m\u001b[39m \u001b[36mi1\u001b[39m \u001b[0m%6\u001b[0m, \u001b[36mlabel\u001b[39m \u001b[91m%middle.block\u001b[39m\u001b[0m, \u001b[36mlabel\u001b[39m \u001b[91m%vector.body\u001b[39m\n",
      "\n",
      "\u001b[91mmiddle.block:\u001b[39m                                     \u001b[90m; preds = %vector.body\u001b[39m\n",
      "  \u001b[0m%bin.rdx \u001b[0m= \u001b[96m\u001b[1mfadd\u001b[22m\u001b[39m \u001b[95mfast\u001b[39m \u001b[33m<\u001b[39m\u001b[33m4\u001b[39m \u001b[0mx \u001b[36mdouble\u001b[39m\u001b[33m>\u001b[39m \u001b[0m%3\u001b[0m, \u001b[0m%2\n",
      "  \u001b[0m%bin.rdx10 \u001b[0m= \u001b[96m\u001b[1mfadd\u001b[22m\u001b[39m \u001b[95mfast\u001b[39m \u001b[33m<\u001b[39m\u001b[33m4\u001b[39m \u001b[0mx \u001b[36mdouble\u001b[39m\u001b[33m>\u001b[39m \u001b[0m%4\u001b[0m, \u001b[0m%bin.rdx\n",
      "  \u001b[0m%bin.rdx11 \u001b[0m= \u001b[96m\u001b[1mfadd\u001b[22m\u001b[39m \u001b[95mfast\u001b[39m \u001b[33m<\u001b[39m\u001b[33m4\u001b[39m \u001b[0mx \u001b[36mdouble\u001b[39m\u001b[33m>\u001b[39m \u001b[0m%5\u001b[0m, \u001b[0m%bin.rdx10\n",
      "  \u001b[0m%7 \u001b[0m= \u001b[96m\u001b[1mcall\u001b[22m\u001b[39m \u001b[95mfast\u001b[39m \u001b[36mdouble\u001b[39m \u001b[93m@llvm.vector.reduce.fadd.v4f64\u001b[39m\u001b[33m(\u001b[39m\u001b[36mdouble\u001b[39m \u001b[33m-0.000000e+00\u001b[39m\u001b[0m, \u001b[33m<\u001b[39m\u001b[33m4\u001b[39m \u001b[0mx \u001b[36mdouble\u001b[39m\u001b[33m>\u001b[39m \u001b[0m%bin.rdx11\u001b[33m)\u001b[39m\n",
      "  \u001b[0m%cmp.n \u001b[0m= \u001b[96m\u001b[1micmp\u001b[22m\u001b[39m \u001b[96m\u001b[1meq\u001b[22m\u001b[39m \u001b[36mi64\u001b[39m \u001b[0m%1\u001b[0m, \u001b[0m%n.vec\n",
      "  \u001b[96m\u001b[1mbr\u001b[22m\u001b[39m \u001b[36mi1\u001b[39m \u001b[0m%cmp.n\u001b[0m, \u001b[36mlabel\u001b[39m \u001b[91m%L38\u001b[39m\u001b[0m, \u001b[36mlabel\u001b[39m \u001b[91m%L14\u001b[39m\n",
      "\n",
      "\u001b[91mL14:\u001b[39m                                              \u001b[90m; preds = %L14, %middle.block, %L14.preheader\u001b[39m\n",
      "  \u001b[0m%value_phi16 \u001b[0m= \u001b[96m\u001b[1mphi\u001b[22m\u001b[39m \u001b[36mi64\u001b[39m \u001b[33m[\u001b[39m \u001b[0m%9\u001b[0m, \u001b[91m%L14\u001b[39m \u001b[33m]\u001b[39m\u001b[0m, \u001b[33m[\u001b[39m \u001b[0m%n.vec\u001b[0m, \u001b[91m%middle.block\u001b[39m \u001b[33m]\u001b[39m\u001b[0m, \u001b[33m[\u001b[39m \u001b[33m0\u001b[39m\u001b[0m, \u001b[91m%L14.preheader\u001b[39m \u001b[33m]\u001b[39m\n",
      "  \u001b[0m%value_phi5 \u001b[0m= \u001b[96m\u001b[1mphi\u001b[22m\u001b[39m \u001b[36mdouble\u001b[39m \u001b[33m[\u001b[39m \u001b[0m%8\u001b[0m, \u001b[91m%L14\u001b[39m \u001b[33m]\u001b[39m\u001b[0m, \u001b[33m[\u001b[39m \u001b[0m%7\u001b[0m, \u001b[91m%middle.block\u001b[39m \u001b[33m]\u001b[39m\u001b[0m, \u001b[33m[\u001b[39m \u001b[33m0.000000e+00\u001b[39m\u001b[0m, \u001b[91m%L14.preheader\u001b[39m \u001b[33m]\u001b[39m\n",
      "  \u001b[0m%8 \u001b[0m= \u001b[96m\u001b[1mfadd\u001b[22m\u001b[39m \u001b[95mfast\u001b[39m \u001b[36mdouble\u001b[39m \u001b[0m%value_phi5\u001b[0m, \u001b[33m1.000000e+00\u001b[39m\n",
      "  \u001b[0m%9 \u001b[0m= \u001b[96m\u001b[1madd\u001b[22m\u001b[39m \u001b[95mnuw\u001b[39m \u001b[95mnsw\u001b[39m \u001b[36mi64\u001b[39m \u001b[0m%value_phi16\u001b[0m, \u001b[33m1\u001b[39m\n",
      "  \u001b[0m%exitcond.not \u001b[0m= \u001b[96m\u001b[1micmp\u001b[22m\u001b[39m \u001b[96m\u001b[1meq\u001b[22m\u001b[39m \u001b[36mi64\u001b[39m \u001b[0m%9\u001b[0m, \u001b[0m%1\n",
      "  \u001b[96m\u001b[1mbr\u001b[22m\u001b[39m \u001b[36mi1\u001b[39m \u001b[0m%exitcond.not\u001b[0m, \u001b[36mlabel\u001b[39m \u001b[91m%L38\u001b[39m\u001b[0m, \u001b[36mlabel\u001b[39m \u001b[91m%L14\u001b[39m\n",
      "\n",
      "\u001b[91mL38:\u001b[39m                                              \u001b[90m; preds = %L14, %middle.block, %top\u001b[39m\n",
      "  \u001b[0m%value_phi3 \u001b[0m= \u001b[96m\u001b[1mphi\u001b[22m\u001b[39m \u001b[36mdouble\u001b[39m \u001b[33m[\u001b[39m \u001b[33m0.000000e+00\u001b[39m\u001b[0m, \u001b[91m%top\u001b[39m \u001b[33m]\u001b[39m\u001b[0m, \u001b[33m[\u001b[39m \u001b[0m%7\u001b[0m, \u001b[91m%middle.block\u001b[39m \u001b[33m]\u001b[39m\u001b[0m, \u001b[33m[\u001b[39m \u001b[0m%8\u001b[0m, \u001b[91m%L14\u001b[39m \u001b[33m]\u001b[39m\n",
      "  \u001b[96m\u001b[1mret\u001b[22m\u001b[39m \u001b[36mdouble\u001b[39m \u001b[0m%value_phi3\n",
      "\u001b[33m}\u001b[39m\n"
     ]
    }
   ],
   "source": [
    "@code_llvm debuginfo=:none l(10)"
   ]
  },
  {
   "cell_type": "markdown",
   "metadata": {
    "slideshow": {
     "slide_type": "slide"
    }
   },
   "source": [
    "# Let's revisit our example from earlier!\n",
    "\n",
    "Slightly more complicated function!\n",
    "\n",
    "- What is wrong with `mysum3(ones(10_000))`"
   ]
  },
  {
   "cell_type": "code",
   "execution_count": 61,
   "metadata": {
    "slideshow": {
     "slide_type": "fragment"
    }
   },
   "outputs": [
    {
     "data": {
      "text/plain": [
       "mysum3 (generic function with 1 method)"
      ]
     },
     "execution_count": 61,
     "metadata": {},
     "output_type": "execute_result"
    }
   ],
   "source": [
    "function mysum3(data::Vector{T}) where T<:Number\n",
    "  acc = zero(T)\n",
    "  @simd for x in data\n",
    "      acc += x\n",
    "  end\n",
    "  return acc\n",
    "end"
   ]
  },
  {
   "cell_type": "code",
   "execution_count": 62,
   "metadata": {
    "slideshow": {
     "slide_type": "subslide"
    }
   },
   "outputs": [
    {
     "name": "stdout",
     "output_type": "stream",
     "text": [
      "\u001b[90m;  @ In[61]:1 within `mysum3`\u001b[39m\n",
      "\u001b[95mdefine\u001b[39m \u001b[36mdouble\u001b[39m \u001b[93m@julia_mysum3_4706\u001b[39m\u001b[33m(\u001b[39m\u001b[33m{\u001b[39m\u001b[33m}\u001b[39m\u001b[0m* \u001b[95mnonnull\u001b[39m \u001b[95malign\u001b[39m \u001b[33m16\u001b[39m \u001b[95mdereferenceable\u001b[39m\u001b[33m(\u001b[39m\u001b[33m40\u001b[39m\u001b[33m)\u001b[39m \u001b[0m%0\u001b[33m)\u001b[39m \u001b[0m#0 \u001b[33m{\u001b[39m\n",
      "\u001b[91mtop:\u001b[39m\n",
      "\u001b[90m;  @ In[61]:3 within `mysum3`\u001b[39m\n",
      "\u001b[90m; ┌ @ simdloop.jl:71 within `macro expansion`\u001b[39m\n",
      "\u001b[90m; │┌ @ simdloop.jl:51 within `simd_inner_length`\u001b[39m\n",
      "\u001b[90m; ││┌ @ array.jl:215 within `length`\u001b[39m\n",
      "     \u001b[0m%1 \u001b[0m= \u001b[96m\u001b[1mbitcast\u001b[22m\u001b[39m \u001b[33m{\u001b[39m\u001b[33m}\u001b[39m\u001b[0m* \u001b[0m%0 \u001b[95mto\u001b[39m \u001b[33m{\u001b[39m \u001b[36mi8\u001b[39m\u001b[0m*\u001b[0m, \u001b[36mi64\u001b[39m\u001b[0m, \u001b[36mi16\u001b[39m\u001b[0m, \u001b[36mi16\u001b[39m\u001b[0m, \u001b[36mi32\u001b[39m \u001b[33m}\u001b[39m\u001b[0m*\n",
      "     \u001b[0m%2 \u001b[0m= \u001b[96m\u001b[1mgetelementptr\u001b[22m\u001b[39m \u001b[95minbounds\u001b[39m \u001b[33m{\u001b[39m \u001b[36mi8\u001b[39m\u001b[0m*\u001b[0m, \u001b[36mi64\u001b[39m\u001b[0m, \u001b[36mi16\u001b[39m\u001b[0m, \u001b[36mi16\u001b[39m\u001b[0m, \u001b[36mi32\u001b[39m \u001b[33m}\u001b[39m\u001b[0m, \u001b[33m{\u001b[39m \u001b[36mi8\u001b[39m\u001b[0m*\u001b[0m, \u001b[36mi64\u001b[39m\u001b[0m, \u001b[36mi16\u001b[39m\u001b[0m, \u001b[36mi16\u001b[39m\u001b[0m, \u001b[36mi32\u001b[39m \u001b[33m}\u001b[39m\u001b[0m* \u001b[0m%1\u001b[0m, \u001b[36mi64\u001b[39m \u001b[33m0\u001b[39m\u001b[0m, \u001b[36mi32\u001b[39m \u001b[33m1\u001b[39m\n",
      "     \u001b[0m%3 \u001b[0m= \u001b[96m\u001b[1mload\u001b[22m\u001b[39m \u001b[36mi64\u001b[39m\u001b[0m, \u001b[36mi64\u001b[39m\u001b[0m* \u001b[0m%2\u001b[0m, \u001b[95malign\u001b[39m \u001b[33m8\u001b[39m\n",
      "\u001b[90m; └└└\u001b[39m\n",
      "\u001b[90m; ┌ @ simdloop.jl:72 within `macro expansion`\u001b[39m\n",
      "\u001b[90m; │┌ @ int.jl:83 within `<`\u001b[39m\n",
      "    \u001b[0m%.not \u001b[0m= \u001b[96m\u001b[1micmp\u001b[22m\u001b[39m \u001b[96m\u001b[1meq\u001b[22m\u001b[39m \u001b[36mi64\u001b[39m \u001b[0m%3\u001b[0m, \u001b[33m0\u001b[39m\n",
      "\u001b[90m; │└\u001b[39m\n",
      "   \u001b[96m\u001b[1mbr\u001b[22m\u001b[39m \u001b[36mi1\u001b[39m \u001b[0m%.not\u001b[0m, \u001b[36mlabel\u001b[39m \u001b[91m%L18\u001b[39m\u001b[0m, \u001b[36mlabel\u001b[39m \u001b[91m%L10.lr.ph\u001b[39m\n",
      "\n",
      "\u001b[91mL10.lr.ph:\u001b[39m                                        \u001b[90m; preds = %top\u001b[39m\n",
      "   \u001b[0m%4 \u001b[0m= \u001b[96m\u001b[1mbitcast\u001b[22m\u001b[39m \u001b[33m{\u001b[39m\u001b[33m}\u001b[39m\u001b[0m* \u001b[0m%0 \u001b[95mto\u001b[39m \u001b[36mdouble\u001b[39m\u001b[0m**\n",
      "   \u001b[0m%5 \u001b[0m= \u001b[96m\u001b[1mload\u001b[22m\u001b[39m \u001b[36mdouble\u001b[39m\u001b[0m*\u001b[0m, \u001b[36mdouble\u001b[39m\u001b[0m** \u001b[0m%4\u001b[0m, \u001b[95malign\u001b[39m \u001b[33m8\u001b[39m\n",
      "\u001b[90m; └\u001b[39m\n",
      "\u001b[90m; ┌ @ simdloop.jl:75 within `macro expansion`\u001b[39m\n",
      "   \u001b[0m%min.iters.check \u001b[0m= \u001b[96m\u001b[1micmp\u001b[22m\u001b[39m \u001b[96m\u001b[1mult\u001b[22m\u001b[39m \u001b[36mi64\u001b[39m \u001b[0m%3\u001b[0m, \u001b[33m16\u001b[39m\n",
      "   \u001b[96m\u001b[1mbr\u001b[22m\u001b[39m \u001b[36mi1\u001b[39m \u001b[0m%min.iters.check\u001b[0m, \u001b[36mlabel\u001b[39m \u001b[91m%L10\u001b[39m\u001b[0m, \u001b[36mlabel\u001b[39m \u001b[91m%vector.ph\u001b[39m\n",
      "\n",
      "\u001b[91mvector.ph:\u001b[39m                                        \u001b[90m; preds = %L10.lr.ph\u001b[39m\n",
      "   \u001b[0m%n.vec \u001b[0m= \u001b[96m\u001b[1mand\u001b[22m\u001b[39m \u001b[36mi64\u001b[39m \u001b[0m%3\u001b[0m, \u001b[33m9223372036854775792\u001b[39m\n",
      "   \u001b[96m\u001b[1mbr\u001b[22m\u001b[39m \u001b[36mlabel\u001b[39m \u001b[91m%vector.body\u001b[39m\n",
      "\n",
      "\u001b[91mvector.body:\u001b[39m                                      \u001b[90m; preds = %vector.body, %vector.ph\u001b[39m\n",
      "\u001b[90m; └\u001b[39m\n",
      "\u001b[90m; ┌ @ simdloop.jl:78 within `macro expansion`\u001b[39m\n",
      "\u001b[90m; │┌ @ int.jl:87 within `+`\u001b[39m\n",
      "    \u001b[0m%index \u001b[0m= \u001b[96m\u001b[1mphi\u001b[22m\u001b[39m \u001b[36mi64\u001b[39m \u001b[33m[\u001b[39m \u001b[33m0\u001b[39m\u001b[0m, \u001b[91m%vector.ph\u001b[39m \u001b[33m]\u001b[39m\u001b[0m, \u001b[33m[\u001b[39m \u001b[0m%index.next\u001b[0m, \u001b[91m%vector.body\u001b[39m \u001b[33m]\u001b[39m\n",
      "    \u001b[0m%vec.phi \u001b[0m= \u001b[96m\u001b[1mphi\u001b[22m\u001b[39m \u001b[33m<\u001b[39m\u001b[33m4\u001b[39m \u001b[0mx \u001b[36mdouble\u001b[39m\u001b[33m>\u001b[39m \u001b[33m[\u001b[39m \u001b[95mzeroinitializer\u001b[39m\u001b[0m, \u001b[91m%vector.ph\u001b[39m \u001b[33m]\u001b[39m\u001b[0m, \u001b[33m[\u001b[39m \u001b[0m%14\u001b[0m, \u001b[91m%vector.body\u001b[39m \u001b[33m]\u001b[39m\n",
      "    \u001b[0m%vec.phi9 \u001b[0m= \u001b[96m\u001b[1mphi\u001b[22m\u001b[39m \u001b[33m<\u001b[39m\u001b[33m4\u001b[39m \u001b[0mx \u001b[36mdouble\u001b[39m\u001b[33m>\u001b[39m \u001b[33m[\u001b[39m \u001b[95mzeroinitializer\u001b[39m\u001b[0m, \u001b[91m%vector.ph\u001b[39m \u001b[33m]\u001b[39m\u001b[0m, \u001b[33m[\u001b[39m \u001b[0m%15\u001b[0m, \u001b[91m%vector.body\u001b[39m \u001b[33m]\u001b[39m\n",
      "    \u001b[0m%vec.phi10 \u001b[0m= \u001b[96m\u001b[1mphi\u001b[22m\u001b[39m \u001b[33m<\u001b[39m\u001b[33m4\u001b[39m \u001b[0mx \u001b[36mdouble\u001b[39m\u001b[33m>\u001b[39m \u001b[33m[\u001b[39m \u001b[95mzeroinitializer\u001b[39m\u001b[0m, \u001b[91m%vector.ph\u001b[39m \u001b[33m]\u001b[39m\u001b[0m, \u001b[33m[\u001b[39m \u001b[0m%16\u001b[0m, \u001b[91m%vector.body\u001b[39m \u001b[33m]\u001b[39m\n",
      "    \u001b[0m%vec.phi11 \u001b[0m= \u001b[96m\u001b[1mphi\u001b[22m\u001b[39m \u001b[33m<\u001b[39m\u001b[33m4\u001b[39m \u001b[0mx \u001b[36mdouble\u001b[39m\u001b[33m>\u001b[39m \u001b[33m[\u001b[39m \u001b[95mzeroinitializer\u001b[39m\u001b[0m, \u001b[91m%vector.ph\u001b[39m \u001b[33m]\u001b[39m\u001b[0m, \u001b[33m[\u001b[39m \u001b[0m%17\u001b[0m, \u001b[91m%vector.body\u001b[39m \u001b[33m]\u001b[39m\n",
      "\u001b[90m; └└\u001b[39m\n",
      "\u001b[90m; ┌ @ simdloop.jl:76 within `macro expansion`\u001b[39m\n",
      "\u001b[90m; │┌ @ simdloop.jl:54 within `simd_index`\u001b[39m\n",
      "\u001b[90m; ││┌ @ array.jl:861 within `getindex`\u001b[39m\n",
      "     \u001b[0m%6 \u001b[0m= \u001b[96m\u001b[1mgetelementptr\u001b[22m\u001b[39m \u001b[95minbounds\u001b[39m \u001b[36mdouble\u001b[39m\u001b[0m, \u001b[36mdouble\u001b[39m\u001b[0m* \u001b[0m%5\u001b[0m, \u001b[36mi64\u001b[39m \u001b[0m%index\n",
      "     \u001b[0m%7 \u001b[0m= \u001b[96m\u001b[1mbitcast\u001b[22m\u001b[39m \u001b[36mdouble\u001b[39m\u001b[0m* \u001b[0m%6 \u001b[95mto\u001b[39m \u001b[33m<\u001b[39m\u001b[33m4\u001b[39m \u001b[0mx \u001b[36mdouble\u001b[39m\u001b[33m>\u001b[39m\u001b[0m*\n",
      "     \u001b[0m%wide.load \u001b[0m= \u001b[96m\u001b[1mload\u001b[22m\u001b[39m \u001b[33m<\u001b[39m\u001b[33m4\u001b[39m \u001b[0mx \u001b[36mdouble\u001b[39m\u001b[33m>\u001b[39m\u001b[0m, \u001b[33m<\u001b[39m\u001b[33m4\u001b[39m \u001b[0mx \u001b[36mdouble\u001b[39m\u001b[33m>\u001b[39m\u001b[0m* \u001b[0m%7\u001b[0m, \u001b[95malign\u001b[39m \u001b[33m8\u001b[39m\n",
      "     \u001b[0m%8 \u001b[0m= \u001b[96m\u001b[1mgetelementptr\u001b[22m\u001b[39m \u001b[95minbounds\u001b[39m \u001b[36mdouble\u001b[39m\u001b[0m, \u001b[36mdouble\u001b[39m\u001b[0m* \u001b[0m%6\u001b[0m, \u001b[36mi64\u001b[39m \u001b[33m4\u001b[39m\n",
      "     \u001b[0m%9 \u001b[0m= \u001b[96m\u001b[1mbitcast\u001b[22m\u001b[39m \u001b[36mdouble\u001b[39m\u001b[0m* \u001b[0m%8 \u001b[95mto\u001b[39m \u001b[33m<\u001b[39m\u001b[33m4\u001b[39m \u001b[0mx \u001b[36mdouble\u001b[39m\u001b[33m>\u001b[39m\u001b[0m*\n",
      "     \u001b[0m%wide.load12 \u001b[0m= \u001b[96m\u001b[1mload\u001b[22m\u001b[39m \u001b[33m<\u001b[39m\u001b[33m4\u001b[39m \u001b[0mx \u001b[36mdouble\u001b[39m\u001b[33m>\u001b[39m\u001b[0m, \u001b[33m<\u001b[39m\u001b[33m4\u001b[39m \u001b[0mx \u001b[36mdouble\u001b[39m\u001b[33m>\u001b[39m\u001b[0m* \u001b[0m%9\u001b[0m, \u001b[95malign\u001b[39m \u001b[33m8\u001b[39m\n",
      "     \u001b[0m%10 \u001b[0m= \u001b[96m\u001b[1mgetelementptr\u001b[22m\u001b[39m \u001b[95minbounds\u001b[39m \u001b[36mdouble\u001b[39m\u001b[0m, \u001b[36mdouble\u001b[39m\u001b[0m* \u001b[0m%6\u001b[0m, \u001b[36mi64\u001b[39m \u001b[33m8\u001b[39m\n",
      "     \u001b[0m%11 \u001b[0m= \u001b[96m\u001b[1mbitcast\u001b[22m\u001b[39m \u001b[36mdouble\u001b[39m\u001b[0m* \u001b[0m%10 \u001b[95mto\u001b[39m \u001b[33m<\u001b[39m\u001b[33m4\u001b[39m \u001b[0mx \u001b[36mdouble\u001b[39m\u001b[33m>\u001b[39m\u001b[0m*\n",
      "     \u001b[0m%wide.load13 \u001b[0m= \u001b[96m\u001b[1mload\u001b[22m\u001b[39m \u001b[33m<\u001b[39m\u001b[33m4\u001b[39m \u001b[0mx \u001b[36mdouble\u001b[39m\u001b[33m>\u001b[39m\u001b[0m, \u001b[33m<\u001b[39m\u001b[33m4\u001b[39m \u001b[0mx \u001b[36mdouble\u001b[39m\u001b[33m>\u001b[39m\u001b[0m* \u001b[0m%11\u001b[0m, \u001b[95malign\u001b[39m \u001b[33m8\u001b[39m\n",
      "     \u001b[0m%12 \u001b[0m= \u001b[96m\u001b[1mgetelementptr\u001b[22m\u001b[39m \u001b[95minbounds\u001b[39m \u001b[36mdouble\u001b[39m\u001b[0m, \u001b[36mdouble\u001b[39m\u001b[0m* \u001b[0m%6\u001b[0m, \u001b[36mi64\u001b[39m \u001b[33m12\u001b[39m\n",
      "     \u001b[0m%13 \u001b[0m= \u001b[96m\u001b[1mbitcast\u001b[22m\u001b[39m \u001b[36mdouble\u001b[39m\u001b[0m* \u001b[0m%12 \u001b[95mto\u001b[39m \u001b[33m<\u001b[39m\u001b[33m4\u001b[39m \u001b[0mx \u001b[36mdouble\u001b[39m\u001b[33m>\u001b[39m\u001b[0m*\n",
      "     \u001b[0m%wide.load14 \u001b[0m= \u001b[96m\u001b[1mload\u001b[22m\u001b[39m \u001b[33m<\u001b[39m\u001b[33m4\u001b[39m \u001b[0mx \u001b[36mdouble\u001b[39m\u001b[33m>\u001b[39m\u001b[0m, \u001b[33m<\u001b[39m\u001b[33m4\u001b[39m \u001b[0mx \u001b[36mdouble\u001b[39m\u001b[33m>\u001b[39m\u001b[0m* \u001b[0m%13\u001b[0m, \u001b[95malign\u001b[39m \u001b[33m8\u001b[39m\n",
      "\u001b[90m; └└└\u001b[39m\n",
      "\u001b[90m; ┌ @ simdloop.jl:77 within `macro expansion` @ In[61]:4\u001b[39m\n",
      "\u001b[90m; │┌ @ float.jl:399 within `+`\u001b[39m\n",
      "    \u001b[0m%14 \u001b[0m= \u001b[96m\u001b[1mfadd\u001b[22m\u001b[39m \u001b[95mfast\u001b[39m \u001b[33m<\u001b[39m\u001b[33m4\u001b[39m \u001b[0mx \u001b[36mdouble\u001b[39m\u001b[33m>\u001b[39m \u001b[0m%vec.phi\u001b[0m, \u001b[0m%wide.load\n",
      "    \u001b[0m%15 \u001b[0m= \u001b[96m\u001b[1mfadd\u001b[22m\u001b[39m \u001b[95mfast\u001b[39m \u001b[33m<\u001b[39m\u001b[33m4\u001b[39m \u001b[0mx \u001b[36mdouble\u001b[39m\u001b[33m>\u001b[39m \u001b[0m%vec.phi9\u001b[0m, \u001b[0m%wide.load12\n",
      "    \u001b[0m%16 \u001b[0m= \u001b[96m\u001b[1mfadd\u001b[22m\u001b[39m \u001b[95mfast\u001b[39m \u001b[33m<\u001b[39m\u001b[33m4\u001b[39m \u001b[0mx \u001b[36mdouble\u001b[39m\u001b[33m>\u001b[39m \u001b[0m%vec.phi10\u001b[0m, \u001b[0m%wide.load13\n",
      "    \u001b[0m%17 \u001b[0m= \u001b[96m\u001b[1mfadd\u001b[22m\u001b[39m \u001b[95mfast\u001b[39m \u001b[33m<\u001b[39m\u001b[33m4\u001b[39m \u001b[0mx \u001b[36mdouble\u001b[39m\u001b[33m>\u001b[39m \u001b[0m%vec.phi11\u001b[0m, \u001b[0m%wide.load14\n",
      "\u001b[90m; └└\u001b[39m\n",
      "\u001b[90m; ┌ @ simdloop.jl:78 within `macro expansion`\u001b[39m\n",
      "\u001b[90m; │┌ @ int.jl:87 within `+`\u001b[39m\n",
      "    \u001b[0m%index.next \u001b[0m= \u001b[96m\u001b[1madd\u001b[22m\u001b[39m \u001b[36mi64\u001b[39m \u001b[0m%index\u001b[0m, \u001b[33m16\u001b[39m\n",
      "    \u001b[0m%18 \u001b[0m= \u001b[96m\u001b[1micmp\u001b[22m\u001b[39m \u001b[96m\u001b[1meq\u001b[22m\u001b[39m \u001b[36mi64\u001b[39m \u001b[0m%index.next\u001b[0m, \u001b[0m%n.vec\n",
      "    \u001b[96m\u001b[1mbr\u001b[22m\u001b[39m \u001b[36mi1\u001b[39m \u001b[0m%18\u001b[0m, \u001b[36mlabel\u001b[39m \u001b[91m%middle.block\u001b[39m\u001b[0m, \u001b[36mlabel\u001b[39m \u001b[91m%vector.body\u001b[39m\n",
      "\n",
      "\u001b[91mmiddle.block:\u001b[39m                                     \u001b[90m; preds = %vector.body\u001b[39m\n",
      "\u001b[90m; └└\u001b[39m\n",
      "\u001b[90m; ┌ @ simdloop.jl:75 within `macro expansion`\u001b[39m\n",
      "   \u001b[0m%bin.rdx \u001b[0m= \u001b[96m\u001b[1mfadd\u001b[22m\u001b[39m \u001b[95mfast\u001b[39m \u001b[33m<\u001b[39m\u001b[33m4\u001b[39m \u001b[0mx \u001b[36mdouble\u001b[39m\u001b[33m>\u001b[39m \u001b[0m%15\u001b[0m, \u001b[0m%14\n",
      "   \u001b[0m%bin.rdx15 \u001b[0m= \u001b[96m\u001b[1mfadd\u001b[22m\u001b[39m \u001b[95mfast\u001b[39m \u001b[33m<\u001b[39m\u001b[33m4\u001b[39m \u001b[0mx \u001b[36mdouble\u001b[39m\u001b[33m>\u001b[39m \u001b[0m%16\u001b[0m, \u001b[0m%bin.rdx\n",
      "   \u001b[0m%bin.rdx16 \u001b[0m= \u001b[96m\u001b[1mfadd\u001b[22m\u001b[39m \u001b[95mfast\u001b[39m \u001b[33m<\u001b[39m\u001b[33m4\u001b[39m \u001b[0mx \u001b[36mdouble\u001b[39m\u001b[33m>\u001b[39m \u001b[0m%17\u001b[0m, \u001b[0m%bin.rdx15\n",
      "   \u001b[0m%19 \u001b[0m= \u001b[96m\u001b[1mcall\u001b[22m\u001b[39m \u001b[95mfast\u001b[39m \u001b[36mdouble\u001b[39m \u001b[93m@llvm.vector.reduce.fadd.v4f64\u001b[39m\u001b[33m(\u001b[39m\u001b[36mdouble\u001b[39m \u001b[33m-0.000000e+00\u001b[39m\u001b[0m, \u001b[33m<\u001b[39m\u001b[33m4\u001b[39m \u001b[0mx \u001b[36mdouble\u001b[39m\u001b[33m>\u001b[39m \u001b[0m%bin.rdx16\u001b[33m)\u001b[39m\n",
      "   \u001b[0m%cmp.n \u001b[0m= \u001b[96m\u001b[1micmp\u001b[22m\u001b[39m \u001b[96m\u001b[1meq\u001b[22m\u001b[39m \u001b[36mi64\u001b[39m \u001b[0m%3\u001b[0m, \u001b[0m%n.vec\n",
      "   \u001b[96m\u001b[1mbr\u001b[22m\u001b[39m \u001b[36mi1\u001b[39m \u001b[0m%cmp.n\u001b[0m, \u001b[36mlabel\u001b[39m \u001b[91m%L18\u001b[39m\u001b[0m, \u001b[36mlabel\u001b[39m \u001b[91m%L10\u001b[39m\n",
      "\n",
      "\u001b[91mL10:\u001b[39m                                              \u001b[90m; preds = %L10, %middle.block, %L10.lr.ph\u001b[39m\n",
      "   \u001b[0m%value_phi18 \u001b[0m= \u001b[96m\u001b[1mphi\u001b[22m\u001b[39m \u001b[36mi64\u001b[39m \u001b[33m[\u001b[39m \u001b[0m%23\u001b[0m, \u001b[91m%L10\u001b[39m \u001b[33m]\u001b[39m\u001b[0m, \u001b[33m[\u001b[39m \u001b[0m%n.vec\u001b[0m, \u001b[91m%middle.block\u001b[39m \u001b[33m]\u001b[39m\u001b[0m, \u001b[33m[\u001b[39m \u001b[33m0\u001b[39m\u001b[0m, \u001b[91m%L10.lr.ph\u001b[39m \u001b[33m]\u001b[39m\n",
      "   \u001b[0m%value_phi7 \u001b[0m= \u001b[96m\u001b[1mphi\u001b[22m\u001b[39m \u001b[36mdouble\u001b[39m \u001b[33m[\u001b[39m \u001b[0m%22\u001b[0m, \u001b[91m%L10\u001b[39m \u001b[33m]\u001b[39m\u001b[0m, \u001b[33m[\u001b[39m \u001b[0m%19\u001b[0m, \u001b[91m%middle.block\u001b[39m \u001b[33m]\u001b[39m\u001b[0m, \u001b[33m[\u001b[39m \u001b[33m0.000000e+00\u001b[39m\u001b[0m, \u001b[91m%L10.lr.ph\u001b[39m \u001b[33m]\u001b[39m\n",
      "\u001b[90m; └\u001b[39m\n",
      "\u001b[90m; ┌ @ simdloop.jl:76 within `macro expansion`\u001b[39m\n",
      "\u001b[90m; │┌ @ simdloop.jl:54 within `simd_index`\u001b[39m\n",
      "\u001b[90m; ││┌ @ array.jl:861 within `getindex`\u001b[39m\n",
      "     \u001b[0m%20 \u001b[0m= \u001b[96m\u001b[1mgetelementptr\u001b[22m\u001b[39m \u001b[95minbounds\u001b[39m \u001b[36mdouble\u001b[39m\u001b[0m, \u001b[36mdouble\u001b[39m\u001b[0m* \u001b[0m%5\u001b[0m, \u001b[36mi64\u001b[39m \u001b[0m%value_phi18\n",
      "     \u001b[0m%21 \u001b[0m= \u001b[96m\u001b[1mload\u001b[22m\u001b[39m \u001b[36mdouble\u001b[39m\u001b[0m, \u001b[36mdouble\u001b[39m\u001b[0m* \u001b[0m%20\u001b[0m, \u001b[95malign\u001b[39m \u001b[33m8\u001b[39m\n",
      "\u001b[90m; └└└\u001b[39m\n",
      "\u001b[90m; ┌ @ simdloop.jl:77 within `macro expansion` @ In[61]:4\u001b[39m\n",
      "\u001b[90m; │┌ @ float.jl:399 within `+`\u001b[39m\n",
      "    \u001b[0m%22 \u001b[0m= \u001b[96m\u001b[1mfadd\u001b[22m\u001b[39m \u001b[95mfast\u001b[39m \u001b[36mdouble\u001b[39m \u001b[0m%value_phi7\u001b[0m, \u001b[0m%21\n",
      "\u001b[90m; └└\u001b[39m\n",
      "\u001b[90m; ┌ @ simdloop.jl:78 within `macro expansion`\u001b[39m\n",
      "\u001b[90m; │┌ @ int.jl:87 within `+`\u001b[39m\n",
      "    \u001b[0m%23 \u001b[0m= \u001b[96m\u001b[1madd\u001b[22m\u001b[39m \u001b[95mnuw\u001b[39m \u001b[95mnsw\u001b[39m \u001b[36mi64\u001b[39m \u001b[0m%value_phi18\u001b[0m, \u001b[33m1\u001b[39m\n",
      "\u001b[90m; └└\u001b[39m\n",
      "\u001b[90m; ┌ @ simdloop.jl:75 within `macro expansion`\u001b[39m\n",
      "\u001b[90m; │┌ @ int.jl:83 within `<`\u001b[39m\n"
     ]
    },
    {
     "name": "stdout",
     "output_type": "stream",
     "text": [
      "    \u001b[0m%exitcond.not \u001b[0m= \u001b[96m\u001b[1micmp\u001b[22m\u001b[39m \u001b[96m\u001b[1meq\u001b[22m\u001b[39m \u001b[36mi64\u001b[39m \u001b[0m%23\u001b[0m, \u001b[0m%3\n",
      "\u001b[90m; │└\u001b[39m\n",
      "   \u001b[96m\u001b[1mbr\u001b[22m\u001b[39m \u001b[36mi1\u001b[39m \u001b[0m%exitcond.not\u001b[0m, \u001b[36mlabel\u001b[39m \u001b[91m%L18\u001b[39m\u001b[0m, \u001b[36mlabel\u001b[39m \u001b[91m%L10\u001b[39m\n",
      "\n",
      "\u001b[91mL18:\u001b[39m                                              \u001b[90m; preds = %L10, %middle.block, %top\u001b[39m\n",
      "   \u001b[0m%value_phi2 \u001b[0m= \u001b[96m\u001b[1mphi\u001b[22m\u001b[39m \u001b[36mdouble\u001b[39m \u001b[33m[\u001b[39m \u001b[33m0.000000e+00\u001b[39m\u001b[0m, \u001b[91m%top\u001b[39m \u001b[33m]\u001b[39m\u001b[0m, \u001b[33m[\u001b[39m \u001b[0m%19\u001b[0m, \u001b[91m%middle.block\u001b[39m \u001b[33m]\u001b[39m\u001b[0m, \u001b[33m[\u001b[39m \u001b[0m%22\u001b[0m, \u001b[91m%L10\u001b[39m \u001b[33m]\u001b[39m\n",
      "\u001b[90m; └\u001b[39m\n",
      "\u001b[90m;  @ In[61]:6 within `mysum3`\u001b[39m\n",
      "  \u001b[96m\u001b[1mret\u001b[22m\u001b[39m \u001b[36mdouble\u001b[39m \u001b[0m%value_phi2\n",
      "\u001b[33m}\u001b[39m\n"
     ]
    }
   ],
   "source": [
    "@code_llvm mysum3(zeros(3))"
   ]
  }
 ],
 "metadata": {
  "@webio": {
   "lastCommId": "19454a92b9e645f18cab95ab26e386f6",
   "lastKernelId": "29f5e14e-3911-40d3-876a-5fb21cb7e556"
  },
  "celltoolbar": "Slideshow",
  "kernelspec": {
   "display_name": "Julia 1.7.1",
   "language": "julia",
   "name": "julia-1.7"
  },
  "language_info": {
   "file_extension": ".jl",
   "mimetype": "application/julia",
   "name": "julia",
   "version": "1.7.1"
  },
  "rise": {
   "scroll": true,
   "theme": "Serif"
  }
 },
 "nbformat": 4,
 "nbformat_minor": 4
}
