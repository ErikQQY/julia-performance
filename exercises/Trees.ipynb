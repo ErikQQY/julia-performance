{
 "cells": [
  {
   "cell_type": "markdown",
   "metadata": {},
   "source": [
    "# Simple trees"
   ]
  },
  {
   "cell_type": "markdown",
   "metadata": {},
   "source": [
    "A simple binary tree in C++ would look like this:\n",
    "```C++\n",
    "struct node {\n",
    "    double weight;\n",
    "    \n",
    "    node *left;\n",
    "    node *right;\n",
    "    node *parent;\n",
    "};\n",
    "```"
   ]
  },
  {
   "cell_type": "markdown",
   "metadata": {},
   "source": [
    "## Task 1\n",
    "\n",
    "Implement a binary tree in Julia."
   ]
  },
  {
   "cell_type": "markdown",
   "metadata": {},
   "source": [
    "## Task 2\n",
    "\n",
    "Visualize your trees (**TODO** use Keno's tree viz)"
   ]
  },
  {
   "cell_type": "markdown",
   "metadata": {},
   "source": [
    "## Task 3\n",
    "\n",
    "Implement both **Depth-First Search** and **Breadth-First Search**"
   ]
  },
  {
   "cell_type": "markdown",
   "metadata": {},
   "source": [
    "## Task 4 (after Lecture 2)\n",
    "\n",
    "Benchmark and profile your implementation, inspect the result of type-inference. "
   ]
  }
 ],
 "metadata": {
  "@webio": {
   "lastCommId": "82c479bfd0e34b5392eba273fd9e0ef3",
   "lastKernelId": "5aa5b58c-66cd-412f-8d23-22323fdfcff6"
  },
  "kernelspec": {
   "display_name": "Julia 1.1.1",
   "language": "julia",
   "name": "julia-1.1"
  },
  "language_info": {
   "file_extension": ".jl",
   "mimetype": "application/julia",
   "name": "julia",
   "version": "1.1.1"
  }
 },
 "nbformat": 4,
 "nbformat_minor": 2
}
