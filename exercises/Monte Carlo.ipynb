{
 "cells": [
  {
   "cell_type": "markdown",
   "metadata": {},
   "source": [
    "# Monte Carlo\n",
    "\n",
    "There are many different methods that all work under the basic Monte Carlo principle of using random numbers to integrate systems. For the sake of time and brevity, please refer to the following link for more information on Monte\n",
    "Carlo integration: http://leios.github.io/Batman_Montecarlo/. From there, modify the provided code to work in Julia and to integrate $x^2$ where $−3 < x < 3$.\n",
    "\n",
    "\n",
    "Write a function that reads in a total range in x along with the number of points to sample. Try to match (or beat) the following benchmark:"
   ]
  },
  {
   "cell_type": "markdown",
   "metadata": {},
   "source": [
    "```\n",
    "julia> @benchmark monte_carlo(6.0, 100000)\n",
    "BenchmarkTools.Trial: \n",
    "  memory estimate:  0 bytes\n",
    "  allocs estimate:  0\n",
    "  --------------\n",
    "  minimum time:     573.931 Î¼s (0.00% GC)\n",
    "  median time:      578.105 Î¼s (0.00% GC)\n",
    "  mean time:        596.870 Î¼s (0.00% GC)\n",
    "  maximum time:     1.125 ms (0.00% GC)\n",
    "  --------------\n",
    "  samples:          8326\n",
    "  evals/sample:     1\n",
    "```"
   ]
  },
  {
   "cell_type": "markdown",
   "metadata": {},
   "source": [
    "## Task 2 (after lecture 4)\n",
    "\n",
    "Use multithreading to speed up your implementation"
   ]
  }
 ],
 "metadata": {
  "@webio": {
   "lastCommId": null,
   "lastKernelId": null
  },
  "kernelspec": {
   "display_name": "Julia 1.2.0",
   "language": "julia",
   "name": "julia-1.2"
  },
  "language_info": {
   "file_extension": ".jl",
   "mimetype": "application/julia",
   "name": "julia",
   "version": "1.1.1"
  }
 },
 "nbformat": 4,
 "nbformat_minor": 2
}
